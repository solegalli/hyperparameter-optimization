{
 "cells": [
  {
   "cell_type": "code",
   "execution_count": 1,
   "metadata": {},
   "outputs": [],
   "source": [
    "from __future__ import division\n",
    "import numpy as np\n",
    "import matplotlib.pyplot as plt\n",
    "\n",
    "import seaborn as sns\n",
    "\n",
    "from scipy.stats import norm"
   ]
  },
  {
   "cell_type": "code",
   "execution_count": 2,
   "metadata": {},
   "outputs": [
    {
     "name": "stderr",
     "output_type": "stream",
     "text": [
      "c:\\users\\sole\\documents\\repositories\\envs\\html\\lib\\site-packages\\seaborn\\distributions.py:2557: FutureWarning: `distplot` is a deprecated function and will be removed in a future version. Please adapt your code to use either `displot` (a figure-level function with similar flexibility) or `histplot` (an axes-level function for histograms).\n",
      "  warnings.warn(msg, FutureWarning)\n",
      "c:\\users\\sole\\documents\\repositories\\envs\\html\\lib\\site-packages\\seaborn\\distributions.py:2557: FutureWarning: `distplot` is a deprecated function and will be removed in a future version. Please adapt your code to use either `displot` (a figure-level function with similar flexibility) or `histplot` (an axes-level function for histograms).\n",
      "  warnings.warn(msg, FutureWarning)\n",
      "c:\\users\\sole\\documents\\repositories\\envs\\html\\lib\\site-packages\\seaborn\\distributions.py:2557: FutureWarning: `distplot` is a deprecated function and will be removed in a future version. Please adapt your code to use either `displot` (a figure-level function with similar flexibility) or `histplot` (an axes-level function for histograms).\n",
      "  warnings.warn(msg, FutureWarning)\n"
     ]
    },
    {
     "data": {
      "image/png": "[encoded data removed]",
      "text/plain": [
       "<Figure size 720x504 with 1 Axes>"
      ]
     },
     "metadata": {
      "needs_background": "light"
     },
     "output_type": "display_data"
    }
   ],
   "source": [
    "np.random.seed(10)\n",
    "\n",
    "n = 1000\n",
    "\n",
    "x0 = np.random.normal(loc=0.0, scale=1.0, size=n)\n",
    "x1 = np.random.normal(loc=2, scale=0.5, size=n)\n",
    "x2 = np.random.normal(loc=2, scale=4, size=n)\n",
    "\n",
    "plt.figure(figsize=(10,7))\n",
    "sns.histplot(x0, color=\"dodgerblue\", label=\"x0\", kde=True, stat=\"density\")\n",
    "sns.histplot(x1, color=\"orange\", label=\"x1\", kde=True, stat=\"density\")\n",
    "sns.histplot(x2, color=\"deeppink\", label=\"x2\", kde=True, stat=\"density\")\n",
    "plt.legend()\n",
    "plt.xlabel(\"x\")\n",
    "plt.show()"
   ]
  },
  {
   "cell_type": "code",
   "execution_count": 3,
   "metadata": {},
   "outputs": [
    {
     "name": "stdout",
     "output_type": "stream",
     "text": [
      "mu:  1.9157844461236468\n",
      "improvement:  2\n",
      "scaled:  0.5\n",
      "0.6914624612740131\n",
      "0.3520653267642995\n"
     ]
    }
   ],
   "source": [
    "sigma = 4 # big variance\n",
    "# sigma = 0.5 # small sigma\n",
    "\n",
    "improve = np.mean(x2)- np.mean(x0)\n",
    "\n",
    "improve = 2-0\n",
    "scaled = improve / sigma\n",
    "print('mu: ', np.mean(x2))\n",
    "print('improvement: ', improve)\n",
    "print('scaled: ', scaled)\n",
    "print(norm.cdf(scaled))\n",
    "print(norm.pdf(scaled))"
   ]
  },
  {
   "cell_type": "code",
   "execution_count": 4,
   "metadata": {},
   "outputs": [
    {
     "name": "stdout",
     "output_type": "stream",
     "text": [
      "mu:  1.9944542342742262\n",
      "improvement:  2\n",
      "scaled:  4.0\n",
      "0.9999683287581669\n",
      "0.00013383022576488537\n"
     ]
    }
   ],
   "source": [
    "# sigma = 4 # big variance\n",
    "sigma = 0.5 # small sigma\n",
    "\n",
    "improve = np.mean(x1)- np.mean(x0)\n",
    "\n",
    "improve = 2-0\n",
    "\n",
    "scaled = improve / sigma\n",
    "\n",
    "print('mu: ', np.mean(x1))\n",
    "print('improvement: ', improve)\n",
    "print('scaled: ', scaled)\n",
    "print(norm.cdf(scaled))\n",
    "print(norm.pdf(scaled))"
   ]
  },
  {
   "cell_type": "code",
   "execution_count": 5,
   "metadata": {},
   "outputs": [
    {
     "data": {
      "text/plain": [
       "0.00013383022576488537"
      ]
     },
     "execution_count": 5,
     "metadata": {},
     "output_type": "execute_result"
    }
   ],
   "source": [
    "norm.pdf(scaled)"
   ]
  },
  {
   "cell_type": "code",
   "execution_count": null,
   "metadata": {},
   "outputs": [],
   "source": []
  }
 ],
 "metadata": {
  "kernelspec": {
   "display_name": "html",
   "language": "python",
   "name": "html"
  },
  "language_info": {
   "codemirror_mode": {
    "name": "ipython",
    "version": 3
   },
   "file_extension": ".py",
   "mimetype": "text/x-python",
   "name": "python",
   "nbconvert_exporter": "python",
   "pygments_lexer": "ipython3",
   "version": "3.8.2"
  },
  "toc": {
   "base_numbering": 1,
   "nav_menu": {},
   "number_sections": true,
   "sideBar": true,
   "skip_h1_title": false,
   "title_cell": "Table of Contents",
   "title_sidebar": "Contents",
   "toc_cell": false,
   "toc_position": {},
   "toc_section_display": true,
   "toc_window_display": false
  }
 },
 "nbformat": 4,
 "nbformat_minor": 4
}
