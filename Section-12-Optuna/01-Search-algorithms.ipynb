{
 "cells": [
  {
   "cell_type": "markdown",
   "metadata": {},
   "source": [
    "## Search algorithms within Optuna\n",
    "\n",
    "In this notebook, I will demo how to select the search algorithm with Optuna. We will compare the use of:\n",
    "\n",
    "- Grid Search \n",
    "- Randomized search\n",
    "- Tree-structured Parzen Estimators\n",
    "- CMA-ES\n",
    "\n",
    "\n",
    "We can select the search algorithm from the [optuna.study.create_study()](https://optuna.readthedocs.io/en/stable/reference/generated/optuna.study.create_study.html#optuna.study.create_study) class."
   ]
  },
  {
   "cell_type": "code",
   "execution_count": 1,
   "metadata": {},
   "outputs": [],
   "source": [
    "import numpy as np\n",
    "import pandas as pd\n",
    "import matplotlib.pyplot as plt\n",
    "\n",
    "from sklearn.datasets import load_breast_cancer\n",
    "from sklearn.metrics import accuracy_score, roc_auc_score\n",
    "from sklearn.model_selection import cross_val_score, train_test_split\n",
    "from sklearn.ensemble import RandomForestClassifier\n",
    "\n",
    "import optuna"
   ]
  },
  {
   "cell_type": "code",
   "execution_count": 2,
   "metadata": {},
   "outputs": [
    {
     "data": {
      "text/html": [
       "<div>\n",
       "<style scoped>\n",
       "    .dataframe tbody tr th:only-of-type {\n",
       "        vertical-align: middle;\n",
       "    }\n",
       "\n",
       "    .dataframe tbody tr th {\n",
       "        vertical-align: top;\n",
       "    }\n",
       "\n",
       "    .dataframe thead th {\n",
       "        text-align: right;\n",
       "    }\n",
       "</style>\n",
       "<table border=\"1\" class=\"dataframe\">\n",
       "  <thead>\n",
       "    <tr style=\"text-align: right;\">\n",
       "      <th></th>\n",
       "      <th>mean radius</th>\n",
       "      <th>mean texture</th>\n",
       "      <th>mean perimeter</th>\n",
       "      <th>mean area</th>\n",
       "      <th>mean smoothness</th>\n",
       "      <th>mean compactness</th>\n",
       "      <th>mean concavity</th>\n",
       "      <th>mean concave points</th>\n",
       "      <th>mean symmetry</th>\n",
       "      <th>mean fractal dimension</th>\n",
       "      <th>...</th>\n",
       "      <th>worst radius</th>\n",
       "      <th>worst texture</th>\n",
       "      <th>worst perimeter</th>\n",
       "      <th>worst area</th>\n",
       "      <th>worst smoothness</th>\n",
       "      <th>worst compactness</th>\n",
       "      <th>worst concavity</th>\n",
       "      <th>worst concave points</th>\n",
       "      <th>worst symmetry</th>\n",
       "      <th>worst fractal dimension</th>\n",
       "    </tr>\n",
       "  </thead>\n",
       "  <tbody>\n",
       "    <tr>\n",
       "      <th>0</th>\n",
       "      <td>17.99</td>\n",
       "      <td>10.38</td>\n",
       "      <td>122.80</td>\n",
       "      <td>1001.0</td>\n",
       "      <td>0.11840</td>\n",
       "      <td>0.27760</td>\n",
       "      <td>0.3001</td>\n",
       "      <td>0.14710</td>\n",
       "      <td>0.2419</td>\n",
       "      <td>0.07871</td>\n",
       "      <td>...</td>\n",
       "      <td>25.38</td>\n",
       "      <td>17.33</td>\n",
       "      <td>184.60</td>\n",
       "      <td>2019.0</td>\n",
       "      <td>0.1622</td>\n",
       "      <td>0.6656</td>\n",
       "      <td>0.7119</td>\n",
       "      <td>0.2654</td>\n",
       "      <td>0.4601</td>\n",
       "      <td>0.11890</td>\n",
       "    </tr>\n",
       "    <tr>\n",
       "      <th>1</th>\n",
       "      <td>20.57</td>\n",
       "      <td>17.77</td>\n",
       "      <td>132.90</td>\n",
       "      <td>1326.0</td>\n",
       "      <td>0.08474</td>\n",
       "      <td>0.07864</td>\n",
       "      <td>0.0869</td>\n",
       "      <td>0.07017</td>\n",
       "      <td>0.1812</td>\n",
       "      <td>0.05667</td>\n",
       "      <td>...</td>\n",
       "      <td>24.99</td>\n",
       "      <td>23.41</td>\n",
       "      <td>158.80</td>\n",
       "      <td>1956.0</td>\n",
       "      <td>0.1238</td>\n",
       "      <td>0.1866</td>\n",
       "      <td>0.2416</td>\n",
       "      <td>0.1860</td>\n",
       "      <td>0.2750</td>\n",
       "      <td>0.08902</td>\n",
       "    </tr>\n",
       "    <tr>\n",
       "      <th>2</th>\n",
       "      <td>19.69</td>\n",
       "      <td>21.25</td>\n",
       "      <td>130.00</td>\n",
       "      <td>1203.0</td>\n",
       "      <td>0.10960</td>\n",
       "      <td>0.15990</td>\n",
       "      <td>0.1974</td>\n",
       "      <td>0.12790</td>\n",
       "      <td>0.2069</td>\n",
       "      <td>0.05999</td>\n",
       "      <td>...</td>\n",
       "      <td>23.57</td>\n",
       "      <td>25.53</td>\n",
       "      <td>152.50</td>\n",
       "      <td>1709.0</td>\n",
       "      <td>0.1444</td>\n",
       "      <td>0.4245</td>\n",
       "      <td>0.4504</td>\n",
       "      <td>0.2430</td>\n",
       "      <td>0.3613</td>\n",
       "      <td>0.08758</td>\n",
       "    </tr>\n",
       "    <tr>\n",
       "      <th>3</th>\n",
       "      <td>11.42</td>\n",
       "      <td>20.38</td>\n",
       "      <td>77.58</td>\n",
       "      <td>386.1</td>\n",
       "      <td>0.14250</td>\n",
       "      <td>0.28390</td>\n",
       "      <td>0.2414</td>\n",
       "      <td>0.10520</td>\n",
       "      <td>0.2597</td>\n",
       "      <td>0.09744</td>\n",
       "      <td>...</td>\n",
       "      <td>14.91</td>\n",
       "      <td>26.50</td>\n",
       "      <td>98.87</td>\n",
       "      <td>567.7</td>\n",
       "      <td>0.2098</td>\n",
       "      <td>0.8663</td>\n",
       "      <td>0.6869</td>\n",
       "      <td>0.2575</td>\n",
       "      <td>0.6638</td>\n",
       "      <td>0.17300</td>\n",
       "    </tr>\n",
       "    <tr>\n",
       "      <th>4</th>\n",
       "      <td>20.29</td>\n",
       "      <td>14.34</td>\n",
       "      <td>135.10</td>\n",
       "      <td>1297.0</td>\n",
       "      <td>0.10030</td>\n",
       "      <td>0.13280</td>\n",
       "      <td>0.1980</td>\n",
       "      <td>0.10430</td>\n",
       "      <td>0.1809</td>\n",
       "      <td>0.05883</td>\n",
       "      <td>...</td>\n",
       "      <td>22.54</td>\n",
       "      <td>16.67</td>\n",
       "      <td>152.20</td>\n",
       "      <td>1575.0</td>\n",
       "      <td>0.1374</td>\n",
       "      <td>0.2050</td>\n",
       "      <td>0.4000</td>\n",
       "      <td>0.1625</td>\n",
       "      <td>0.2364</td>\n",
       "      <td>0.07678</td>\n",
       "    </tr>\n",
       "  </tbody>\n",
       "</table>\n",
       "<p>5 rows × 30 columns</p>\n",
       "</div>"
      ],
      "text/plain": [
       "   mean radius  mean texture  mean perimeter  mean area  mean smoothness  \\\n",
       "0        17.99         10.38          122.80     1001.0          0.11840   \n",
       "1        20.57         17.77          132.90     1326.0          0.08474   \n",
       "2        19.69         21.25          130.00     1203.0          0.10960   \n",
       "3        11.42         20.38           77.58      386.1          0.14250   \n",
       "4        20.29         14.34          135.10     1297.0          0.10030   \n",
       "\n",
       "   mean compactness  mean concavity  mean concave points  mean symmetry  \\\n",
       "0           0.27760          0.3001              0.14710         0.2419   \n",
       "1           0.07864          0.0869              0.07017         0.1812   \n",
       "2           0.15990          0.1974              0.12790         0.2069   \n",
       "3           0.28390          0.2414              0.10520         0.2597   \n",
       "4           0.13280          0.1980              0.10430         0.1809   \n",
       "\n",
       "   mean fractal dimension  ...  worst radius  worst texture  worst perimeter  \\\n",
       "0                 0.07871  ...         25.38          17.33           184.60   \n",
       "1                 0.05667  ...         24.99          23.41           158.80   \n",
       "2                 0.05999  ...         23.57          25.53           152.50   \n",
       "3                 0.09744  ...         14.91          26.50            98.87   \n",
       "4                 0.05883  ...         22.54          16.67           152.20   \n",
       "\n",
       "   worst area  worst smoothness  worst compactness  worst concavity  \\\n",
       "0      2019.0            0.1622             0.6656           0.7119   \n",
       "1      1956.0            0.1238             0.1866           0.2416   \n",
       "2      1709.0            0.1444             0.4245           0.4504   \n",
       "3       567.7            0.2098             0.8663           0.6869   \n",
       "4      1575.0            0.1374             0.2050           0.4000   \n",
       "\n",
       "   worst concave points  worst symmetry  worst fractal dimension  \n",
       "0                0.2654          0.4601                  0.11890  \n",
       "1                0.1860          0.2750                  0.08902  \n",
       "2                0.2430          0.3613                  0.08758  \n",
       "3                0.2575          0.6638                  0.17300  \n",
       "4                0.1625          0.2364                  0.07678  \n",
       "\n",
       "[5 rows x 30 columns]"
      ]
     },
     "execution_count": 2,
     "metadata": {},
     "output_type": "execute_result"
    }
   ],
   "source": [
    "# load dataset\n",
    "\n",
    "X, y = load_breast_cancer(return_X_y=True, as_frame=True)\n",
    "y = y.map({0:1, 1:0})\n",
    "\n",
    "X.head()"
   ]
  },
  {
   "cell_type": "code",
   "execution_count": 3,
   "metadata": {},
   "outputs": [
    {
     "data": {
      "text/plain": [
       "target\n",
       "0    0.627417\n",
       "1    0.372583\n",
       "Name: count, dtype: float64"
      ]
     },
     "execution_count": 3,
     "metadata": {},
     "output_type": "execute_result"
    }
   ],
   "source": [
    "# the target:\n",
    "# percentage of benign (0) and malign tumors (1)\n",
    "\n",
    "y.value_counts() / len(y)"
   ]
  },
  {
   "cell_type": "code",
   "execution_count": 4,
   "metadata": {},
   "outputs": [
    {
     "data": {
      "text/plain": [
       "((398, 30), (171, 30))"
      ]
     },
     "execution_count": 4,
     "metadata": {},
     "output_type": "execute_result"
    }
   ],
   "source": [
    "# split dataset into a train and test set\n",
    "\n",
    "X_train, X_test, y_train, y_test = train_test_split(\n",
    "    X, y, test_size=0.3, random_state=0)\n",
    "\n",
    "X_train.shape, X_test.shape"
   ]
  },
  {
   "cell_type": "markdown",
   "metadata": {},
   "source": [
    "## Define the objective function\n",
    "\n",
    "This is the hyperparameter response space, the function we want to minimize."
   ]
  },
  {
   "cell_type": "code",
   "execution_count": 5,
   "metadata": {},
   "outputs": [],
   "source": [
    "# the objective function takes the hyperparameter space\n",
    "# as input\n",
    "\n",
    "def objective(trial):\n",
    "\n",
    "    rf_n_estimators = trial.suggest_int(\"rf_n_estimators\", 100, 1000)\n",
    "    rf_criterion = trial.suggest_categorical(\"rf_criterion\", ['gini', 'entropy'])\n",
    "    rf_max_depth = trial.suggest_int(\"rf_max_depth\", 1, 4)\n",
    "    rf_min_samples_split = trial.suggest_float(\"rf_min_samples_split\", 0.01, 1)\n",
    "    \n",
    "    model = RandomForestClassifier(\n",
    "        n_estimators=rf_n_estimators,\n",
    "        criterion=rf_criterion,\n",
    "        max_depth=rf_max_depth,\n",
    "        min_samples_split=rf_min_samples_split,\n",
    "    )\n",
    "\n",
    "    score = cross_val_score(model, X_train, y_train, cv=3)\n",
    "    accuracy = score.mean()\n",
    "    return accuracy"
   ]
  },
  {
   "cell_type": "markdown",
   "metadata": {},
   "source": [
    "## Randomized Search\n",
    "\n",
    "[RandomSampler()](https://optuna.readthedocs.io/en/stable/reference/samplers/generated/optuna.samplers.RandomSampler.html)"
   ]
  },
  {
   "cell_type": "code",
   "execution_count": 6,
   "metadata": {},
   "outputs": [
    {
     "name": "stderr",
     "output_type": "stream",
     "text": [
      "[I 2024-09-20 16:41:02,347] A new study created in memory with name: no-name-e785a997-a9fd-4b7c-839d-146c31b68cf2\n",
      "[I 2024-09-20 16:41:03,241] Trial 0 finished with value: 0.9422609554188502 and parameters: {'rf_n_estimators': 129, 'rf_criterion': 'entropy', 'rf_max_depth': 4, 'rf_min_samples_split': 0.015498666069839021}. Best is trial 0 with value: 0.9422609554188502.\n",
      "[I 2024-09-20 16:41:05,044] Trial 1 finished with value: 0.9396597554492291 and parameters: {'rf_n_estimators': 215, 'rf_criterion': 'entropy', 'rf_max_depth': 2, 'rf_min_samples_split': 0.33568182108535777}. Best is trial 0 with value: 0.9422609554188502.\n",
      "[I 2024-09-20 16:41:05,894] Trial 2 finished with value: 0.9447482342219184 and parameters: {'rf_n_estimators': 101, 'rf_criterion': 'gini', 'rf_max_depth': 2, 'rf_min_samples_split': 0.02157539411677134}. Best is trial 2 with value: 0.9447482342219184.\n",
      "[I 2024-09-20 16:41:10,880] Trial 3 finished with value: 0.6256360598465861 and parameters: {'rf_n_estimators': 671, 'rf_criterion': 'gini', 'rf_max_depth': 1, 'rf_min_samples_split': 0.6786433709112654}. Best is trial 2 with value: 0.9447482342219184.\n",
      "[I 2024-09-20 16:41:15,902] Trial 4 finished with value: 0.9221538695222905 and parameters: {'rf_n_estimators': 901, 'rf_criterion': 'entropy', 'rf_max_depth': 4, 'rf_min_samples_split': 0.5041971438580224}. Best is trial 2 with value: 0.9447482342219184.\n",
      "[I 2024-09-20 16:41:17,588] Trial 5 finished with value: 0.937191463507253 and parameters: {'rf_n_estimators': 290, 'rf_criterion': 'gini', 'rf_max_depth': 3, 'rf_min_samples_split': 0.4105702325846195}. Best is trial 2 with value: 0.9447482342219184.\n",
      "[I 2024-09-20 16:41:22,405] Trial 6 finished with value: 0.9196476038581302 and parameters: {'rf_n_estimators': 729, 'rf_criterion': 'entropy', 'rf_max_depth': 1, 'rf_min_samples_split': 0.17149598897634433}. Best is trial 2 with value: 0.9447482342219184.\n",
      "[I 2024-09-20 16:41:27,466] Trial 7 finished with value: 0.937191463507253 and parameters: {'rf_n_estimators': 772, 'rf_criterion': 'gini', 'rf_max_depth': 4, 'rf_min_samples_split': 0.4272375779594198}. Best is trial 2 with value: 0.9447482342219184.\n",
      "[I 2024-09-20 16:41:33,384] Trial 8 finished with value: 0.937210450368345 and parameters: {'rf_n_estimators': 914, 'rf_criterion': 'entropy', 'rf_max_depth': 3, 'rf_min_samples_split': 0.15556086360473306}. Best is trial 2 with value: 0.9447482342219184.\n",
      "[I 2024-09-20 16:41:36,825] Trial 9 finished with value: 0.9171223513328776 and parameters: {'rf_n_estimators': 573, 'rf_criterion': 'entropy', 'rf_max_depth': 1, 'rf_min_samples_split': 0.5981337192844868}. Best is trial 2 with value: 0.9447482342219184.\n",
      "[I 2024-09-20 16:41:40,998] Trial 10 finished with value: 0.9346662109820004 and parameters: {'rf_n_estimators': 695, 'rf_criterion': 'gini', 'rf_max_depth': 3, 'rf_min_samples_split': 0.4092935526742919}. Best is trial 2 with value: 0.9447482342219184.\n",
      "[I 2024-09-20 16:41:41,789] Trial 11 finished with value: 0.9146350725298094 and parameters: {'rf_n_estimators': 143, 'rf_criterion': 'gini', 'rf_max_depth': 2, 'rf_min_samples_split': 0.595411137413084}. Best is trial 2 with value: 0.9447482342219184.\n",
      "[I 2024-09-20 16:41:44,874] Trial 12 finished with value: 0.9346662109820004 and parameters: {'rf_n_estimators': 539, 'rf_criterion': 'gini', 'rf_max_depth': 2, 'rf_min_samples_split': 0.3000659773222081}. Best is trial 2 with value: 0.9447482342219184.\n",
      "[I 2024-09-20 16:41:48,472] Trial 13 finished with value: 0.9146160856687172 and parameters: {'rf_n_estimators': 678, 'rf_criterion': 'entropy', 'rf_max_depth': 1, 'rf_min_samples_split': 0.29259100720525133}. Best is trial 2 with value: 0.9447482342219184.\n",
      "[I 2024-09-20 16:41:49,430] Trial 14 finished with value: 0.6256360598465861 and parameters: {'rf_n_estimators': 209, 'rf_criterion': 'gini', 'rf_max_depth': 2, 'rf_min_samples_split': 0.7143067846527171}. Best is trial 2 with value: 0.9447482342219184.\n",
      "[I 2024-09-20 16:41:53,795] Trial 15 finished with value: 0.9371534897850687 and parameters: {'rf_n_estimators': 783, 'rf_criterion': 'gini', 'rf_max_depth': 3, 'rf_min_samples_split': 0.2672728862366143}. Best is trial 2 with value: 0.9447482342219184.\n",
      "[I 2024-09-20 16:41:56,153] Trial 16 finished with value: 0.937191463507253 and parameters: {'rf_n_estimators': 437, 'rf_criterion': 'gini', 'rf_max_depth': 2, 'rf_min_samples_split': 0.2571885362551377}. Best is trial 2 with value: 0.9447482342219184.\n",
      "[I 2024-09-20 16:42:01,288] Trial 17 finished with value: 0.9196286169970379 and parameters: {'rf_n_estimators': 996, 'rf_criterion': 'entropy', 'rf_max_depth': 3, 'rf_min_samples_split': 0.5653419710425172}. Best is trial 2 with value: 0.9447482342219184.\n",
      "[I 2024-09-20 16:42:03,065] Trial 18 finished with value: 0.6256360598465861 and parameters: {'rf_n_estimators': 406, 'rf_criterion': 'gini', 'rf_max_depth': 4, 'rf_min_samples_split': 0.7051811432575499}. Best is trial 2 with value: 0.9447482342219184.\n",
      "[I 2024-09-20 16:42:05,874] Trial 19 finished with value: 0.6256360598465861 and parameters: {'rf_n_estimators': 550, 'rf_criterion': 'gini', 'rf_max_depth': 2, 'rf_min_samples_split': 0.8435955067909879}. Best is trial 2 with value: 0.9447482342219184.\n"
     ]
    }
   ],
   "source": [
    "study = optuna.create_study(\n",
    "    direction=\"maximize\",\n",
    "    sampler=optuna.samplers.RandomSampler(),\n",
    ")\n",
    "\n",
    "\n",
    "study.optimize(objective, n_trials=20)"
   ]
  },
  {
   "cell_type": "code",
   "execution_count": 7,
   "metadata": {},
   "outputs": [
    {
     "data": {
      "text/plain": [
       "{'rf_n_estimators': 101,\n",
       " 'rf_criterion': 'gini',\n",
       " 'rf_max_depth': 2,\n",
       " 'rf_min_samples_split': 0.02157539411677134}"
      ]
     },
     "execution_count": 7,
     "metadata": {},
     "output_type": "execute_result"
    }
   ],
   "source": [
    "study.best_params"
   ]
  },
  {
   "cell_type": "code",
   "execution_count": 8,
   "metadata": {},
   "outputs": [
    {
     "data": {
      "text/plain": [
       "0.9447482342219184"
      ]
     },
     "execution_count": 8,
     "metadata": {},
     "output_type": "execute_result"
    }
   ],
   "source": [
    "study.best_value"
   ]
  },
  {
   "cell_type": "code",
   "execution_count": 9,
   "metadata": {},
   "outputs": [
    {
     "data": {
      "text/html": [
       "<div>\n",
       "<style scoped>\n",
       "    .dataframe tbody tr th:only-of-type {\n",
       "        vertical-align: middle;\n",
       "    }\n",
       "\n",
       "    .dataframe tbody tr th {\n",
       "        vertical-align: top;\n",
       "    }\n",
       "\n",
       "    .dataframe thead th {\n",
       "        text-align: right;\n",
       "    }\n",
       "</style>\n",
       "<table border=\"1\" class=\"dataframe\">\n",
       "  <thead>\n",
       "    <tr style=\"text-align: right;\">\n",
       "      <th></th>\n",
       "      <th>number</th>\n",
       "      <th>value</th>\n",
       "      <th>datetime_start</th>\n",
       "      <th>datetime_complete</th>\n",
       "      <th>duration</th>\n",
       "      <th>params_rf_criterion</th>\n",
       "      <th>params_rf_max_depth</th>\n",
       "      <th>params_rf_min_samples_split</th>\n",
       "      <th>params_rf_n_estimators</th>\n",
       "      <th>state</th>\n",
       "    </tr>\n",
       "  </thead>\n",
       "  <tbody>\n",
       "    <tr>\n",
       "      <th>0</th>\n",
       "      <td>0</td>\n",
       "      <td>0.942261</td>\n",
       "      <td>2024-09-20 16:41:02.353845</td>\n",
       "      <td>2024-09-20 16:41:03.240357</td>\n",
       "      <td>0 days 00:00:00.886512</td>\n",
       "      <td>entropy</td>\n",
       "      <td>4</td>\n",
       "      <td>0.015499</td>\n",
       "      <td>129</td>\n",
       "      <td>COMPLETE</td>\n",
       "    </tr>\n",
       "    <tr>\n",
       "      <th>1</th>\n",
       "      <td>1</td>\n",
       "      <td>0.939660</td>\n",
       "      <td>2024-09-20 16:41:03.241356</td>\n",
       "      <td>2024-09-20 16:41:05.043546</td>\n",
       "      <td>0 days 00:00:01.802190</td>\n",
       "      <td>entropy</td>\n",
       "      <td>2</td>\n",
       "      <td>0.335682</td>\n",
       "      <td>215</td>\n",
       "      <td>COMPLETE</td>\n",
       "    </tr>\n",
       "    <tr>\n",
       "      <th>2</th>\n",
       "      <td>2</td>\n",
       "      <td>0.944748</td>\n",
       "      <td>2024-09-20 16:41:05.045543</td>\n",
       "      <td>2024-09-20 16:41:05.893923</td>\n",
       "      <td>0 days 00:00:00.848380</td>\n",
       "      <td>gini</td>\n",
       "      <td>2</td>\n",
       "      <td>0.021575</td>\n",
       "      <td>101</td>\n",
       "      <td>COMPLETE</td>\n",
       "    </tr>\n",
       "    <tr>\n",
       "      <th>3</th>\n",
       "      <td>3</td>\n",
       "      <td>0.625636</td>\n",
       "      <td>2024-09-20 16:41:05.895922</td>\n",
       "      <td>2024-09-20 16:41:10.880339</td>\n",
       "      <td>0 days 00:00:04.984417</td>\n",
       "      <td>gini</td>\n",
       "      <td>1</td>\n",
       "      <td>0.678643</td>\n",
       "      <td>671</td>\n",
       "      <td>COMPLETE</td>\n",
       "    </tr>\n",
       "    <tr>\n",
       "      <th>4</th>\n",
       "      <td>4</td>\n",
       "      <td>0.922154</td>\n",
       "      <td>2024-09-20 16:41:10.881337</td>\n",
       "      <td>2024-09-20 16:41:15.901539</td>\n",
       "      <td>0 days 00:00:05.020202</td>\n",
       "      <td>entropy</td>\n",
       "      <td>4</td>\n",
       "      <td>0.504197</td>\n",
       "      <td>901</td>\n",
       "      <td>COMPLETE</td>\n",
       "    </tr>\n",
       "    <tr>\n",
       "      <th>5</th>\n",
       "      <td>5</td>\n",
       "      <td>0.937191</td>\n",
       "      <td>2024-09-20 16:41:15.902538</td>\n",
       "      <td>2024-09-20 16:41:17.588583</td>\n",
       "      <td>0 days 00:00:01.686045</td>\n",
       "      <td>gini</td>\n",
       "      <td>3</td>\n",
       "      <td>0.410570</td>\n",
       "      <td>290</td>\n",
       "      <td>COMPLETE</td>\n",
       "    </tr>\n",
       "    <tr>\n",
       "      <th>6</th>\n",
       "      <td>6</td>\n",
       "      <td>0.919648</td>\n",
       "      <td>2024-09-20 16:41:17.589584</td>\n",
       "      <td>2024-09-20 16:41:22.405112</td>\n",
       "      <td>0 days 00:00:04.815528</td>\n",
       "      <td>entropy</td>\n",
       "      <td>1</td>\n",
       "      <td>0.171496</td>\n",
       "      <td>729</td>\n",
       "      <td>COMPLETE</td>\n",
       "    </tr>\n",
       "    <tr>\n",
       "      <th>7</th>\n",
       "      <td>7</td>\n",
       "      <td>0.937191</td>\n",
       "      <td>2024-09-20 16:41:22.406111</td>\n",
       "      <td>2024-09-20 16:41:27.466208</td>\n",
       "      <td>0 days 00:00:05.060097</td>\n",
       "      <td>gini</td>\n",
       "      <td>4</td>\n",
       "      <td>0.427238</td>\n",
       "      <td>772</td>\n",
       "      <td>COMPLETE</td>\n",
       "    </tr>\n",
       "    <tr>\n",
       "      <th>8</th>\n",
       "      <td>8</td>\n",
       "      <td>0.937210</td>\n",
       "      <td>2024-09-20 16:41:27.467217</td>\n",
       "      <td>2024-09-20 16:41:33.384489</td>\n",
       "      <td>0 days 00:00:05.917272</td>\n",
       "      <td>entropy</td>\n",
       "      <td>3</td>\n",
       "      <td>0.155561</td>\n",
       "      <td>914</td>\n",
       "      <td>COMPLETE</td>\n",
       "    </tr>\n",
       "    <tr>\n",
       "      <th>9</th>\n",
       "      <td>9</td>\n",
       "      <td>0.917122</td>\n",
       "      <td>2024-09-20 16:41:33.385509</td>\n",
       "      <td>2024-09-20 16:41:36.825554</td>\n",
       "      <td>0 days 00:00:03.440045</td>\n",
       "      <td>entropy</td>\n",
       "      <td>1</td>\n",
       "      <td>0.598134</td>\n",
       "      <td>573</td>\n",
       "      <td>COMPLETE</td>\n",
       "    </tr>\n",
       "    <tr>\n",
       "      <th>10</th>\n",
       "      <td>10</td>\n",
       "      <td>0.934666</td>\n",
       "      <td>2024-09-20 16:41:36.826536</td>\n",
       "      <td>2024-09-20 16:41:40.998636</td>\n",
       "      <td>0 days 00:00:04.172100</td>\n",
       "      <td>gini</td>\n",
       "      <td>3</td>\n",
       "      <td>0.409294</td>\n",
       "      <td>695</td>\n",
       "      <td>COMPLETE</td>\n",
       "    </tr>\n",
       "    <tr>\n",
       "      <th>11</th>\n",
       "      <td>11</td>\n",
       "      <td>0.914635</td>\n",
       "      <td>2024-09-20 16:41:40.999635</td>\n",
       "      <td>2024-09-20 16:41:41.789184</td>\n",
       "      <td>0 days 00:00:00.789549</td>\n",
       "      <td>gini</td>\n",
       "      <td>2</td>\n",
       "      <td>0.595411</td>\n",
       "      <td>143</td>\n",
       "      <td>COMPLETE</td>\n",
       "    </tr>\n",
       "    <tr>\n",
       "      <th>12</th>\n",
       "      <td>12</td>\n",
       "      <td>0.934666</td>\n",
       "      <td>2024-09-20 16:41:41.790187</td>\n",
       "      <td>2024-09-20 16:41:44.873660</td>\n",
       "      <td>0 days 00:00:03.083473</td>\n",
       "      <td>gini</td>\n",
       "      <td>2</td>\n",
       "      <td>0.300066</td>\n",
       "      <td>539</td>\n",
       "      <td>COMPLETE</td>\n",
       "    </tr>\n",
       "    <tr>\n",
       "      <th>13</th>\n",
       "      <td>13</td>\n",
       "      <td>0.914616</td>\n",
       "      <td>2024-09-20 16:41:44.875658</td>\n",
       "      <td>2024-09-20 16:41:48.472926</td>\n",
       "      <td>0 days 00:00:03.597268</td>\n",
       "      <td>entropy</td>\n",
       "      <td>1</td>\n",
       "      <td>0.292591</td>\n",
       "      <td>678</td>\n",
       "      <td>COMPLETE</td>\n",
       "    </tr>\n",
       "    <tr>\n",
       "      <th>14</th>\n",
       "      <td>14</td>\n",
       "      <td>0.625636</td>\n",
       "      <td>2024-09-20 16:41:48.473905</td>\n",
       "      <td>2024-09-20 16:41:49.429377</td>\n",
       "      <td>0 days 00:00:00.955472</td>\n",
       "      <td>gini</td>\n",
       "      <td>2</td>\n",
       "      <td>0.714307</td>\n",
       "      <td>209</td>\n",
       "      <td>COMPLETE</td>\n",
       "    </tr>\n",
       "    <tr>\n",
       "      <th>15</th>\n",
       "      <td>15</td>\n",
       "      <td>0.937153</td>\n",
       "      <td>2024-09-20 16:41:49.431359</td>\n",
       "      <td>2024-09-20 16:41:53.795546</td>\n",
       "      <td>0 days 00:00:04.364187</td>\n",
       "      <td>gini</td>\n",
       "      <td>3</td>\n",
       "      <td>0.267273</td>\n",
       "      <td>783</td>\n",
       "      <td>COMPLETE</td>\n",
       "    </tr>\n",
       "    <tr>\n",
       "      <th>16</th>\n",
       "      <td>16</td>\n",
       "      <td>0.937191</td>\n",
       "      <td>2024-09-20 16:41:53.796545</td>\n",
       "      <td>2024-09-20 16:41:56.153192</td>\n",
       "      <td>0 days 00:00:02.356647</td>\n",
       "      <td>gini</td>\n",
       "      <td>2</td>\n",
       "      <td>0.257189</td>\n",
       "      <td>437</td>\n",
       "      <td>COMPLETE</td>\n",
       "    </tr>\n",
       "    <tr>\n",
       "      <th>17</th>\n",
       "      <td>17</td>\n",
       "      <td>0.919629</td>\n",
       "      <td>2024-09-20 16:41:56.154063</td>\n",
       "      <td>2024-09-20 16:42:01.287143</td>\n",
       "      <td>0 days 00:00:05.133080</td>\n",
       "      <td>entropy</td>\n",
       "      <td>3</td>\n",
       "      <td>0.565342</td>\n",
       "      <td>996</td>\n",
       "      <td>COMPLETE</td>\n",
       "    </tr>\n",
       "    <tr>\n",
       "      <th>18</th>\n",
       "      <td>18</td>\n",
       "      <td>0.625636</td>\n",
       "      <td>2024-09-20 16:42:01.288142</td>\n",
       "      <td>2024-09-20 16:42:03.065123</td>\n",
       "      <td>0 days 00:00:01.776981</td>\n",
       "      <td>gini</td>\n",
       "      <td>4</td>\n",
       "      <td>0.705181</td>\n",
       "      <td>406</td>\n",
       "      <td>COMPLETE</td>\n",
       "    </tr>\n",
       "    <tr>\n",
       "      <th>19</th>\n",
       "      <td>19</td>\n",
       "      <td>0.625636</td>\n",
       "      <td>2024-09-20 16:42:03.066122</td>\n",
       "      <td>2024-09-20 16:42:05.874672</td>\n",
       "      <td>0 days 00:00:02.808550</td>\n",
       "      <td>gini</td>\n",
       "      <td>2</td>\n",
       "      <td>0.843596</td>\n",
       "      <td>550</td>\n",
       "      <td>COMPLETE</td>\n",
       "    </tr>\n",
       "  </tbody>\n",
       "</table>\n",
       "</div>"
      ],
      "text/plain": [
       "    number     value             datetime_start          datetime_complete  \\\n",
       "0        0  0.942261 2024-09-20 16:41:02.353845 2024-09-20 16:41:03.240357   \n",
       "1        1  0.939660 2024-09-20 16:41:03.241356 2024-09-20 16:41:05.043546   \n",
       "2        2  0.944748 2024-09-20 16:41:05.045543 2024-09-20 16:41:05.893923   \n",
       "3        3  0.625636 2024-09-20 16:41:05.895922 2024-09-20 16:41:10.880339   \n",
       "4        4  0.922154 2024-09-20 16:41:10.881337 2024-09-20 16:41:15.901539   \n",
       "5        5  0.937191 2024-09-20 16:41:15.902538 2024-09-20 16:41:17.588583   \n",
       "6        6  0.919648 2024-09-20 16:41:17.589584 2024-09-20 16:41:22.405112   \n",
       "7        7  0.937191 2024-09-20 16:41:22.406111 2024-09-20 16:41:27.466208   \n",
       "8        8  0.937210 2024-09-20 16:41:27.467217 2024-09-20 16:41:33.384489   \n",
       "9        9  0.917122 2024-09-20 16:41:33.385509 2024-09-20 16:41:36.825554   \n",
       "10      10  0.934666 2024-09-20 16:41:36.826536 2024-09-20 16:41:40.998636   \n",
       "11      11  0.914635 2024-09-20 16:41:40.999635 2024-09-20 16:41:41.789184   \n",
       "12      12  0.934666 2024-09-20 16:41:41.790187 2024-09-20 16:41:44.873660   \n",
       "13      13  0.914616 2024-09-20 16:41:44.875658 2024-09-20 16:41:48.472926   \n",
       "14      14  0.625636 2024-09-20 16:41:48.473905 2024-09-20 16:41:49.429377   \n",
       "15      15  0.937153 2024-09-20 16:41:49.431359 2024-09-20 16:41:53.795546   \n",
       "16      16  0.937191 2024-09-20 16:41:53.796545 2024-09-20 16:41:56.153192   \n",
       "17      17  0.919629 2024-09-20 16:41:56.154063 2024-09-20 16:42:01.287143   \n",
       "18      18  0.625636 2024-09-20 16:42:01.288142 2024-09-20 16:42:03.065123   \n",
       "19      19  0.625636 2024-09-20 16:42:03.066122 2024-09-20 16:42:05.874672   \n",
       "\n",
       "                 duration params_rf_criterion  params_rf_max_depth  \\\n",
       "0  0 days 00:00:00.886512             entropy                    4   \n",
       "1  0 days 00:00:01.802190             entropy                    2   \n",
       "2  0 days 00:00:00.848380                gini                    2   \n",
       "3  0 days 00:00:04.984417                gini                    1   \n",
       "4  0 days 00:00:05.020202             entropy                    4   \n",
       "5  0 days 00:00:01.686045                gini                    3   \n",
       "6  0 days 00:00:04.815528             entropy                    1   \n",
       "7  0 days 00:00:05.060097                gini                    4   \n",
       "8  0 days 00:00:05.917272             entropy                    3   \n",
       "9  0 days 00:00:03.440045             entropy                    1   \n",
       "10 0 days 00:00:04.172100                gini                    3   \n",
       "11 0 days 00:00:00.789549                gini                    2   \n",
       "12 0 days 00:00:03.083473                gini                    2   \n",
       "13 0 days 00:00:03.597268             entropy                    1   \n",
       "14 0 days 00:00:00.955472                gini                    2   \n",
       "15 0 days 00:00:04.364187                gini                    3   \n",
       "16 0 days 00:00:02.356647                gini                    2   \n",
       "17 0 days 00:00:05.133080             entropy                    3   \n",
       "18 0 days 00:00:01.776981                gini                    4   \n",
       "19 0 days 00:00:02.808550                gini                    2   \n",
       "\n",
       "    params_rf_min_samples_split  params_rf_n_estimators     state  \n",
       "0                      0.015499                     129  COMPLETE  \n",
       "1                      0.335682                     215  COMPLETE  \n",
       "2                      0.021575                     101  COMPLETE  \n",
       "3                      0.678643                     671  COMPLETE  \n",
       "4                      0.504197                     901  COMPLETE  \n",
       "5                      0.410570                     290  COMPLETE  \n",
       "6                      0.171496                     729  COMPLETE  \n",
       "7                      0.427238                     772  COMPLETE  \n",
       "8                      0.155561                     914  COMPLETE  \n",
       "9                      0.598134                     573  COMPLETE  \n",
       "10                     0.409294                     695  COMPLETE  \n",
       "11                     0.595411                     143  COMPLETE  \n",
       "12                     0.300066                     539  COMPLETE  \n",
       "13                     0.292591                     678  COMPLETE  \n",
       "14                     0.714307                     209  COMPLETE  \n",
       "15                     0.267273                     783  COMPLETE  \n",
       "16                     0.257189                     437  COMPLETE  \n",
       "17                     0.565342                     996  COMPLETE  \n",
       "18                     0.705181                     406  COMPLETE  \n",
       "19                     0.843596                     550  COMPLETE  "
      ]
     },
     "execution_count": 9,
     "metadata": {},
     "output_type": "execute_result"
    }
   ],
   "source": [
    "study.trials_dataframe()"
   ]
  },
  {
   "cell_type": "markdown",
   "metadata": {},
   "source": [
    "## TPE\n",
    "\n",
    "TPESampler is the default. You'll probably remember that for TPE, we first sample a few hyperparameter combinations at random, and then we start the sequential search, based on TPE with a certain kernel, and an acquisition function.\n",
    "\n",
    "All these parameters are determined by default, but you can change them. More details in the [TPESampler()](https://optuna.readthedocs.io/en/stable/reference/samplers/generated/optuna.samplers.TPESampler.html) documentation."
   ]
  },
  {
   "cell_type": "code",
   "execution_count": 10,
   "metadata": {},
   "outputs": [
    {
     "name": "stderr",
     "output_type": "stream",
     "text": [
      "[I 2024-09-20 16:42:05,959] A new study created in memory with name: no-name-8d5ce980-e21a-4536-97e9-8fc718c3efdf\n",
      "[I 2024-09-20 16:42:11,001] Trial 0 finished with value: 0.9296157059314955 and parameters: {'rf_n_estimators': 808, 'rf_criterion': 'entropy', 'rf_max_depth': 3, 'rf_min_samples_split': 0.3532166129886025}. Best is trial 0 with value: 0.9296157059314955.\n",
      "[I 2024-09-20 16:42:15,209] Trial 1 finished with value: 0.9146350725298094 and parameters: {'rf_n_estimators': 648, 'rf_criterion': 'entropy', 'rf_max_depth': 1, 'rf_min_samples_split': 0.629082184954137}. Best is trial 0 with value: 0.9296157059314955.\n",
      "[I 2024-09-20 16:42:18,601] Trial 2 finished with value: 0.6256360598465861 and parameters: {'rf_n_estimators': 292, 'rf_criterion': 'entropy', 'rf_max_depth': 3, 'rf_min_samples_split': 0.8068326301179862}. Best is trial 0 with value: 0.9296157059314955.\n",
      "[I 2024-09-20 16:42:23,397] Trial 3 finished with value: 0.9171223513328776 and parameters: {'rf_n_estimators': 622, 'rf_criterion': 'entropy', 'rf_max_depth': 1, 'rf_min_samples_split': 0.22317929180220605}. Best is trial 0 with value: 0.9296157059314955.\n",
      "[I 2024-09-20 16:42:26,722] Trial 4 finished with value: 0.937210450368345 and parameters: {'rf_n_estimators': 499, 'rf_criterion': 'entropy', 'rf_max_depth': 3, 'rf_min_samples_split': 0.43737390912867796}. Best is trial 4 with value: 0.937210450368345.\n",
      "[I 2024-09-20 16:42:29,460] Trial 5 finished with value: 0.6256360598465861 and parameters: {'rf_n_estimators': 554, 'rf_criterion': 'gini', 'rf_max_depth': 1, 'rf_min_samples_split': 0.7086243639470152}. Best is trial 4 with value: 0.937210450368345.\n",
      "[I 2024-09-20 16:42:33,299] Trial 6 finished with value: 0.9171223513328776 and parameters: {'rf_n_estimators': 569, 'rf_criterion': 'gini', 'rf_max_depth': 1, 'rf_min_samples_split': 0.54515767571603}. Best is trial 4 with value: 0.937210450368345.\n",
      "[I 2024-09-20 16:42:34,404] Trial 7 finished with value: 0.9196476038581302 and parameters: {'rf_n_estimators': 190, 'rf_criterion': 'entropy', 'rf_max_depth': 1, 'rf_min_samples_split': 0.0635001480078963}. Best is trial 4 with value: 0.937210450368345.\n",
      "[I 2024-09-20 16:42:37,976] Trial 8 finished with value: 0.6256360598465861 and parameters: {'rf_n_estimators': 756, 'rf_criterion': 'entropy', 'rf_max_depth': 4, 'rf_min_samples_split': 0.7285242418096637}. Best is trial 4 with value: 0.937210450368345.\n",
      "[I 2024-09-20 16:42:42,480] Trial 9 finished with value: 0.9196286169970379 and parameters: {'rf_n_estimators': 830, 'rf_criterion': 'gini', 'rf_max_depth': 3, 'rf_min_samples_split': 0.5847894080369226}. Best is trial 4 with value: 0.937210450368345.\n",
      "[I 2024-09-20 16:42:44,365] Trial 10 finished with value: 0.6256360598465861 and parameters: {'rf_n_estimators': 384, 'rf_criterion': 'gini', 'rf_max_depth': 4, 'rf_min_samples_split': 0.9825385544995673}. Best is trial 4 with value: 0.937210450368345.\n",
      "[I 2024-09-20 16:42:50,294] Trial 11 finished with value: 0.9422039948355737 and parameters: {'rf_n_estimators': 999, 'rf_criterion': 'entropy', 'rf_max_depth': 3, 'rf_min_samples_split': 0.33849919975604914}. Best is trial 11 with value: 0.9422039948355737.\n",
      "[I 2024-09-20 16:42:56,148] Trial 12 finished with value: 0.9346662109820004 and parameters: {'rf_n_estimators': 1000, 'rf_criterion': 'entropy', 'rf_max_depth': 2, 'rf_min_samples_split': 0.36485253521128375}. Best is trial 11 with value: 0.9422039948355737.\n",
      "[I 2024-09-20 16:42:58,458] Trial 13 finished with value: 0.937210450368345 and parameters: {'rf_n_estimators': 408, 'rf_criterion': 'entropy', 'rf_max_depth': 2, 'rf_min_samples_split': 0.40358879990942026}. Best is trial 11 with value: 0.9422039948355737.\n",
      "[I 2024-09-20 16:43:04,994] Trial 14 finished with value: 0.9397167160325055 and parameters: {'rf_n_estimators': 985, 'rf_criterion': 'entropy', 'rf_max_depth': 3, 'rf_min_samples_split': 0.17929314844981054}. Best is trial 11 with value: 0.9422039948355737.\n",
      "[I 2024-09-20 16:43:11,190] Trial 15 finished with value: 0.9472734867471709 and parameters: {'rf_n_estimators': 956, 'rf_criterion': 'entropy', 'rf_max_depth': 4, 'rf_min_samples_split': 0.012580167774078943}. Best is trial 15 with value: 0.9472734867471709.\n",
      "[I 2024-09-20 16:43:17,434] Trial 16 finished with value: 0.942241968557758 and parameters: {'rf_n_estimators': 902, 'rf_criterion': 'entropy', 'rf_max_depth': 4, 'rf_min_samples_split': 0.02498351178321724}. Best is trial 15 with value: 0.9472734867471709.\n",
      "[I 2024-09-20 16:43:23,455] Trial 17 finished with value: 0.9447482342219184 and parameters: {'rf_n_estimators': 884, 'rf_criterion': 'entropy', 'rf_max_depth': 4, 'rf_min_samples_split': 0.010322548918126603}. Best is trial 15 with value: 0.9472734867471709.\n",
      "[I 2024-09-20 16:43:28,287] Trial 18 finished with value: 0.937210450368345 and parameters: {'rf_n_estimators': 753, 'rf_criterion': 'gini', 'rf_max_depth': 4, 'rf_min_samples_split': 0.16543574341419068}. Best is trial 15 with value: 0.9472734867471709.\n",
      "[I 2024-09-20 16:43:34,829] Trial 19 finished with value: 0.9397357028935976 and parameters: {'rf_n_estimators': 889, 'rf_criterion': 'entropy', 'rf_max_depth': 4, 'rf_min_samples_split': 0.10338383423467978}. Best is trial 15 with value: 0.9472734867471709.\n"
     ]
    }
   ],
   "source": [
    "study = optuna.create_study(\n",
    "    direction=\"maximize\",\n",
    "    sampler=optuna.samplers.TPESampler(\n",
    "        # the number of initial points to sample at random before doing the sequential search\n",
    "        n_startup_trials=10\n",
    "    ),\n",
    ")\n",
    "\n",
    "study.optimize(objective, n_trials=20)"
   ]
  },
  {
   "cell_type": "code",
   "execution_count": 11,
   "metadata": {},
   "outputs": [
    {
     "data": {
      "text/plain": [
       "{'rf_n_estimators': 956,\n",
       " 'rf_criterion': 'entropy',\n",
       " 'rf_max_depth': 4,\n",
       " 'rf_min_samples_split': 0.012580167774078943}"
      ]
     },
     "execution_count": 11,
     "metadata": {},
     "output_type": "execute_result"
    }
   ],
   "source": [
    "study.best_params"
   ]
  },
  {
   "cell_type": "code",
   "execution_count": 12,
   "metadata": {},
   "outputs": [
    {
     "data": {
      "text/plain": [
       "0.9472734867471709"
      ]
     },
     "execution_count": 12,
     "metadata": {},
     "output_type": "execute_result"
    }
   ],
   "source": [
    "study.best_value"
   ]
  },
  {
   "cell_type": "markdown",
   "metadata": {},
   "source": [
    "## CMA-ES\n",
    "\n",
    "CmaEsSampler"
   ]
  },
  {
   "cell_type": "code",
   "execution_count": 13,
   "metadata": {},
   "outputs": [
    {
     "name": "stderr",
     "output_type": "stream",
     "text": [
      "[I 2024-09-20 16:43:34,872] A new study created in memory with name: no-name-bbf42233-4c1d-428f-ab72-536041e6f7ef\n",
      "[I 2024-09-20 16:43:37,160] Trial 0 finished with value: 0.6256360598465861 and parameters: {'rf_n_estimators': 404, 'rf_criterion': 'entropy', 'rf_max_depth': 2, 'rf_min_samples_split': 0.653168478527917}. Best is trial 0 with value: 0.6256360598465861.\n",
      "[W 2024-09-20 16:43:37,180] The parameter 'rf_criterion' in trial#1 is sampled independently by using `RandomSampler` instead of `CmaEsSampler` (optimization performance may be degraded). `CmaEsSampler` does not support dynamic search space or `CategoricalDistribution`. You can suppress this warning by setting `warn_independent_sampling` to `False` in the constructor of `CmaEsSampler`, if this independent sampling is intended behavior.\n",
      "[I 2024-09-20 16:43:41,881] Trial 1 finished with value: 0.9296536796536796 and parameters: {'rf_n_estimators': 659, 'rf_criterion': 'entropy', 'rf_max_depth': 2, 'rf_min_samples_split': 0.3883823738390945}. Best is trial 1 with value: 0.9296536796536796.\n",
      "[W 2024-09-20 16:43:41,885] The parameter 'rf_criterion' in trial#2 is sampled independently by using `RandomSampler` instead of `CmaEsSampler` (optimization performance may be degraded). `CmaEsSampler` does not support dynamic search space or `CategoricalDistribution`. You can suppress this warning by setting `warn_independent_sampling` to `False` in the constructor of `CmaEsSampler`, if this independent sampling is intended behavior.\n",
      "[I 2024-09-20 16:43:46,498] Trial 2 finished with value: 0.9296346927925875 and parameters: {'rf_n_estimators': 586, 'rf_criterion': 'gini', 'rf_max_depth': 3, 'rf_min_samples_split': 0.32917260857914565}. Best is trial 1 with value: 0.9296536796536796.\n",
      "[W 2024-09-20 16:43:46,500] The parameter 'rf_criterion' in trial#3 is sampled independently by using `RandomSampler` instead of `CmaEsSampler` (optimization performance may be degraded). `CmaEsSampler` does not support dynamic search space or `CategoricalDistribution`. You can suppress this warning by setting `warn_independent_sampling` to `False` in the constructor of `CmaEsSampler`, if this independent sampling is intended behavior.\n",
      "[I 2024-09-20 16:43:48,897] Trial 3 finished with value: 0.6256360598465861 and parameters: {'rf_n_estimators': 510, 'rf_criterion': 'entropy', 'rf_max_depth': 3, 'rf_min_samples_split': 0.7726008815559052}. Best is trial 1 with value: 0.9296536796536796.\n",
      "[W 2024-09-20 16:43:48,901] The parameter 'rf_criterion' in trial#4 is sampled independently by using `RandomSampler` instead of `CmaEsSampler` (optimization performance may be degraded). `CmaEsSampler` does not support dynamic search space or `CategoricalDistribution`. You can suppress this warning by setting `warn_independent_sampling` to `False` in the constructor of `CmaEsSampler`, if this independent sampling is intended behavior.\n",
      "[I 2024-09-20 16:43:53,093] Trial 4 finished with value: 0.6256360598465861 and parameters: {'rf_n_estimators': 650, 'rf_criterion': 'gini', 'rf_max_depth': 2, 'rf_min_samples_split': 0.7413006301323848}. Best is trial 1 with value: 0.9296536796536796.\n"
     ]
    }
   ],
   "source": [
    "study = optuna.create_study(\n",
    "    direction=\"maximize\",\n",
    "    sampler=optuna.samplers.CmaEsSampler(),\n",
    ")\n",
    "\n",
    "study.optimize(objective, n_trials=5)"
   ]
  },
  {
   "cell_type": "code",
   "execution_count": 14,
   "metadata": {},
   "outputs": [
    {
     "data": {
      "text/plain": [
       "{'rf_n_estimators': 659,\n",
       " 'rf_criterion': 'entropy',\n",
       " 'rf_max_depth': 2,\n",
       " 'rf_min_samples_split': 0.3883823738390945}"
      ]
     },
     "execution_count": 14,
     "metadata": {},
     "output_type": "execute_result"
    }
   ],
   "source": [
    "study.best_params"
   ]
  },
  {
   "cell_type": "code",
   "execution_count": 15,
   "metadata": {},
   "outputs": [
    {
     "data": {
      "text/plain": [
       "0.9296536796536796"
      ]
     },
     "execution_count": 15,
     "metadata": {},
     "output_type": "execute_result"
    }
   ],
   "source": [
    "study.best_value"
   ]
  },
  {
   "cell_type": "markdown",
   "metadata": {},
   "source": [
    "## Grid Search\n",
    "\n",
    "GridSampler()\n",
    "\n",
    "We are probably not going to perform GridSearch with Optuna, but in case you wanted to, you need to add a variable with the space, with the exact values that you want to be tested."
   ]
  },
  {
   "cell_type": "code",
   "execution_count": 16,
   "metadata": {},
   "outputs": [],
   "source": [
    "search_space = {\n",
    "    \"rf_n_estimators\": [100, 500, 1000],\n",
    "    \"rf_criterion\": ['gini', 'entropy'],\n",
    "    \"rf_max_depth\": [1, 2, 3],\n",
    "    \"rf_min_samples_split\": [0.1, 1.0]\n",
    "}\n"
   ]
  },
  {
   "cell_type": "code",
   "execution_count": 17,
   "metadata": {},
   "outputs": [
    {
     "name": "stderr",
     "output_type": "stream",
     "text": [
      "[I 2024-09-20 16:43:53,151] A new study created in memory with name: no-name-cdaa301d-51cc-47f9-bf38-c0261bbf7a0e\n",
      "[I 2024-09-20 16:43:56,211] Trial 0 finished with value: 0.9397167160325055 and parameters: {'rf_n_estimators': 500, 'rf_criterion': 'entropy', 'rf_max_depth': 3, 'rf_min_samples_split': 0.1}. Best is trial 0 with value: 0.9397167160325055.\n",
      "[I 2024-09-20 16:44:01,214] Trial 1 finished with value: 0.9221538695222905 and parameters: {'rf_n_estimators': 1000, 'rf_criterion': 'entropy', 'rf_max_depth': 1, 'rf_min_samples_split': 0.1}. Best is trial 0 with value: 0.9397167160325055.\n",
      "[I 2024-09-20 16:44:03,396] Trial 2 finished with value: 0.6256360598465861 and parameters: {'rf_n_estimators': 500, 'rf_criterion': 'gini', 'rf_max_depth': 3, 'rf_min_samples_split': 1.0}. Best is trial 0 with value: 0.9397167160325055.\n",
      "[I 2024-09-20 16:44:03,987] Trial 3 finished with value: 0.937210450368345 and parameters: {'rf_n_estimators': 100, 'rf_criterion': 'entropy', 'rf_max_depth': 3, 'rf_min_samples_split': 0.1}. Best is trial 0 with value: 0.9397167160325055.\n",
      "[I 2024-09-20 16:44:06,137] Trial 4 finished with value: 0.6256360598465861 and parameters: {'rf_n_estimators': 500, 'rf_criterion': 'entropy', 'rf_max_depth': 1, 'rf_min_samples_split': 1.0}. Best is trial 0 with value: 0.9397167160325055.\n",
      "[I 2024-09-20 16:44:06,614] Trial 5 finished with value: 0.6256360598465861 and parameters: {'rf_n_estimators': 100, 'rf_criterion': 'gini', 'rf_max_depth': 3, 'rf_min_samples_split': 1.0}. Best is trial 0 with value: 0.9397167160325055.\n",
      "[I 2024-09-20 16:44:08,818] Trial 6 finished with value: 0.6256360598465861 and parameters: {'rf_n_estimators': 500, 'rf_criterion': 'gini', 'rf_max_depth': 2, 'rf_min_samples_split': 1.0}. Best is trial 0 with value: 0.9397167160325055.\n",
      "[I 2024-09-20 16:44:13,804] Trial 7 finished with value: 0.9146160856687172 and parameters: {'rf_n_estimators': 1000, 'rf_criterion': 'gini', 'rf_max_depth': 1, 'rf_min_samples_split': 0.1}. Best is trial 0 with value: 0.9397167160325055.\n",
      "[I 2024-09-20 16:44:18,288] Trial 8 finished with value: 0.6256360598465861 and parameters: {'rf_n_estimators': 1000, 'rf_criterion': 'gini', 'rf_max_depth': 2, 'rf_min_samples_split': 1.0}. Best is trial 0 with value: 0.9397167160325055.\n",
      "[I 2024-09-20 16:44:23,744] Trial 9 finished with value: 0.6256360598465861 and parameters: {'rf_n_estimators': 1000, 'rf_criterion': 'entropy', 'rf_max_depth': 2, 'rf_min_samples_split': 1.0}. Best is trial 0 with value: 0.9397167160325055.\n",
      "[I 2024-09-20 16:44:24,293] Trial 10 finished with value: 0.6256360598465861 and parameters: {'rf_n_estimators': 100, 'rf_criterion': 'entropy', 'rf_max_depth': 2, 'rf_min_samples_split': 1.0}. Best is trial 0 with value: 0.9397167160325055.\n",
      "[I 2024-09-20 16:44:33,250] Trial 11 finished with value: 0.6256360598465861 and parameters: {'rf_n_estimators': 1000, 'rf_criterion': 'entropy', 'rf_max_depth': 3, 'rf_min_samples_split': 1.0}. Best is trial 0 with value: 0.9397167160325055.\n",
      "[I 2024-09-20 16:44:33,901] Trial 12 finished with value: 0.6256360598465861 and parameters: {'rf_n_estimators': 100, 'rf_criterion': 'entropy', 'rf_max_depth': 3, 'rf_min_samples_split': 1.0}. Best is trial 0 with value: 0.9397167160325055.\n",
      "[I 2024-09-20 16:44:36,886] Trial 13 finished with value: 0.6256360598465861 and parameters: {'rf_n_estimators': 500, 'rf_criterion': 'entropy', 'rf_max_depth': 2, 'rf_min_samples_split': 1.0}. Best is trial 0 with value: 0.9397167160325055.\n",
      "[I 2024-09-20 16:44:45,075] Trial 14 finished with value: 0.9397357028935976 and parameters: {'rf_n_estimators': 1000, 'rf_criterion': 'entropy', 'rf_max_depth': 3, 'rf_min_samples_split': 0.1}. Best is trial 14 with value: 0.9397357028935976.\n",
      "[I 2024-09-20 16:44:51,168] Trial 15 finished with value: 0.937210450368345 and parameters: {'rf_n_estimators': 1000, 'rf_criterion': 'gini', 'rf_max_depth': 2, 'rf_min_samples_split': 0.1}. Best is trial 14 with value: 0.9397357028935976.\n",
      "[I 2024-09-20 16:44:54,800] Trial 16 finished with value: 0.9397357028935976 and parameters: {'rf_n_estimators': 500, 'rf_criterion': 'gini', 'rf_max_depth': 3, 'rf_min_samples_split': 0.1}. Best is trial 14 with value: 0.9397357028935976.\n",
      "[I 2024-09-20 16:44:59,716] Trial 17 finished with value: 0.6256360598465861 and parameters: {'rf_n_estimators': 1000, 'rf_criterion': 'gini', 'rf_max_depth': 1, 'rf_min_samples_split': 1.0}. Best is trial 14 with value: 0.9397357028935976.\n",
      "[I 2024-09-20 16:45:04,836] Trial 18 finished with value: 0.6256360598465861 and parameters: {'rf_n_estimators': 1000, 'rf_criterion': 'gini', 'rf_max_depth': 3, 'rf_min_samples_split': 1.0}. Best is trial 14 with value: 0.9397357028935976.\n",
      "[I 2024-09-20 16:45:11,217] Trial 19 finished with value: 0.9397357028935976 and parameters: {'rf_n_estimators': 1000, 'rf_criterion': 'gini', 'rf_max_depth': 3, 'rf_min_samples_split': 0.1}. Best is trial 14 with value: 0.9397357028935976.\n",
      "[I 2024-09-20 16:45:14,372] Trial 20 finished with value: 0.9397167160325055 and parameters: {'rf_n_estimators': 500, 'rf_criterion': 'gini', 'rf_max_depth': 2, 'rf_min_samples_split': 0.1}. Best is trial 14 with value: 0.9397357028935976.\n",
      "[I 2024-09-20 16:45:20,369] Trial 21 finished with value: 0.9372294372294373 and parameters: {'rf_n_estimators': 1000, 'rf_criterion': 'entropy', 'rf_max_depth': 2, 'rf_min_samples_split': 0.1}. Best is trial 14 with value: 0.9397357028935976.\n",
      "[I 2024-09-20 16:45:22,884] Trial 22 finished with value: 0.9196476038581302 and parameters: {'rf_n_estimators': 500, 'rf_criterion': 'gini', 'rf_max_depth': 1, 'rf_min_samples_split': 0.1}. Best is trial 14 with value: 0.9397357028935976.\n",
      "[I 2024-09-20 16:45:23,514] Trial 23 finished with value: 0.942241968557758 and parameters: {'rf_n_estimators': 100, 'rf_criterion': 'gini', 'rf_max_depth': 3, 'rf_min_samples_split': 0.1}. Best is trial 23 with value: 0.942241968557758.\n",
      "[I 2024-09-20 16:45:29,174] Trial 24 finished with value: 0.937210450368345 and parameters: {'rf_n_estimators': 500, 'rf_criterion': 'entropy', 'rf_max_depth': 2, 'rf_min_samples_split': 0.1}. Best is trial 23 with value: 0.942241968557758.\n",
      "[I 2024-09-20 16:45:30,328] Trial 25 finished with value: 0.9347041847041847 and parameters: {'rf_n_estimators': 100, 'rf_criterion': 'entropy', 'rf_max_depth': 2, 'rf_min_samples_split': 0.1}. Best is trial 23 with value: 0.942241968557758.\n",
      "[I 2024-09-20 16:45:30,902] Trial 26 finished with value: 0.942241968557758 and parameters: {'rf_n_estimators': 100, 'rf_criterion': 'gini', 'rf_max_depth': 2, 'rf_min_samples_split': 0.1}. Best is trial 23 with value: 0.942241968557758.\n",
      "[I 2024-09-20 16:45:35,699] Trial 27 finished with value: 0.6256360598465861 and parameters: {'rf_n_estimators': 1000, 'rf_criterion': 'entropy', 'rf_max_depth': 1, 'rf_min_samples_split': 1.0}. Best is trial 23 with value: 0.942241968557758.\n",
      "[I 2024-09-20 16:45:37,954] Trial 28 finished with value: 0.6256360598465861 and parameters: {'rf_n_estimators': 500, 'rf_criterion': 'gini', 'rf_max_depth': 1, 'rf_min_samples_split': 1.0}. Best is trial 23 with value: 0.942241968557758.\n",
      "[I 2024-09-20 16:45:38,562] Trial 29 finished with value: 0.9196476038581302 and parameters: {'rf_n_estimators': 100, 'rf_criterion': 'entropy', 'rf_max_depth': 1, 'rf_min_samples_split': 0.1}. Best is trial 23 with value: 0.942241968557758.\n",
      "[I 2024-09-20 16:45:39,031] Trial 30 finished with value: 0.6256360598465861 and parameters: {'rf_n_estimators': 100, 'rf_criterion': 'entropy', 'rf_max_depth': 1, 'rf_min_samples_split': 1.0}. Best is trial 23 with value: 0.942241968557758.\n",
      "[I 2024-09-20 16:45:41,761] Trial 31 finished with value: 0.9196665907192223 and parameters: {'rf_n_estimators': 500, 'rf_criterion': 'entropy', 'rf_max_depth': 1, 'rf_min_samples_split': 0.1}. Best is trial 23 with value: 0.942241968557758.\n",
      "[I 2024-09-20 16:45:42,290] Trial 32 finished with value: 0.6256360598465861 and parameters: {'rf_n_estimators': 100, 'rf_criterion': 'gini', 'rf_max_depth': 2, 'rf_min_samples_split': 1.0}. Best is trial 23 with value: 0.942241968557758.\n",
      "[I 2024-09-20 16:45:44,901] Trial 33 finished with value: 0.6256360598465861 and parameters: {'rf_n_estimators': 500, 'rf_criterion': 'entropy', 'rf_max_depth': 3, 'rf_min_samples_split': 1.0}. Best is trial 23 with value: 0.942241968557758.\n"
     ]
    },
    {
     "name": "stderr",
     "output_type": "stream",
     "text": [
      "[I 2024-09-20 16:45:45,473] Trial 34 finished with value: 0.6256360598465861 and parameters: {'rf_n_estimators': 100, 'rf_criterion': 'gini', 'rf_max_depth': 1, 'rf_min_samples_split': 1.0}. Best is trial 23 with value: 0.942241968557758.\n",
      "[I 2024-09-20 16:45:46,108] Trial 35 finished with value: 0.9171413381939697 and parameters: {'rf_n_estimators': 100, 'rf_criterion': 'gini', 'rf_max_depth': 1, 'rf_min_samples_split': 0.1}. Best is trial 23 with value: 0.942241968557758.\n"
     ]
    }
   ],
   "source": [
    "study = optuna.create_study(\n",
    "    direction=\"maximize\",\n",
    "    sampler=optuna.samplers.GridSampler(search_space),\n",
    ")\n",
    "\n",
    "study.optimize(objective)"
   ]
  },
  {
   "cell_type": "code",
   "execution_count": 18,
   "metadata": {},
   "outputs": [
    {
     "data": {
      "text/plain": [
       "{'rf_n_estimators': 100,\n",
       " 'rf_criterion': 'gini',\n",
       " 'rf_max_depth': 3,\n",
       " 'rf_min_samples_split': 0.1}"
      ]
     },
     "execution_count": 18,
     "metadata": {},
     "output_type": "execute_result"
    }
   ],
   "source": [
    "study.best_params"
   ]
  },
  {
   "cell_type": "code",
   "execution_count": 19,
   "metadata": {},
   "outputs": [
    {
     "data": {
      "text/plain": [
       "0.942241968557758"
      ]
     },
     "execution_count": 19,
     "metadata": {},
     "output_type": "execute_result"
    }
   ],
   "source": [
    "study.best_value"
   ]
  },
  {
   "cell_type": "code",
   "execution_count": null,
   "metadata": {},
   "outputs": [],
   "source": []
  }
 ],
 "metadata": {
  "kernelspec": {
   "display_name": "fsml",
   "language": "python",
   "name": "fsml"
  },
  "language_info": {
   "codemirror_mode": {
    "name": "ipython",
    "version": 3
   },
   "file_extension": ".py",
   "mimetype": "text/x-python",
   "name": "python",
   "nbconvert_exporter": "python",
   "pygments_lexer": "ipython3",
   "version": "3.10.5"
  },
  "toc": {
   "base_numbering": 1,
   "nav_menu": {},
   "number_sections": true,
   "sideBar": true,
   "skip_h1_title": false,
   "title_cell": "Table of Contents",
   "title_sidebar": "Contents",
   "toc_cell": false,
   "toc_position": {},
   "toc_section_display": true,
   "toc_window_display": true
  }
 },
 "nbformat": 4,
 "nbformat_minor": 4
}
