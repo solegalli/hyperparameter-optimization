{
 "cells": [
  {
   "cell_type": "markdown",
   "metadata": {},
   "source": [
    "## Successive Halving with Optuna\n",
    "\n",
    "In this notebook, we'll carry out [successive halving](https://optuna.readthedocs.io/en/stable/reference/generated/optuna.pruners.SuccessiveHalvingPruner.html) with Optuna."
   ]
  },
  {
   "cell_type": "code",
   "execution_count": 1,
   "metadata": {},
   "outputs": [],
   "source": [
    "import numpy as np\n",
    "\n",
    "import optuna\n",
    "\n",
    "from sklearn.datasets import load_breast_cancer\n",
    "from sklearn.metrics import accuracy_score\n",
    "from sklearn.model_selection import train_test_split\n",
    "\n",
    "import xgboost as xgb"
   ]
  },
  {
   "cell_type": "code",
   "execution_count": 2,
   "metadata": {},
   "outputs": [],
   "source": [
    "# load dataset and prepare data\n",
    "\n",
    "data, target = load_breast_cancer(return_X_y=True)\n",
    "\n",
    "X_train, X_test, y_train, y_test = train_test_split(\n",
    "    data, target, test_size=0.25)\n",
    "\n",
    "dtrain = xgb.DMatrix(X_train, label=y_train)\n",
    "dtest = xgb.DMatrix(X_test, label=y_test)"
   ]
  },
  {
   "cell_type": "markdown",
   "metadata": {},
   "source": [
    "## Define the objective function\n",
    "\n",
    "Check out [xgboost pruning integration](https://optuna-integration.readthedocs.io/en/stable/reference/generated/optuna_integration.XGBoostPruningCallback.html#optuna_integration.XGBoostPruningCallback)\n",
    "\n",
    "Code below based on https://github.com/optuna/optuna-examples/blob/main/xgboost/xgboost_integration.py"
   ]
  },
  {
   "cell_type": "code",
   "execution_count": 3,
   "metadata": {},
   "outputs": [],
   "source": [
    "def objective(trial):\n",
    "\n",
    "    # hyperparameter space\n",
    "    param = {\n",
    "        \"verbosity\": 0,\n",
    "        \"objective\": \"binary:logistic\",\n",
    "        \"eval_metric\": \"auc\",\n",
    "        \"booster\": trial.suggest_categorical(\"booster\", [\"gbtree\", \"gblinear\", \"dart\"]),\n",
    "        \"lambda\": trial.suggest_float(\"lambda\", 1e-8, 1.0, log=True),\n",
    "        \"alpha\": trial.suggest_float(\"alpha\", 1e-8, 1.0, log=True),\n",
    "    }\n",
    "\n",
    "    # conditional space: some hyperparams depend on other hyperparams\n",
    "    if param[\"booster\"] == \"gbtree\" or param[\"booster\"] == \"dart\":\n",
    "        param[\"max_depth\"] = trial.suggest_int(\"max_depth\", 1, 9)\n",
    "        param[\"eta\"] = trial.suggest_float(\"eta\", 1e-8, 1.0, log=True)\n",
    "        param[\"gamma\"] = trial.suggest_float(\"gamma\", 1e-8, 1.0, log=True)\n",
    "        param[\"grow_policy\"] = trial.suggest_categorical(\"grow_policy\", [\"depthwise\", \"lossguide\"])\n",
    "    \n",
    "    if param[\"booster\"] == \"dart\":\n",
    "        param[\"sample_type\"] = trial.suggest_categorical(\"sample_type\", [\"uniform\", \"weighted\"])\n",
    "        param[\"normalize_type\"] = trial.suggest_categorical(\"normalize_type\", [\"tree\", \"forest\"])\n",
    "        param[\"rate_drop\"] = trial.suggest_float(\"rate_drop\", 1e-8, 1.0, log=True)\n",
    "        param[\"skip_drop\"] = trial.suggest_float(\"skip_drop\", 1e-8, 1.0, log=True)\n",
    "\n",
    "    # Add a callback for pruning.\n",
    "    # This is the stopping criteria for successive halving: the accuracy after each round of training\n",
    "    pruning_callback = optuna.integration.XGBoostPruningCallback(trial, \"validation-auc\")\n",
    "    \n",
    "    # set up the model\n",
    "    bst = xgb.train(param, dtrain, evals=[(dtest, \"validation\")], callbacks=[pruning_callback])\n",
    "    \n",
    "    # evaluate\n",
    "    preds = bst.predict(dtest)\n",
    "    pred_labels = np.rint(preds)\n",
    "    accuracy = accuracy_score(y_test, pred_labels)\n",
    "    \n",
    "    return accuracy"
   ]
  },
  {
   "cell_type": "markdown",
   "metadata": {},
   "source": [
    "In the following code, we'll train **30 initial configurations**.\n",
    "\n",
    "As opposed to scikit-learn, Optuna does not find winning configurations and pass them to the next round, where they'll be trained with more resources.\n",
    "\n",
    "Instead, it stops configurations that do not look promising. Like this, all in all, it trains less models.\n",
    "\n",
    "The initial 30 configurations are sampled at random from the hyperparameter space."
   ]
  },
  {
   "cell_type": "code",
   "execution_count": 4,
   "metadata": {},
   "outputs": [
    {
     "name": "stderr",
     "output_type": "stream",
     "text": [
      "[I 2024-09-21 13:17:59,962] A new study created in memory with name: no-name-bbaf80d1-4d73-43df-8ae2-00b40261c1f7\n"
     ]
    },
    {
     "name": "stdout",
     "output_type": "stream",
     "text": [
      "[0]\tvalidation-auc:0.96795\n",
      "[1]\tvalidation-auc:0.96795\n",
      "[2]\tvalidation-auc:0.96795\n",
      "[3]\tvalidation-auc:0.96795\n",
      "[4]\tvalidation-auc:0.96795\n",
      "[5]\tvalidation-auc:0.96795\n",
      "[6]\tvalidation-auc:0.96795\n",
      "[7]\tvalidation-auc:0.96795\n",
      "[8]\tvalidation-auc:0.96795\n",
      "[9]\tvalidation-auc:0.96795\n"
     ]
    },
    {
     "name": "stderr",
     "output_type": "stream",
     "text": [
      "[I 2024-09-21 13:18:00,081] Trial 0 finished with value: 0.5944055944055944 and parameters: {'booster': 'dart', 'lambda': 3.5647914181848e-07, 'alpha': 0.00025407909433436827, 'max_depth': 3, 'eta': 3.5280216255704914e-06, 'gamma': 7.739700007568005e-07, 'grow_policy': 'depthwise', 'sample_type': 'uniform', 'normalize_type': 'forest', 'rate_drop': 2.769831656837777e-06, 'skip_drop': 0.3128486233462904}. Best is trial 0 with value: 0.5944055944055944.\n"
     ]
    },
    {
     "name": "stdout",
     "output_type": "stream",
     "text": [
      "[0]\tvalidation-auc:0.87302\n"
     ]
    },
    {
     "name": "stderr",
     "output_type": "stream",
     "text": [
      "[I 2024-09-21 13:18:00,100] Trial 1 pruned. Trial was pruned at iteration 1.\n"
     ]
    },
    {
     "name": "stdout",
     "output_type": "stream",
     "text": [
      "[0]\tvalidation-auc:0.96957\n",
      "[1]\tvalidation-auc:0.97201\n",
      "[2]\tvalidation-auc:0.97282\n",
      "[3]\tvalidation-auc:0.97282\n",
      "[4]\tvalidation-auc:0.97424\n",
      "[5]\tvalidation-auc:0.97566\n",
      "[6]\tvalidation-auc:0.97627\n",
      "[7]\tvalidation-auc:0.97688\n",
      "[8]\tvalidation-auc:0.97769\n",
      "[9]\tvalidation-auc:0.97789\n"
     ]
    },
    {
     "name": "stderr",
     "output_type": "stream",
     "text": [
      "[I 2024-09-21 13:18:00,150] Trial 2 finished with value: 0.8951048951048951 and parameters: {'booster': 'gblinear', 'lambda': 0.0001439336484499298, 'alpha': 0.0011518192933196165}. Best is trial 2 with value: 0.8951048951048951.\n"
     ]
    },
    {
     "name": "stdout",
     "output_type": "stream",
     "text": [
      "[0]\tvalidation-auc:0.94807\n",
      "[1]\tvalidation-auc:0.95477\n"
     ]
    },
    {
     "name": "stderr",
     "output_type": "stream",
     "text": [
      "[I 2024-09-21 13:18:00,170] Trial 3 pruned. Trial was pruned at iteration 1.\n"
     ]
    },
    {
     "name": "stdout",
     "output_type": "stream",
     "text": [
      "[0]\tvalidation-auc:0.96531\n"
     ]
    },
    {
     "name": "stderr",
     "output_type": "stream",
     "text": [
      "[I 2024-09-21 13:18:00,207] Trial 4 pruned. Trial was pruned at iteration 1.\n"
     ]
    },
    {
     "name": "stdout",
     "output_type": "stream",
     "text": [
      "[0]\tvalidation-auc:0.94807\n"
     ]
    },
    {
     "name": "stderr",
     "output_type": "stream",
     "text": [
      "[I 2024-09-21 13:18:00,246] Trial 5 pruned. Trial was pruned at iteration 1.\n"
     ]
    },
    {
     "name": "stdout",
     "output_type": "stream",
     "text": [
      "[0]\tvalidation-auc:0.97627\n",
      "[1]\tvalidation-auc:0.97525\n",
      "[2]\tvalidation-auc:0.97546\n",
      "[3]\tvalidation-auc:0.97667\n",
      "[4]\tvalidation-auc:0.97890\n",
      "[5]\tvalidation-auc:0.97992\n",
      "[6]\tvalidation-auc:0.97931\n",
      "[7]\tvalidation-auc:0.97890\n",
      "[8]\tvalidation-auc:0.97951\n",
      "[9]\tvalidation-auc:0.97992\n"
     ]
    },
    {
     "name": "stderr",
     "output_type": "stream",
     "text": [
      "[I 2024-09-21 13:18:00,304] Trial 6 finished with value: 0.9020979020979021 and parameters: {'booster': 'gblinear', 'lambda': 0.0005983439058114121, 'alpha': 4.161898803285618e-05}. Best is trial 6 with value: 0.9020979020979021.\n"
     ]
    },
    {
     "name": "stdout",
     "output_type": "stream",
     "text": [
      "[0]\tvalidation-auc:0.95051\n"
     ]
    },
    {
     "name": "stderr",
     "output_type": "stream",
     "text": [
      "[I 2024-09-21 13:18:00,315] Trial 7 pruned. Trial was pruned at iteration 1.\n"
     ]
    },
    {
     "name": "stdout",
     "output_type": "stream",
     "text": [
      "[0]\tvalidation-auc:0.93418\n"
     ]
    },
    {
     "name": "stderr",
     "output_type": "stream",
     "text": [
      "[I 2024-09-21 13:18:00,343] Trial 8 pruned. Trial was pruned at iteration 1.\n"
     ]
    },
    {
     "name": "stdout",
     "output_type": "stream",
     "text": [
      "[0]\tvalidation-auc:0.96369\n"
     ]
    },
    {
     "name": "stderr",
     "output_type": "stream",
     "text": [
      "[I 2024-09-21 13:18:00,350] Trial 9 pruned. Trial was pruned at iteration 1.\n"
     ]
    },
    {
     "name": "stdout",
     "output_type": "stream",
     "text": [
      "[0]\tvalidation-auc:0.95051\n"
     ]
    },
    {
     "name": "stderr",
     "output_type": "stream",
     "text": [
      "[I 2024-09-21 13:18:00,373] Trial 10 pruned. Trial was pruned at iteration 1.\n"
     ]
    },
    {
     "name": "stdout",
     "output_type": "stream",
     "text": [
      "[0]\tvalidation-auc:0.96592\n",
      "[1]\tvalidation-auc:0.96471\n"
     ]
    },
    {
     "name": "stderr",
     "output_type": "stream",
     "text": [
      "[I 2024-09-21 13:18:00,381] Trial 11 pruned. Trial was pruned at iteration 1.\n"
     ]
    },
    {
     "name": "stdout",
     "output_type": "stream",
     "text": [
      "[0]\tvalidation-auc:0.98073\n",
      "[1]\tvalidation-auc:0.98073\n",
      "[2]\tvalidation-auc:0.97911\n",
      "[3]\tvalidation-auc:0.98093\n",
      "[4]\tvalidation-auc:0.98174\n",
      "[5]\tvalidation-auc:0.98215\n",
      "[6]\tvalidation-auc:0.98337\n",
      "[7]\tvalidation-auc:0.98357\n",
      "[8]\tvalidation-auc:0.98458\n",
      "[9]\tvalidation-auc:0.98519\n"
     ]
    },
    {
     "name": "stderr",
     "output_type": "stream",
     "text": [
      "[I 2024-09-21 13:18:00,437] Trial 12 finished with value: 0.9230769230769231 and parameters: {'booster': 'gblinear', 'lambda': 2.4238806760008624e-08, 'alpha': 3.074667207707852e-07}. Best is trial 12 with value: 0.9230769230769231.\n"
     ]
    },
    {
     "name": "stdout",
     "output_type": "stream",
     "text": [
      "[0]\tvalidation-auc:0.97120\n",
      "[1]\tvalidation-auc:0.97708\n",
      "[2]\tvalidation-auc:0.97809\n",
      "[3]\tvalidation-auc:0.97992\n"
     ]
    },
    {
     "name": "stderr",
     "output_type": "stream",
     "text": [
      "[I 2024-09-21 13:18:00,450] Trial 13 pruned. Trial was pruned at iteration 3.\n"
     ]
    },
    {
     "name": "stdout",
     "output_type": "stream",
     "text": [
      "[0]\tvalidation-auc:0.97951\n",
      "[1]\tvalidation-auc:0.97769\n",
      "[2]\tvalidation-auc:0.97667\n",
      "[3]\tvalidation-auc:0.97606\n"
     ]
    },
    {
     "name": "stderr",
     "output_type": "stream",
     "text": [
      "[I 2024-09-21 13:18:00,477] Trial 14 pruned. Trial was pruned at iteration 3.\n"
     ]
    },
    {
     "name": "stdout",
     "output_type": "stream",
     "text": [
      "[0]\tvalidation-auc:0.95903\n"
     ]
    },
    {
     "name": "stderr",
     "output_type": "stream",
     "text": [
      "[I 2024-09-21 13:18:00,507] Trial 15 pruned. Trial was pruned at iteration 1.\n"
     ]
    },
    {
     "name": "stdout",
     "output_type": "stream",
     "text": [
      "[0]\tvalidation-auc:0.95051\n"
     ]
    },
    {
     "name": "stderr",
     "output_type": "stream",
     "text": [
      "[I 2024-09-21 13:18:00,523] Trial 16 pruned. Trial was pruned at iteration 1.\n"
     ]
    },
    {
     "name": "stdout",
     "output_type": "stream",
     "text": [
      "[0]\tvalidation-auc:0.50000\n"
     ]
    },
    {
     "name": "stderr",
     "output_type": "stream",
     "text": [
      "[I 2024-09-21 13:18:00,544] Trial 17 pruned. Trial was pruned at iteration 1.\n"
     ]
    },
    {
     "name": "stdout",
     "output_type": "stream",
     "text": [
      "[0]\tvalidation-auc:0.94807\n"
     ]
    },
    {
     "name": "stderr",
     "output_type": "stream",
     "text": [
      "[I 2024-09-21 13:18:00,576] Trial 18 pruned. Trial was pruned at iteration 1.\n"
     ]
    },
    {
     "name": "stdout",
     "output_type": "stream",
     "text": [
      "[0]\tvalidation-auc:0.96359\n",
      "[1]\tvalidation-auc:0.95375\n"
     ]
    },
    {
     "name": "stderr",
     "output_type": "stream",
     "text": [
      "[I 2024-09-21 13:18:00,602] Trial 19 pruned. Trial was pruned at iteration 1.\n"
     ]
    },
    {
     "name": "stdout",
     "output_type": "stream",
     "text": [
      "[0]\tvalidation-auc:0.94787\n",
      "[1]\tvalidation-auc:0.95183\n"
     ]
    },
    {
     "name": "stderr",
     "output_type": "stream",
     "text": [
      "[I 2024-09-21 13:18:00,632] Trial 20 pruned. Trial was pruned at iteration 1.\n"
     ]
    },
    {
     "name": "stdout",
     "output_type": "stream",
     "text": [
      "[0]\tvalidation-auc:0.95051\n"
     ]
    },
    {
     "name": "stderr",
     "output_type": "stream",
     "text": [
      "[I 2024-09-21 13:18:00,643] Trial 21 pruned. Trial was pruned at iteration 1.\n"
     ]
    },
    {
     "name": "stdout",
     "output_type": "stream",
     "text": [
      "[0]\tvalidation-auc:0.95051\n"
     ]
    },
    {
     "name": "stderr",
     "output_type": "stream",
     "text": [
      "[I 2024-09-21 13:18:00,652] Trial 22 pruned. Trial was pruned at iteration 1.\n"
     ]
    },
    {
     "name": "stdout",
     "output_type": "stream",
     "text": [
      "[0]\tvalidation-auc:0.92667\n",
      "[1]\tvalidation-auc:0.93083\n"
     ]
    },
    {
     "name": "stderr",
     "output_type": "stream",
     "text": [
      "[I 2024-09-21 13:18:00,680] Trial 23 pruned. Trial was pruned at iteration 1.\n"
     ]
    },
    {
     "name": "stdout",
     "output_type": "stream",
     "text": [
      "[0]\tvalidation-auc:0.95477\n",
      "[1]\tvalidation-auc:0.96775\n",
      "[2]\tvalidation-auc:0.96673\n"
     ]
    },
    {
     "name": "stderr",
     "output_type": "stream",
     "text": [
      "[I 2024-09-21 13:18:00,716] Trial 24 pruned. Trial was pruned at iteration 3.\n"
     ]
    },
    {
     "name": "stdout",
     "output_type": "stream",
     "text": [
      "[0]\tvalidation-auc:0.95872\n"
     ]
    },
    {
     "name": "stderr",
     "output_type": "stream",
     "text": [
      "[I 2024-09-21 13:18:00,740] Trial 25 pruned. Trial was pruned at iteration 1.\n"
     ]
    },
    {
     "name": "stdout",
     "output_type": "stream",
     "text": [
      "[0]\tvalidation-auc:0.93854\n",
      "[1]\tvalidation-auc:0.94736\n"
     ]
    },
    {
     "name": "stderr",
     "output_type": "stream",
     "text": [
      "[I 2024-09-21 13:18:00,766] Trial 26 pruned. Trial was pruned at iteration 1.\n"
     ]
    },
    {
     "name": "stdout",
     "output_type": "stream",
     "text": [
      "[0]\tvalidation-auc:0.95020\n",
      "[1]\tvalidation-auc:0.96917\n",
      "[2]\tvalidation-auc:0.98185\n",
      "[3]\tvalidation-auc:0.99097\n",
      "[4]\tvalidation-auc:0.99290\n",
      "[5]\tvalidation-auc:0.99371\n",
      "[6]\tvalidation-auc:0.99412\n",
      "[7]\tvalidation-auc:0.99493\n",
      "[8]\tvalidation-auc:0.99493\n",
      "[9]\tvalidation-auc:0.99452\n"
     ]
    },
    {
     "name": "stderr",
     "output_type": "stream",
     "text": [
      "[I 2024-09-21 13:18:00,849] Trial 27 finished with value: 0.951048951048951 and parameters: {'booster': 'dart', 'lambda': 0.5211794366482341, 'alpha': 5.9082205314673086e-06, 'max_depth': 7, 'eta': 0.38723109273768735, 'gamma': 0.04109685372397155, 'grow_policy': 'lossguide', 'sample_type': 'weighted', 'normalize_type': 'tree', 'rate_drop': 0.00013703669392688166, 'skip_drop': 4.418141527593644e-05}. Best is trial 27 with value: 0.951048951048951.\n"
     ]
    },
    {
     "name": "stdout",
     "output_type": "stream",
     "text": [
      "[0]\tvalidation-auc:0.97323\n",
      "[1]\tvalidation-auc:0.97525\n",
      "[2]\tvalidation-auc:0.97647\n"
     ]
    },
    {
     "name": "stderr",
     "output_type": "stream",
     "text": [
      "[I 2024-09-21 13:18:00,866] Trial 28 pruned. Trial was pruned at iteration 3.\n"
     ]
    },
    {
     "name": "stdout",
     "output_type": "stream",
     "text": [
      "[0]\tvalidation-auc:0.94807\n"
     ]
    },
    {
     "name": "stderr",
     "output_type": "stream",
     "text": [
      "[I 2024-09-21 13:18:00,885] Trial 29 pruned. Trial was pruned at iteration 1.\n"
     ]
    }
   ],
   "source": [
    "study = optuna.create_study(\n",
    "    \n",
    "    # a way to sample hyperparameters to create the configurations\n",
    "    sampler=optuna.samplers.RandomSampler(),\n",
    "    \n",
    "    # successive halving\n",
    "    pruner=optuna.pruners.SuccessiveHalvingPruner(\n",
    "        # controls the minimum validation rounds that it needs to wait before stopping\n",
    "        min_resource=1,\n",
    "        \n",
    "        reduction_factor=3,\n",
    "        \n",
    "        # Minimum number of trials that need to complete a rung before any trial\n",
    "        # is considered for promotion\n",
    "        bootstrap_count = 0,\n",
    "    ),\n",
    "    \n",
    "    direction=\"maximize\",    \n",
    ")\n",
    "\n",
    "\n",
    "study.optimize(\n",
    "    objective, \n",
    "    \n",
    "    # the number of initial configurations\n",
    "    n_trials=30, \n",
    ")"
   ]
  },
  {
   "cell_type": "markdown",
   "metadata": {},
   "source": [
    "In this particular case, `min_resource` controls the callback, that is, the minimum number of iterations / validations that it needs to wait before stopping the training.\n",
    "\n",
    "If `min_resource=4` no model will be stopped until they undergo 4 rounds of validation. \n",
    "\n",
    "If `min_resource=\"auto\"` then 1 is the minimum possible. A model can be stopped if in the first round it produces a score below previous models.\n",
    "\n",
    "Change the `min_resource` and check it out."
   ]
  },
  {
   "cell_type": "code",
   "execution_count": 5,
   "metadata": {},
   "outputs": [
    {
     "data": {
      "text/plain": [
       "{'booster': 'dart',\n",
       " 'lambda': 0.5211794366482341,\n",
       " 'alpha': 5.9082205314673086e-06,\n",
       " 'max_depth': 7,\n",
       " 'eta': 0.38723109273768735,\n",
       " 'gamma': 0.04109685372397155,\n",
       " 'grow_policy': 'lossguide',\n",
       " 'sample_type': 'weighted',\n",
       " 'normalize_type': 'tree',\n",
       " 'rate_drop': 0.00013703669392688166,\n",
       " 'skip_drop': 4.418141527593644e-05}"
      ]
     },
     "execution_count": 5,
     "metadata": {},
     "output_type": "execute_result"
    }
   ],
   "source": [
    "# the best hyperparameters\n",
    "\n",
    "study.best_params"
   ]
  },
  {
   "cell_type": "code",
   "execution_count": 6,
   "metadata": {},
   "outputs": [
    {
     "data": {
      "text/plain": [
       "0.951048951048951"
      ]
     },
     "execution_count": 6,
     "metadata": {},
     "output_type": "execute_result"
    }
   ],
   "source": [
    "# the best performance value\n",
    "\n",
    "study.best_value"
   ]
  },
  {
   "cell_type": "code",
   "execution_count": 7,
   "metadata": {
    "scrolled": true
   },
   "outputs": [
    {
     "data": {
      "text/html": [
       "<div>\n",
       "<style scoped>\n",
       "    .dataframe tbody tr th:only-of-type {\n",
       "        vertical-align: middle;\n",
       "    }\n",
       "\n",
       "    .dataframe tbody tr th {\n",
       "        vertical-align: top;\n",
       "    }\n",
       "\n",
       "    .dataframe thead th {\n",
       "        text-align: right;\n",
       "    }\n",
       "</style>\n",
       "<table border=\"1\" class=\"dataframe\">\n",
       "  <thead>\n",
       "    <tr style=\"text-align: right;\">\n",
       "      <th></th>\n",
       "      <th>number</th>\n",
       "      <th>value</th>\n",
       "      <th>datetime_start</th>\n",
       "      <th>datetime_complete</th>\n",
       "      <th>duration</th>\n",
       "      <th>params_alpha</th>\n",
       "      <th>params_booster</th>\n",
       "      <th>params_eta</th>\n",
       "      <th>params_gamma</th>\n",
       "      <th>params_grow_policy</th>\n",
       "      <th>params_lambda</th>\n",
       "      <th>params_max_depth</th>\n",
       "      <th>params_normalize_type</th>\n",
       "      <th>params_rate_drop</th>\n",
       "      <th>params_sample_type</th>\n",
       "      <th>params_skip_drop</th>\n",
       "      <th>system_attrs_completed_rung_0</th>\n",
       "      <th>system_attrs_completed_rung_1</th>\n",
       "      <th>system_attrs_completed_rung_2</th>\n",
       "      <th>state</th>\n",
       "    </tr>\n",
       "  </thead>\n",
       "  <tbody>\n",
       "    <tr>\n",
       "      <th>0</th>\n",
       "      <td>0</td>\n",
       "      <td>0.594406</td>\n",
       "      <td>2024-09-21 13:17:59.966848</td>\n",
       "      <td>2024-09-21 13:18:00.080785</td>\n",
       "      <td>0 days 00:00:00.113937</td>\n",
       "      <td>2.540791e-04</td>\n",
       "      <td>dart</td>\n",
       "      <td>3.528022e-06</td>\n",
       "      <td>7.739700e-07</td>\n",
       "      <td>depthwise</td>\n",
       "      <td>3.564791e-07</td>\n",
       "      <td>3.0</td>\n",
       "      <td>forest</td>\n",
       "      <td>2.769832e-06</td>\n",
       "      <td>uniform</td>\n",
       "      <td>3.128486e-01</td>\n",
       "      <td>0.967951</td>\n",
       "      <td>0.967951</td>\n",
       "      <td>0.967951</td>\n",
       "      <td>COMPLETE</td>\n",
       "    </tr>\n",
       "    <tr>\n",
       "      <th>1</th>\n",
       "      <td>1</td>\n",
       "      <td>0.873022</td>\n",
       "      <td>2024-09-21 13:18:00.082784</td>\n",
       "      <td>2024-09-21 13:18:00.099773</td>\n",
       "      <td>0 days 00:00:00.016989</td>\n",
       "      <td>3.747947e-04</td>\n",
       "      <td>gbtree</td>\n",
       "      <td>1.576745e-04</td>\n",
       "      <td>4.153013e-05</td>\n",
       "      <td>depthwise</td>\n",
       "      <td>1.013827e-02</td>\n",
       "      <td>1.0</td>\n",
       "      <td>NaN</td>\n",
       "      <td>NaN</td>\n",
       "      <td>NaN</td>\n",
       "      <td>NaN</td>\n",
       "      <td>0.873022</td>\n",
       "      <td>NaN</td>\n",
       "      <td>NaN</td>\n",
       "      <td>PRUNED</td>\n",
       "    </tr>\n",
       "    <tr>\n",
       "      <th>2</th>\n",
       "      <td>2</td>\n",
       "      <td>0.895105</td>\n",
       "      <td>2024-09-21 13:18:00.105774</td>\n",
       "      <td>2024-09-21 13:18:00.149745</td>\n",
       "      <td>0 days 00:00:00.043971</td>\n",
       "      <td>1.151819e-03</td>\n",
       "      <td>gblinear</td>\n",
       "      <td>NaN</td>\n",
       "      <td>NaN</td>\n",
       "      <td>NaN</td>\n",
       "      <td>1.439336e-04</td>\n",
       "      <td>NaN</td>\n",
       "      <td>NaN</td>\n",
       "      <td>NaN</td>\n",
       "      <td>NaN</td>\n",
       "      <td>NaN</td>\n",
       "      <td>0.972008</td>\n",
       "      <td>0.972819</td>\n",
       "      <td>0.977890</td>\n",
       "      <td>COMPLETE</td>\n",
       "    </tr>\n",
       "    <tr>\n",
       "      <th>3</th>\n",
       "      <td>3</td>\n",
       "      <td>0.954767</td>\n",
       "      <td>2024-09-21 13:18:00.151742</td>\n",
       "      <td>2024-09-21 13:18:00.170734</td>\n",
       "      <td>0 days 00:00:00.018992</td>\n",
       "      <td>9.382316e-01</td>\n",
       "      <td>gblinear</td>\n",
       "      <td>NaN</td>\n",
       "      <td>NaN</td>\n",
       "      <td>NaN</td>\n",
       "      <td>4.147224e-08</td>\n",
       "      <td>NaN</td>\n",
       "      <td>NaN</td>\n",
       "      <td>NaN</td>\n",
       "      <td>NaN</td>\n",
       "      <td>NaN</td>\n",
       "      <td>0.954767</td>\n",
       "      <td>NaN</td>\n",
       "      <td>NaN</td>\n",
       "      <td>PRUNED</td>\n",
       "    </tr>\n",
       "    <tr>\n",
       "      <th>4</th>\n",
       "      <td>4</td>\n",
       "      <td>0.965923</td>\n",
       "      <td>2024-09-21 13:18:00.173730</td>\n",
       "      <td>2024-09-21 13:18:00.206713</td>\n",
       "      <td>0 days 00:00:00.032983</td>\n",
       "      <td>1.205494e-03</td>\n",
       "      <td>dart</td>\n",
       "      <td>1.979310e-02</td>\n",
       "      <td>1.187112e-03</td>\n",
       "      <td>lossguide</td>\n",
       "      <td>2.597402e-08</td>\n",
       "      <td>5.0</td>\n",
       "      <td>forest</td>\n",
       "      <td>2.908401e-08</td>\n",
       "      <td>weighted</td>\n",
       "      <td>3.256841e-01</td>\n",
       "      <td>0.965923</td>\n",
       "      <td>NaN</td>\n",
       "      <td>NaN</td>\n",
       "      <td>PRUNED</td>\n",
       "    </tr>\n",
       "    <tr>\n",
       "      <th>5</th>\n",
       "      <td>5</td>\n",
       "      <td>0.950811</td>\n",
       "      <td>2024-09-21 13:18:00.208709</td>\n",
       "      <td>2024-09-21 13:18:00.245689</td>\n",
       "      <td>0 days 00:00:00.036980</td>\n",
       "      <td>4.497565e-07</td>\n",
       "      <td>gbtree</td>\n",
       "      <td>1.867661e-05</td>\n",
       "      <td>3.592467e-06</td>\n",
       "      <td>lossguide</td>\n",
       "      <td>8.265671e-06</td>\n",
       "      <td>7.0</td>\n",
       "      <td>NaN</td>\n",
       "      <td>NaN</td>\n",
       "      <td>NaN</td>\n",
       "      <td>NaN</td>\n",
       "      <td>0.950811</td>\n",
       "      <td>NaN</td>\n",
       "      <td>NaN</td>\n",
       "      <td>PRUNED</td>\n",
       "    </tr>\n",
       "    <tr>\n",
       "      <th>6</th>\n",
       "      <td>6</td>\n",
       "      <td>0.902098</td>\n",
       "      <td>2024-09-21 13:18:00.247691</td>\n",
       "      <td>2024-09-21 13:18:00.302674</td>\n",
       "      <td>0 days 00:00:00.054983</td>\n",
       "      <td>4.161899e-05</td>\n",
       "      <td>gblinear</td>\n",
       "      <td>NaN</td>\n",
       "      <td>NaN</td>\n",
       "      <td>NaN</td>\n",
       "      <td>5.983439e-04</td>\n",
       "      <td>NaN</td>\n",
       "      <td>NaN</td>\n",
       "      <td>NaN</td>\n",
       "      <td>NaN</td>\n",
       "      <td>NaN</td>\n",
       "      <td>0.975254</td>\n",
       "      <td>0.976673</td>\n",
       "      <td>0.979919</td>\n",
       "      <td>COMPLETE</td>\n",
       "    </tr>\n",
       "    <tr>\n",
       "      <th>7</th>\n",
       "      <td>7</td>\n",
       "      <td>0.950507</td>\n",
       "      <td>2024-09-21 13:18:00.305655</td>\n",
       "      <td>2024-09-21 13:18:00.315649</td>\n",
       "      <td>0 days 00:00:00.009994</td>\n",
       "      <td>5.439605e-02</td>\n",
       "      <td>gbtree</td>\n",
       "      <td>7.858191e-06</td>\n",
       "      <td>1.856325e-05</td>\n",
       "      <td>depthwise</td>\n",
       "      <td>8.969816e-03</td>\n",
       "      <td>2.0</td>\n",
       "      <td>NaN</td>\n",
       "      <td>NaN</td>\n",
       "      <td>NaN</td>\n",
       "      <td>NaN</td>\n",
       "      <td>0.950507</td>\n",
       "      <td>NaN</td>\n",
       "      <td>NaN</td>\n",
       "      <td>PRUNED</td>\n",
       "    </tr>\n",
       "    <tr>\n",
       "      <th>8</th>\n",
       "      <td>8</td>\n",
       "      <td>0.934178</td>\n",
       "      <td>2024-09-21 13:18:00.316650</td>\n",
       "      <td>2024-09-21 13:18:00.343635</td>\n",
       "      <td>0 days 00:00:00.026985</td>\n",
       "      <td>5.866370e-03</td>\n",
       "      <td>dart</td>\n",
       "      <td>1.685504e-03</td>\n",
       "      <td>9.141614e-01</td>\n",
       "      <td>depthwise</td>\n",
       "      <td>5.390612e-06</td>\n",
       "      <td>5.0</td>\n",
       "      <td>forest</td>\n",
       "      <td>1.476308e-02</td>\n",
       "      <td>weighted</td>\n",
       "      <td>2.939456e-03</td>\n",
       "      <td>0.934178</td>\n",
       "      <td>NaN</td>\n",
       "      <td>NaN</td>\n",
       "      <td>PRUNED</td>\n",
       "    </tr>\n",
       "    <tr>\n",
       "      <th>9</th>\n",
       "      <td>9</td>\n",
       "      <td>0.957404</td>\n",
       "      <td>2024-09-21 13:18:00.344632</td>\n",
       "      <td>2024-09-21 13:18:00.350629</td>\n",
       "      <td>0 days 00:00:00.005997</td>\n",
       "      <td>1.722960e-04</td>\n",
       "      <td>gblinear</td>\n",
       "      <td>NaN</td>\n",
       "      <td>NaN</td>\n",
       "      <td>NaN</td>\n",
       "      <td>4.183236e-03</td>\n",
       "      <td>NaN</td>\n",
       "      <td>NaN</td>\n",
       "      <td>NaN</td>\n",
       "      <td>NaN</td>\n",
       "      <td>NaN</td>\n",
       "      <td>0.957404</td>\n",
       "      <td>NaN</td>\n",
       "      <td>NaN</td>\n",
       "      <td>PRUNED</td>\n",
       "    </tr>\n",
       "    <tr>\n",
       "      <th>10</th>\n",
       "      <td>10</td>\n",
       "      <td>0.950507</td>\n",
       "      <td>2024-09-21 13:18:00.351630</td>\n",
       "      <td>2024-09-21 13:18:00.372616</td>\n",
       "      <td>0 days 00:00:00.020986</td>\n",
       "      <td>4.113220e-04</td>\n",
       "      <td>gbtree</td>\n",
       "      <td>4.009119e-05</td>\n",
       "      <td>5.514505e-08</td>\n",
       "      <td>lossguide</td>\n",
       "      <td>1.195040e-05</td>\n",
       "      <td>2.0</td>\n",
       "      <td>NaN</td>\n",
       "      <td>NaN</td>\n",
       "      <td>NaN</td>\n",
       "      <td>NaN</td>\n",
       "      <td>0.950507</td>\n",
       "      <td>NaN</td>\n",
       "      <td>NaN</td>\n",
       "      <td>PRUNED</td>\n",
       "    </tr>\n",
       "    <tr>\n",
       "      <th>11</th>\n",
       "      <td>11</td>\n",
       "      <td>0.964706</td>\n",
       "      <td>2024-09-21 13:18:00.374616</td>\n",
       "      <td>2024-09-21 13:18:00.380612</td>\n",
       "      <td>0 days 00:00:00.005996</td>\n",
       "      <td>6.856194e-03</td>\n",
       "      <td>gblinear</td>\n",
       "      <td>NaN</td>\n",
       "      <td>NaN</td>\n",
       "      <td>NaN</td>\n",
       "      <td>2.246536e-04</td>\n",
       "      <td>NaN</td>\n",
       "      <td>NaN</td>\n",
       "      <td>NaN</td>\n",
       "      <td>NaN</td>\n",
       "      <td>NaN</td>\n",
       "      <td>0.964706</td>\n",
       "      <td>NaN</td>\n",
       "      <td>NaN</td>\n",
       "      <td>PRUNED</td>\n",
       "    </tr>\n",
       "    <tr>\n",
       "      <th>12</th>\n",
       "      <td>12</td>\n",
       "      <td>0.923077</td>\n",
       "      <td>2024-09-21 13:18:00.382610</td>\n",
       "      <td>2024-09-21 13:18:00.436589</td>\n",
       "      <td>0 days 00:00:00.053979</td>\n",
       "      <td>3.074667e-07</td>\n",
       "      <td>gblinear</td>\n",
       "      <td>NaN</td>\n",
       "      <td>NaN</td>\n",
       "      <td>NaN</td>\n",
       "      <td>2.423881e-08</td>\n",
       "      <td>NaN</td>\n",
       "      <td>NaN</td>\n",
       "      <td>NaN</td>\n",
       "      <td>NaN</td>\n",
       "      <td>NaN</td>\n",
       "      <td>0.980730</td>\n",
       "      <td>0.980933</td>\n",
       "      <td>0.985193</td>\n",
       "      <td>COMPLETE</td>\n",
       "    </tr>\n",
       "    <tr>\n",
       "      <th>13</th>\n",
       "      <td>13</td>\n",
       "      <td>0.979919</td>\n",
       "      <td>2024-09-21 13:18:00.438577</td>\n",
       "      <td>2024-09-21 13:18:00.449574</td>\n",
       "      <td>0 days 00:00:00.010997</td>\n",
       "      <td>2.726992e-06</td>\n",
       "      <td>gblinear</td>\n",
       "      <td>NaN</td>\n",
       "      <td>NaN</td>\n",
       "      <td>NaN</td>\n",
       "      <td>7.880339e-07</td>\n",
       "      <td>NaN</td>\n",
       "      <td>NaN</td>\n",
       "      <td>NaN</td>\n",
       "      <td>NaN</td>\n",
       "      <td>NaN</td>\n",
       "      <td>0.977079</td>\n",
       "      <td>0.979919</td>\n",
       "      <td>NaN</td>\n",
       "      <td>PRUNED</td>\n",
       "    </tr>\n",
       "    <tr>\n",
       "      <th>14</th>\n",
       "      <td>14</td>\n",
       "      <td>0.976065</td>\n",
       "      <td>2024-09-21 13:18:00.451573</td>\n",
       "      <td>2024-09-21 13:18:00.477556</td>\n",
       "      <td>0 days 00:00:00.025983</td>\n",
       "      <td>1.800211e-03</td>\n",
       "      <td>gblinear</td>\n",
       "      <td>NaN</td>\n",
       "      <td>NaN</td>\n",
       "      <td>NaN</td>\n",
       "      <td>4.862008e-05</td>\n",
       "      <td>NaN</td>\n",
       "      <td>NaN</td>\n",
       "      <td>NaN</td>\n",
       "      <td>NaN</td>\n",
       "      <td>NaN</td>\n",
       "      <td>0.977688</td>\n",
       "      <td>0.976065</td>\n",
       "      <td>NaN</td>\n",
       "      <td>PRUNED</td>\n",
       "    </tr>\n",
       "    <tr>\n",
       "      <th>15</th>\n",
       "      <td>15</td>\n",
       "      <td>0.969473</td>\n",
       "      <td>2024-09-21 13:18:00.479558</td>\n",
       "      <td>2024-09-21 13:18:00.507542</td>\n",
       "      <td>0 days 00:00:00.027984</td>\n",
       "      <td>2.965525e-01</td>\n",
       "      <td>gbtree</td>\n",
       "      <td>3.440713e-01</td>\n",
       "      <td>8.857143e-04</td>\n",
       "      <td>depthwise</td>\n",
       "      <td>3.923890e-03</td>\n",
       "      <td>8.0</td>\n",
       "      <td>NaN</td>\n",
       "      <td>NaN</td>\n",
       "      <td>NaN</td>\n",
       "      <td>NaN</td>\n",
       "      <td>0.969473</td>\n",
       "      <td>NaN</td>\n",
       "      <td>NaN</td>\n",
       "      <td>PRUNED</td>\n",
       "    </tr>\n",
       "    <tr>\n",
       "      <th>16</th>\n",
       "      <td>16</td>\n",
       "      <td>0.950710</td>\n",
       "      <td>2024-09-21 13:18:00.511541</td>\n",
       "      <td>2024-09-21 13:18:00.522534</td>\n",
       "      <td>0 days 00:00:00.010993</td>\n",
       "      <td>3.342709e-04</td>\n",
       "      <td>gbtree</td>\n",
       "      <td>2.125335e-02</td>\n",
       "      <td>6.482778e-03</td>\n",
       "      <td>lossguide</td>\n",
       "      <td>2.396347e-07</td>\n",
       "      <td>2.0</td>\n",
       "      <td>NaN</td>\n",
       "      <td>NaN</td>\n",
       "      <td>NaN</td>\n",
       "      <td>NaN</td>\n",
       "      <td>0.950710</td>\n",
       "      <td>NaN</td>\n",
       "      <td>NaN</td>\n",
       "      <td>PRUNED</td>\n",
       "    </tr>\n",
       "    <tr>\n",
       "      <th>17</th>\n",
       "      <td>17</td>\n",
       "      <td>0.500000</td>\n",
       "      <td>2024-09-21 13:18:00.529530</td>\n",
       "      <td>2024-09-21 13:18:00.543519</td>\n",
       "      <td>0 days 00:00:00.013989</td>\n",
       "      <td>2.106708e-02</td>\n",
       "      <td>gbtree</td>\n",
       "      <td>1.146351e-08</td>\n",
       "      <td>1.393172e-01</td>\n",
       "      <td>lossguide</td>\n",
       "      <td>1.561709e-03</td>\n",
       "      <td>1.0</td>\n",
       "      <td>NaN</td>\n",
       "      <td>NaN</td>\n",
       "      <td>NaN</td>\n",
       "      <td>NaN</td>\n",
       "      <td>0.500000</td>\n",
       "      <td>NaN</td>\n",
       "      <td>NaN</td>\n",
       "      <td>PRUNED</td>\n",
       "    </tr>\n",
       "    <tr>\n",
       "      <th>18</th>\n",
       "      <td>18</td>\n",
       "      <td>0.955578</td>\n",
       "      <td>2024-09-21 13:18:00.545519</td>\n",
       "      <td>2024-09-21 13:18:00.575500</td>\n",
       "      <td>0 days 00:00:00.029981</td>\n",
       "      <td>2.368092e-05</td>\n",
       "      <td>dart</td>\n",
       "      <td>5.431393e-03</td>\n",
       "      <td>2.620525e-02</td>\n",
       "      <td>lossguide</td>\n",
       "      <td>1.675038e-08</td>\n",
       "      <td>6.0</td>\n",
       "      <td>tree</td>\n",
       "      <td>2.395107e-08</td>\n",
       "      <td>weighted</td>\n",
       "      <td>3.920631e-02</td>\n",
       "      <td>0.955578</td>\n",
       "      <td>NaN</td>\n",
       "      <td>NaN</td>\n",
       "      <td>PRUNED</td>\n",
       "    </tr>\n",
       "    <tr>\n",
       "      <th>19</th>\n",
       "      <td>19</td>\n",
       "      <td>0.953753</td>\n",
       "      <td>2024-09-21 13:18:00.577498</td>\n",
       "      <td>2024-09-21 13:18:00.601486</td>\n",
       "      <td>0 days 00:00:00.023988</td>\n",
       "      <td>3.394824e-06</td>\n",
       "      <td>gbtree</td>\n",
       "      <td>8.940588e-07</td>\n",
       "      <td>2.059309e-05</td>\n",
       "      <td>depthwise</td>\n",
       "      <td>9.929128e-02</td>\n",
       "      <td>8.0</td>\n",
       "      <td>NaN</td>\n",
       "      <td>NaN</td>\n",
       "      <td>NaN</td>\n",
       "      <td>NaN</td>\n",
       "      <td>0.953753</td>\n",
       "      <td>NaN</td>\n",
       "      <td>NaN</td>\n",
       "      <td>PRUNED</td>\n",
       "    </tr>\n",
       "    <tr>\n",
       "      <th>20</th>\n",
       "      <td>20</td>\n",
       "      <td>0.951826</td>\n",
       "      <td>2024-09-21 13:18:00.603484</td>\n",
       "      <td>2024-09-21 13:18:00.631470</td>\n",
       "      <td>0 days 00:00:00.027986</td>\n",
       "      <td>3.162930e-02</td>\n",
       "      <td>dart</td>\n",
       "      <td>5.500313e-07</td>\n",
       "      <td>1.044142e-01</td>\n",
       "      <td>depthwise</td>\n",
       "      <td>1.113886e-08</td>\n",
       "      <td>8.0</td>\n",
       "      <td>tree</td>\n",
       "      <td>4.570920e-01</td>\n",
       "      <td>uniform</td>\n",
       "      <td>5.311781e-06</td>\n",
       "      <td>0.951826</td>\n",
       "      <td>NaN</td>\n",
       "      <td>NaN</td>\n",
       "      <td>PRUNED</td>\n",
       "    </tr>\n",
       "    <tr>\n",
       "      <th>21</th>\n",
       "      <td>21</td>\n",
       "      <td>0.950507</td>\n",
       "      <td>2024-09-21 13:18:00.634467</td>\n",
       "      <td>2024-09-21 13:18:00.642461</td>\n",
       "      <td>0 days 00:00:00.007994</td>\n",
       "      <td>9.848267e-04</td>\n",
       "      <td>gbtree</td>\n",
       "      <td>3.470483e-03</td>\n",
       "      <td>1.443640e-08</td>\n",
       "      <td>lossguide</td>\n",
       "      <td>3.161258e-06</td>\n",
       "      <td>2.0</td>\n",
       "      <td>NaN</td>\n",
       "      <td>NaN</td>\n",
       "      <td>NaN</td>\n",
       "      <td>NaN</td>\n",
       "      <td>0.950507</td>\n",
       "      <td>NaN</td>\n",
       "      <td>NaN</td>\n",
       "      <td>PRUNED</td>\n",
       "    </tr>\n",
       "    <tr>\n",
       "      <th>22</th>\n",
       "      <td>22</td>\n",
       "      <td>0.950507</td>\n",
       "      <td>2024-09-21 13:18:00.644460</td>\n",
       "      <td>2024-09-21 13:18:00.652455</td>\n",
       "      <td>0 days 00:00:00.007995</td>\n",
       "      <td>1.547806e-08</td>\n",
       "      <td>gbtree</td>\n",
       "      <td>7.781360e-05</td>\n",
       "      <td>1.557603e-03</td>\n",
       "      <td>lossguide</td>\n",
       "      <td>4.056175e-02</td>\n",
       "      <td>2.0</td>\n",
       "      <td>NaN</td>\n",
       "      <td>NaN</td>\n",
       "      <td>NaN</td>\n",
       "      <td>NaN</td>\n",
       "      <td>0.950507</td>\n",
       "      <td>NaN</td>\n",
       "      <td>NaN</td>\n",
       "      <td>PRUNED</td>\n",
       "    </tr>\n",
       "    <tr>\n",
       "      <th>23</th>\n",
       "      <td>23</td>\n",
       "      <td>0.930832</td>\n",
       "      <td>2024-09-21 13:18:00.654455</td>\n",
       "      <td>2024-09-21 13:18:00.679440</td>\n",
       "      <td>0 days 00:00:00.024985</td>\n",
       "      <td>4.617383e-07</td>\n",
       "      <td>dart</td>\n",
       "      <td>1.366673e-02</td>\n",
       "      <td>1.811814e-07</td>\n",
       "      <td>lossguide</td>\n",
       "      <td>1.800223e-08</td>\n",
       "      <td>4.0</td>\n",
       "      <td>forest</td>\n",
       "      <td>8.168142e-06</td>\n",
       "      <td>uniform</td>\n",
       "      <td>1.929605e-03</td>\n",
       "      <td>0.930832</td>\n",
       "      <td>NaN</td>\n",
       "      <td>NaN</td>\n",
       "      <td>PRUNED</td>\n",
       "    </tr>\n",
       "    <tr>\n",
       "      <th>24</th>\n",
       "      <td>24</td>\n",
       "      <td>0.966024</td>\n",
       "      <td>2024-09-21 13:18:00.681439</td>\n",
       "      <td>2024-09-21 13:18:00.716419</td>\n",
       "      <td>0 days 00:00:00.034980</td>\n",
       "      <td>1.107442e-07</td>\n",
       "      <td>dart</td>\n",
       "      <td>9.608361e-03</td>\n",
       "      <td>9.569392e-04</td>\n",
       "      <td>depthwise</td>\n",
       "      <td>3.346169e-05</td>\n",
       "      <td>6.0</td>\n",
       "      <td>forest</td>\n",
       "      <td>3.448273e-03</td>\n",
       "      <td>uniform</td>\n",
       "      <td>7.386126e-01</td>\n",
       "      <td>0.967748</td>\n",
       "      <td>0.966024</td>\n",
       "      <td>NaN</td>\n",
       "      <td>PRUNED</td>\n",
       "    </tr>\n",
       "    <tr>\n",
       "      <th>25</th>\n",
       "      <td>25</td>\n",
       "      <td>0.966937</td>\n",
       "      <td>2024-09-21 13:18:00.718417</td>\n",
       "      <td>2024-09-21 13:18:00.735409</td>\n",
       "      <td>0 days 00:00:00.016992</td>\n",
       "      <td>9.139311e-03</td>\n",
       "      <td>dart</td>\n",
       "      <td>1.911161e-07</td>\n",
       "      <td>6.237469e-05</td>\n",
       "      <td>lossguide</td>\n",
       "      <td>3.079664e-08</td>\n",
       "      <td>3.0</td>\n",
       "      <td>forest</td>\n",
       "      <td>4.021944e-06</td>\n",
       "      <td>weighted</td>\n",
       "      <td>2.723860e-08</td>\n",
       "      <td>0.966937</td>\n",
       "      <td>NaN</td>\n",
       "      <td>NaN</td>\n",
       "      <td>PRUNED</td>\n",
       "    </tr>\n",
       "    <tr>\n",
       "      <th>26</th>\n",
       "      <td>26</td>\n",
       "      <td>0.947363</td>\n",
       "      <td>2024-09-21 13:18:00.741405</td>\n",
       "      <td>2024-09-21 13:18:00.765393</td>\n",
       "      <td>0 days 00:00:00.023988</td>\n",
       "      <td>7.998094e-07</td>\n",
       "      <td>dart</td>\n",
       "      <td>2.117452e-07</td>\n",
       "      <td>6.184832e-04</td>\n",
       "      <td>depthwise</td>\n",
       "      <td>2.536505e-08</td>\n",
       "      <td>6.0</td>\n",
       "      <td>forest</td>\n",
       "      <td>6.371635e-06</td>\n",
       "      <td>uniform</td>\n",
       "      <td>9.202997e-01</td>\n",
       "      <td>0.947363</td>\n",
       "      <td>NaN</td>\n",
       "      <td>NaN</td>\n",
       "      <td>PRUNED</td>\n",
       "    </tr>\n",
       "    <tr>\n",
       "      <th>27</th>\n",
       "      <td>27</td>\n",
       "      <td>0.951049</td>\n",
       "      <td>2024-09-21 13:18:00.767391</td>\n",
       "      <td>2024-09-21 13:18:00.848343</td>\n",
       "      <td>0 days 00:00:00.080952</td>\n",
       "      <td>5.908221e-06</td>\n",
       "      <td>dart</td>\n",
       "      <td>3.872311e-01</td>\n",
       "      <td>4.109685e-02</td>\n",
       "      <td>lossguide</td>\n",
       "      <td>5.211794e-01</td>\n",
       "      <td>7.0</td>\n",
       "      <td>tree</td>\n",
       "      <td>1.370367e-04</td>\n",
       "      <td>weighted</td>\n",
       "      <td>4.418142e-05</td>\n",
       "      <td>0.969168</td>\n",
       "      <td>0.990974</td>\n",
       "      <td>0.994523</td>\n",
       "      <td>COMPLETE</td>\n",
       "    </tr>\n",
       "    <tr>\n",
       "      <th>28</th>\n",
       "      <td>28</td>\n",
       "      <td>0.977282</td>\n",
       "      <td>2024-09-21 13:18:00.851341</td>\n",
       "      <td>2024-09-21 13:18:00.866334</td>\n",
       "      <td>0 days 00:00:00.014993</td>\n",
       "      <td>1.558632e-06</td>\n",
       "      <td>gblinear</td>\n",
       "      <td>NaN</td>\n",
       "      <td>NaN</td>\n",
       "      <td>NaN</td>\n",
       "      <td>1.279982e-03</td>\n",
       "      <td>NaN</td>\n",
       "      <td>NaN</td>\n",
       "      <td>NaN</td>\n",
       "      <td>NaN</td>\n",
       "      <td>NaN</td>\n",
       "      <td>0.975254</td>\n",
       "      <td>0.977282</td>\n",
       "      <td>NaN</td>\n",
       "      <td>PRUNED</td>\n",
       "    </tr>\n",
       "    <tr>\n",
       "      <th>29</th>\n",
       "      <td>29</td>\n",
       "      <td>0.950811</td>\n",
       "      <td>2024-09-21 13:18:00.868334</td>\n",
       "      <td>2024-09-21 13:18:00.885323</td>\n",
       "      <td>0 days 00:00:00.016989</td>\n",
       "      <td>1.839596e-08</td>\n",
       "      <td>gbtree</td>\n",
       "      <td>7.955026e-06</td>\n",
       "      <td>9.516390e-05</td>\n",
       "      <td>depthwise</td>\n",
       "      <td>2.311834e-04</td>\n",
       "      <td>6.0</td>\n",
       "      <td>NaN</td>\n",
       "      <td>NaN</td>\n",
       "      <td>NaN</td>\n",
       "      <td>NaN</td>\n",
       "      <td>0.950811</td>\n",
       "      <td>NaN</td>\n",
       "      <td>NaN</td>\n",
       "      <td>PRUNED</td>\n",
       "    </tr>\n",
       "  </tbody>\n",
       "</table>\n",
       "</div>"
      ],
      "text/plain": [
       "    number     value             datetime_start          datetime_complete  \\\n",
       "0        0  0.594406 2024-09-21 13:17:59.966848 2024-09-21 13:18:00.080785   \n",
       "1        1  0.873022 2024-09-21 13:18:00.082784 2024-09-21 13:18:00.099773   \n",
       "2        2  0.895105 2024-09-21 13:18:00.105774 2024-09-21 13:18:00.149745   \n",
       "3        3  0.954767 2024-09-21 13:18:00.151742 2024-09-21 13:18:00.170734   \n",
       "4        4  0.965923 2024-09-21 13:18:00.173730 2024-09-21 13:18:00.206713   \n",
       "5        5  0.950811 2024-09-21 13:18:00.208709 2024-09-21 13:18:00.245689   \n",
       "6        6  0.902098 2024-09-21 13:18:00.247691 2024-09-21 13:18:00.302674   \n",
       "7        7  0.950507 2024-09-21 13:18:00.305655 2024-09-21 13:18:00.315649   \n",
       "8        8  0.934178 2024-09-21 13:18:00.316650 2024-09-21 13:18:00.343635   \n",
       "9        9  0.957404 2024-09-21 13:18:00.344632 2024-09-21 13:18:00.350629   \n",
       "10      10  0.950507 2024-09-21 13:18:00.351630 2024-09-21 13:18:00.372616   \n",
       "11      11  0.964706 2024-09-21 13:18:00.374616 2024-09-21 13:18:00.380612   \n",
       "12      12  0.923077 2024-09-21 13:18:00.382610 2024-09-21 13:18:00.436589   \n",
       "13      13  0.979919 2024-09-21 13:18:00.438577 2024-09-21 13:18:00.449574   \n",
       "14      14  0.976065 2024-09-21 13:18:00.451573 2024-09-21 13:18:00.477556   \n",
       "15      15  0.969473 2024-09-21 13:18:00.479558 2024-09-21 13:18:00.507542   \n",
       "16      16  0.950710 2024-09-21 13:18:00.511541 2024-09-21 13:18:00.522534   \n",
       "17      17  0.500000 2024-09-21 13:18:00.529530 2024-09-21 13:18:00.543519   \n",
       "18      18  0.955578 2024-09-21 13:18:00.545519 2024-09-21 13:18:00.575500   \n",
       "19      19  0.953753 2024-09-21 13:18:00.577498 2024-09-21 13:18:00.601486   \n",
       "20      20  0.951826 2024-09-21 13:18:00.603484 2024-09-21 13:18:00.631470   \n",
       "21      21  0.950507 2024-09-21 13:18:00.634467 2024-09-21 13:18:00.642461   \n",
       "22      22  0.950507 2024-09-21 13:18:00.644460 2024-09-21 13:18:00.652455   \n",
       "23      23  0.930832 2024-09-21 13:18:00.654455 2024-09-21 13:18:00.679440   \n",
       "24      24  0.966024 2024-09-21 13:18:00.681439 2024-09-21 13:18:00.716419   \n",
       "25      25  0.966937 2024-09-21 13:18:00.718417 2024-09-21 13:18:00.735409   \n",
       "26      26  0.947363 2024-09-21 13:18:00.741405 2024-09-21 13:18:00.765393   \n",
       "27      27  0.951049 2024-09-21 13:18:00.767391 2024-09-21 13:18:00.848343   \n",
       "28      28  0.977282 2024-09-21 13:18:00.851341 2024-09-21 13:18:00.866334   \n",
       "29      29  0.950811 2024-09-21 13:18:00.868334 2024-09-21 13:18:00.885323   \n",
       "\n",
       "                 duration  params_alpha params_booster    params_eta  \\\n",
       "0  0 days 00:00:00.113937  2.540791e-04           dart  3.528022e-06   \n",
       "1  0 days 00:00:00.016989  3.747947e-04         gbtree  1.576745e-04   \n",
       "2  0 days 00:00:00.043971  1.151819e-03       gblinear           NaN   \n",
       "3  0 days 00:00:00.018992  9.382316e-01       gblinear           NaN   \n",
       "4  0 days 00:00:00.032983  1.205494e-03           dart  1.979310e-02   \n",
       "5  0 days 00:00:00.036980  4.497565e-07         gbtree  1.867661e-05   \n",
       "6  0 days 00:00:00.054983  4.161899e-05       gblinear           NaN   \n",
       "7  0 days 00:00:00.009994  5.439605e-02         gbtree  7.858191e-06   \n",
       "8  0 days 00:00:00.026985  5.866370e-03           dart  1.685504e-03   \n",
       "9  0 days 00:00:00.005997  1.722960e-04       gblinear           NaN   \n",
       "10 0 days 00:00:00.020986  4.113220e-04         gbtree  4.009119e-05   \n",
       "11 0 days 00:00:00.005996  6.856194e-03       gblinear           NaN   \n",
       "12 0 days 00:00:00.053979  3.074667e-07       gblinear           NaN   \n",
       "13 0 days 00:00:00.010997  2.726992e-06       gblinear           NaN   \n",
       "14 0 days 00:00:00.025983  1.800211e-03       gblinear           NaN   \n",
       "15 0 days 00:00:00.027984  2.965525e-01         gbtree  3.440713e-01   \n",
       "16 0 days 00:00:00.010993  3.342709e-04         gbtree  2.125335e-02   \n",
       "17 0 days 00:00:00.013989  2.106708e-02         gbtree  1.146351e-08   \n",
       "18 0 days 00:00:00.029981  2.368092e-05           dart  5.431393e-03   \n",
       "19 0 days 00:00:00.023988  3.394824e-06         gbtree  8.940588e-07   \n",
       "20 0 days 00:00:00.027986  3.162930e-02           dart  5.500313e-07   \n",
       "21 0 days 00:00:00.007994  9.848267e-04         gbtree  3.470483e-03   \n",
       "22 0 days 00:00:00.007995  1.547806e-08         gbtree  7.781360e-05   \n",
       "23 0 days 00:00:00.024985  4.617383e-07           dart  1.366673e-02   \n",
       "24 0 days 00:00:00.034980  1.107442e-07           dart  9.608361e-03   \n",
       "25 0 days 00:00:00.016992  9.139311e-03           dart  1.911161e-07   \n",
       "26 0 days 00:00:00.023988  7.998094e-07           dart  2.117452e-07   \n",
       "27 0 days 00:00:00.080952  5.908221e-06           dart  3.872311e-01   \n",
       "28 0 days 00:00:00.014993  1.558632e-06       gblinear           NaN   \n",
       "29 0 days 00:00:00.016989  1.839596e-08         gbtree  7.955026e-06   \n",
       "\n",
       "    params_gamma params_grow_policy  params_lambda  params_max_depth  \\\n",
       "0   7.739700e-07          depthwise   3.564791e-07               3.0   \n",
       "1   4.153013e-05          depthwise   1.013827e-02               1.0   \n",
       "2            NaN                NaN   1.439336e-04               NaN   \n",
       "3            NaN                NaN   4.147224e-08               NaN   \n",
       "4   1.187112e-03          lossguide   2.597402e-08               5.0   \n",
       "5   3.592467e-06          lossguide   8.265671e-06               7.0   \n",
       "6            NaN                NaN   5.983439e-04               NaN   \n",
       "7   1.856325e-05          depthwise   8.969816e-03               2.0   \n",
       "8   9.141614e-01          depthwise   5.390612e-06               5.0   \n",
       "9            NaN                NaN   4.183236e-03               NaN   \n",
       "10  5.514505e-08          lossguide   1.195040e-05               2.0   \n",
       "11           NaN                NaN   2.246536e-04               NaN   \n",
       "12           NaN                NaN   2.423881e-08               NaN   \n",
       "13           NaN                NaN   7.880339e-07               NaN   \n",
       "14           NaN                NaN   4.862008e-05               NaN   \n",
       "15  8.857143e-04          depthwise   3.923890e-03               8.0   \n",
       "16  6.482778e-03          lossguide   2.396347e-07               2.0   \n",
       "17  1.393172e-01          lossguide   1.561709e-03               1.0   \n",
       "18  2.620525e-02          lossguide   1.675038e-08               6.0   \n",
       "19  2.059309e-05          depthwise   9.929128e-02               8.0   \n",
       "20  1.044142e-01          depthwise   1.113886e-08               8.0   \n",
       "21  1.443640e-08          lossguide   3.161258e-06               2.0   \n",
       "22  1.557603e-03          lossguide   4.056175e-02               2.0   \n",
       "23  1.811814e-07          lossguide   1.800223e-08               4.0   \n",
       "24  9.569392e-04          depthwise   3.346169e-05               6.0   \n",
       "25  6.237469e-05          lossguide   3.079664e-08               3.0   \n",
       "26  6.184832e-04          depthwise   2.536505e-08               6.0   \n",
       "27  4.109685e-02          lossguide   5.211794e-01               7.0   \n",
       "28           NaN                NaN   1.279982e-03               NaN   \n",
       "29  9.516390e-05          depthwise   2.311834e-04               6.0   \n",
       "\n",
       "   params_normalize_type  params_rate_drop params_sample_type  \\\n",
       "0                 forest      2.769832e-06            uniform   \n",
       "1                    NaN               NaN                NaN   \n",
       "2                    NaN               NaN                NaN   \n",
       "3                    NaN               NaN                NaN   \n",
       "4                 forest      2.908401e-08           weighted   \n",
       "5                    NaN               NaN                NaN   \n",
       "6                    NaN               NaN                NaN   \n",
       "7                    NaN               NaN                NaN   \n",
       "8                 forest      1.476308e-02           weighted   \n",
       "9                    NaN               NaN                NaN   \n",
       "10                   NaN               NaN                NaN   \n",
       "11                   NaN               NaN                NaN   \n",
       "12                   NaN               NaN                NaN   \n",
       "13                   NaN               NaN                NaN   \n",
       "14                   NaN               NaN                NaN   \n",
       "15                   NaN               NaN                NaN   \n",
       "16                   NaN               NaN                NaN   \n",
       "17                   NaN               NaN                NaN   \n",
       "18                  tree      2.395107e-08           weighted   \n",
       "19                   NaN               NaN                NaN   \n",
       "20                  tree      4.570920e-01            uniform   \n",
       "21                   NaN               NaN                NaN   \n",
       "22                   NaN               NaN                NaN   \n",
       "23                forest      8.168142e-06            uniform   \n",
       "24                forest      3.448273e-03            uniform   \n",
       "25                forest      4.021944e-06           weighted   \n",
       "26                forest      6.371635e-06            uniform   \n",
       "27                  tree      1.370367e-04           weighted   \n",
       "28                   NaN               NaN                NaN   \n",
       "29                   NaN               NaN                NaN   \n",
       "\n",
       "    params_skip_drop  system_attrs_completed_rung_0  \\\n",
       "0       3.128486e-01                       0.967951   \n",
       "1                NaN                       0.873022   \n",
       "2                NaN                       0.972008   \n",
       "3                NaN                       0.954767   \n",
       "4       3.256841e-01                       0.965923   \n",
       "5                NaN                       0.950811   \n",
       "6                NaN                       0.975254   \n",
       "7                NaN                       0.950507   \n",
       "8       2.939456e-03                       0.934178   \n",
       "9                NaN                       0.957404   \n",
       "10               NaN                       0.950507   \n",
       "11               NaN                       0.964706   \n",
       "12               NaN                       0.980730   \n",
       "13               NaN                       0.977079   \n",
       "14               NaN                       0.977688   \n",
       "15               NaN                       0.969473   \n",
       "16               NaN                       0.950710   \n",
       "17               NaN                       0.500000   \n",
       "18      3.920631e-02                       0.955578   \n",
       "19               NaN                       0.953753   \n",
       "20      5.311781e-06                       0.951826   \n",
       "21               NaN                       0.950507   \n",
       "22               NaN                       0.950507   \n",
       "23      1.929605e-03                       0.930832   \n",
       "24      7.386126e-01                       0.967748   \n",
       "25      2.723860e-08                       0.966937   \n",
       "26      9.202997e-01                       0.947363   \n",
       "27      4.418142e-05                       0.969168   \n",
       "28               NaN                       0.975254   \n",
       "29               NaN                       0.950811   \n",
       "\n",
       "    system_attrs_completed_rung_1  system_attrs_completed_rung_2     state  \n",
       "0                        0.967951                       0.967951  COMPLETE  \n",
       "1                             NaN                            NaN    PRUNED  \n",
       "2                        0.972819                       0.977890  COMPLETE  \n",
       "3                             NaN                            NaN    PRUNED  \n",
       "4                             NaN                            NaN    PRUNED  \n",
       "5                             NaN                            NaN    PRUNED  \n",
       "6                        0.976673                       0.979919  COMPLETE  \n",
       "7                             NaN                            NaN    PRUNED  \n",
       "8                             NaN                            NaN    PRUNED  \n",
       "9                             NaN                            NaN    PRUNED  \n",
       "10                            NaN                            NaN    PRUNED  \n",
       "11                            NaN                            NaN    PRUNED  \n",
       "12                       0.980933                       0.985193  COMPLETE  \n",
       "13                       0.979919                            NaN    PRUNED  \n",
       "14                       0.976065                            NaN    PRUNED  \n",
       "15                            NaN                            NaN    PRUNED  \n",
       "16                            NaN                            NaN    PRUNED  \n",
       "17                            NaN                            NaN    PRUNED  \n",
       "18                            NaN                            NaN    PRUNED  \n",
       "19                            NaN                            NaN    PRUNED  \n",
       "20                            NaN                            NaN    PRUNED  \n",
       "21                            NaN                            NaN    PRUNED  \n",
       "22                            NaN                            NaN    PRUNED  \n",
       "23                            NaN                            NaN    PRUNED  \n",
       "24                       0.966024                            NaN    PRUNED  \n",
       "25                            NaN                            NaN    PRUNED  \n",
       "26                            NaN                            NaN    PRUNED  \n",
       "27                       0.990974                       0.994523  COMPLETE  \n",
       "28                       0.977282                            NaN    PRUNED  \n",
       "29                            NaN                            NaN    PRUNED  "
      ]
     },
     "execution_count": 7,
     "metadata": {},
     "output_type": "execute_result"
    }
   ],
   "source": [
    "r = study.trials_dataframe()\n",
    "\n",
    "r"
   ]
  },
  {
   "cell_type": "code",
   "execution_count": 8,
   "metadata": {},
   "outputs": [
    {
     "data": {
      "text/plain": [
       "system_attrs_completed_rung_0    30\n",
       "system_attrs_completed_rung_1     9\n",
       "system_attrs_completed_rung_2     5\n",
       "dtype: int64"
      ]
     },
     "execution_count": 8,
     "metadata": {},
     "output_type": "execute_result"
    }
   ],
   "source": [
    "# a \"rung\" is each round of successive halving\n",
    "\n",
    "v = [v for v in r.columns if 'rung' in v]\n",
    "\n",
    "30-r[v].isnull().sum()"
   ]
  },
  {
   "cell_type": "code",
   "execution_count": 9,
   "metadata": {},
   "outputs": [
    {
     "data": {
      "text/plain": [
       "0     COMPLETE\n",
       "2     COMPLETE\n",
       "6     COMPLETE\n",
       "12    COMPLETE\n",
       "27    COMPLETE\n",
       "Name: state, dtype: object"
      ]
     },
     "execution_count": 9,
     "metadata": {},
     "output_type": "execute_result"
    }
   ],
   "source": [
    "# some of the configurations from the last round of \n",
    "# successive halving, called \"rung\", were stopped early\n",
    "\n",
    "r[~r[\"system_attrs_completed_rung_2\"].isnull()][\"state\"]"
   ]
  },
  {
   "cell_type": "code",
   "execution_count": 10,
   "metadata": {},
   "outputs": [
    {
     "data": {
      "text/plain": [
       "5"
      ]
     },
     "execution_count": 10,
     "metadata": {},
     "output_type": "execute_result"
    }
   ],
   "source": [
    "# completely trained configurations\n",
    "\n",
    "r[r[\"state\"]==\"COMPLETE\"][\"state\"].count()"
   ]
  },
  {
   "cell_type": "markdown",
   "metadata": {},
   "source": [
    "As expected, we started with 30 configurations, roughly a third passed to the second round, and roughly a third passed to the third round.\n",
    "\n",
    "It is not exactly a third, because this is asynchronous successive halving (ASHA), and we saw that in ASHA, some suboptimal configurations would be promoted to next rounds, because we don't wait to having them all to examine the top 30%."
   ]
  },
  {
   "cell_type": "code",
   "execution_count": null,
   "metadata": {},
   "outputs": [],
   "source": []
  }
 ],
 "metadata": {
  "kernelspec": {
   "display_name": "fsml",
   "language": "python",
   "name": "fsml"
  },
  "language_info": {
   "codemirror_mode": {
    "name": "ipython",
    "version": 3
   },
   "file_extension": ".py",
   "mimetype": "text/x-python",
   "name": "python",
   "nbconvert_exporter": "python",
   "pygments_lexer": "ipython3",
   "version": "3.10.5"
  },
  "toc": {
   "base_numbering": 1,
   "nav_menu": {
    "height": "26px",
    "width": "225.333px"
   },
   "number_sections": true,
   "sideBar": true,
   "skip_h1_title": false,
   "title_cell": "Table of Contents",
   "title_sidebar": "Contents",
   "toc_cell": false,
   "toc_position": {},
   "toc_section_display": true,
   "toc_window_display": false
  }
 },
 "nbformat": 4,
 "nbformat_minor": 4
}
