{
 "cells": [
  {
   "cell_type": "markdown",
   "metadata": {
    "_cell_guid": "d4c08f48-fe23-4ddb-ac46-d97f05397514",
    "_uuid": "f2156d1dd26a1243e18512002e10872c5bd7271e"
   },
   "source": [
    "# Bayesian Optimization with Random Forests (SMAC)\n",
    "\n",
    "## Optimizing a CNN with Scikit-Optimize\n",
    "\n",
    "In this notebook, we will use **Bayesian Optimization** to select the best **hyperparameters** for a CNN that recognizes digits in images, using the MNIST dataset and the open source Python package [Scikit-Optimize](https://scikit-optimize.readthedocs.io/en/latest).\n",
    "\n",
    "We will use Random Forests as the surrogate function to approximate f(x)\n",
    "\n",
    "The MNIST dataset is availale in [Kaggle](https://www.kaggle.com/c/digit-recognizer/data).\n",
    "\n",
    "## Download dataset\n",
    "\n",
    "- Navigate to the [MNIST website in Kaggle](https://www.kaggle.com/c/digit-recognizer/data)\n",
    "- Download the train.csv file\n",
    "- Unzip and copy the train.csv file to where you see the SAVE_DATASETS-HERE.txt file\n",
    "- Rename to mnist.csv\n",
    "\n",
    "**Remember that you need to be logged in to be able to download the dataset**\n",
    "\n",
    "## Notebook content\n",
    "\n",
    "- Data Preparation\n",
    "- Set up a simple CNN\n",
    "- Set up the hyperparameter search shape\n",
    "- Set up the objective function\n",
    "- Perform Bayesian Optimization\n",
    "- Evaluate Model Performance"
   ]
  },
  {
   "cell_type": "code",
   "execution_count": 1,
   "metadata": {},
   "outputs": [],
   "source": [
    "# For reproducible results.\n",
    "# See: \n",
    "# https://keras.io/getting_started/faq/#how-can-i-obtain-reproducible-results-using-keras-during-development\n",
    "\n",
    "import os\n",
    "os.environ['PYTHONHASHSEED'] = '0'\n",
    "\n",
    "import numpy as np\n",
    "import tensorflow as tf\n",
    "import random as python_random\n",
    "\n",
    "# The below is necessary for starting Numpy generated random numbers\n",
    "# in a well-defined initial state.\n",
    "np.random.seed(123)\n",
    "\n",
    "# The below is necessary for starting core Python generated random numbers\n",
    "# in a well-defined state.\n",
    "python_random.seed(123)\n",
    "\n",
    "# The below set_seed() will make random number generation\n",
    "# in the TensorFlow backend have a well-defined initial state.\n",
    "# For further details, see:\n",
    "# https://www.tensorflow.org/api_docs/python/tf/random/set_seed\n",
    "tf.random.set_seed(1234)"
   ]
  },
  {
   "cell_type": "code",
   "execution_count": 2,
   "metadata": {
    "_cell_guid": "f67b9393-8ea1-4e23-b856-2ce149cfe421",
    "_execution_state": "idle",
    "_uuid": "72334cb006d02a4bcfc2a2fe622524eba824c6f8"
   },
   "outputs": [],
   "source": [
    "import itertools\n",
    "\n",
    "import pandas as pd\n",
    "import matplotlib.pyplot as plt\n",
    "import seaborn as sns\n",
    "\n",
    "from sklearn.model_selection import train_test_split\n",
    "from sklearn.metrics import confusion_matrix"
   ]
  },
  {
   "cell_type": "code",
   "execution_count": 3,
   "metadata": {},
   "outputs": [],
   "source": [
    "from keras.callbacks import ReduceLROnPlateau\n",
    "from keras.layers import Dense, Flatten, Conv2D, MaxPool2D\n",
    "from keras.models import Sequential, load_model\n",
    "from keras.optimizers import Adam\n",
    "\n",
    "from tensorflow.keras.utils import to_categorical"
   ]
  },
  {
   "cell_type": "code",
   "execution_count": 4,
   "metadata": {},
   "outputs": [],
   "source": [
    "from skopt import forest_minimize, gbrt_minimize\n",
    "from skopt.space import Real, Categorical, Integer\n",
    "from skopt.plots import plot_convergence\n",
    "from skopt.plots import plot_objective, plot_evaluations\n",
    "from skopt.utils import use_named_args"
   ]
  },
  {
   "cell_type": "markdown",
   "metadata": {
    "_cell_guid": "6d2fb3e6-ab71-4974-b5a2-4af1ebdb99f4",
    "_execution_state": "idle",
    "_uuid": "86061d98eccaa02efe0dab0fa3884e71fcf4c310"
   },
   "source": [
    "#  Data Preparation\n",
    "\n",
    "The dataset contains information about images, each image is a hand-written digit. The aim is to have the computer predict which digit was written by the person, automatically, by \"looking\" at the image. \n",
    "\n",
    "Each image is 28 pixels in height and 28 pixels in width (28 x 28), making a total of 784 pixels. Each pixel value is an integer between 0 and 255, indicating the darkness in a gray-scale of that pixel.\n",
    "\n",
    "The data is stored in a dataframe where each each pixel is a column (so it is flattened and not in the 28 x 28 format). \n",
    "\n",
    "The data set the has 785 columns. The first column, called \"label\", is the digit that was drawn by the user. The rest of the columns contain the pixel-values of the associated image."
   ]
  },
  {
   "cell_type": "code",
   "execution_count": 5,
   "metadata": {
    "_cell_guid": "5e51d00e-62fd-4141-bf73-50ac4f2da7d0",
    "_execution_state": "idle",
    "_uuid": "84bbd5ab8d7895bd430d5ecfe2f7ddf77baa7b74"
   },
   "outputs": [
    {
     "data": {
      "text/html": [
       "<div>\n",
       "<style scoped>\n",
       "    .dataframe tbody tr th:only-of-type {\n",
       "        vertical-align: middle;\n",
       "    }\n",
       "\n",
       "    .dataframe tbody tr th {\n",
       "        vertical-align: top;\n",
       "    }\n",
       "\n",
       "    .dataframe thead th {\n",
       "        text-align: right;\n",
       "    }\n",
       "</style>\n",
       "<table border=\"1\" class=\"dataframe\">\n",
       "  <thead>\n",
       "    <tr style=\"text-align: right;\">\n",
       "      <th></th>\n",
       "      <th>label</th>\n",
       "      <th>pixel0</th>\n",
       "      <th>pixel1</th>\n",
       "      <th>pixel2</th>\n",
       "      <th>pixel3</th>\n",
       "      <th>pixel4</th>\n",
       "      <th>pixel5</th>\n",
       "      <th>pixel6</th>\n",
       "      <th>pixel7</th>\n",
       "      <th>pixel8</th>\n",
       "      <th>...</th>\n",
       "      <th>pixel774</th>\n",
       "      <th>pixel775</th>\n",
       "      <th>pixel776</th>\n",
       "      <th>pixel777</th>\n",
       "      <th>pixel778</th>\n",
       "      <th>pixel779</th>\n",
       "      <th>pixel780</th>\n",
       "      <th>pixel781</th>\n",
       "      <th>pixel782</th>\n",
       "      <th>pixel783</th>\n",
       "    </tr>\n",
       "  </thead>\n",
       "  <tbody>\n",
       "    <tr>\n",
       "      <th>0</th>\n",
       "      <td>1</td>\n",
       "      <td>0</td>\n",
       "      <td>0</td>\n",
       "      <td>0</td>\n",
       "      <td>0</td>\n",
       "      <td>0</td>\n",
       "      <td>0</td>\n",
       "      <td>0</td>\n",
       "      <td>0</td>\n",
       "      <td>0</td>\n",
       "      <td>...</td>\n",
       "      <td>0</td>\n",
       "      <td>0</td>\n",
       "      <td>0</td>\n",
       "      <td>0</td>\n",
       "      <td>0</td>\n",
       "      <td>0</td>\n",
       "      <td>0</td>\n",
       "      <td>0</td>\n",
       "      <td>0</td>\n",
       "      <td>0</td>\n",
       "    </tr>\n",
       "    <tr>\n",
       "      <th>1</th>\n",
       "      <td>0</td>\n",
       "      <td>0</td>\n",
       "      <td>0</td>\n",
       "      <td>0</td>\n",
       "      <td>0</td>\n",
       "      <td>0</td>\n",
       "      <td>0</td>\n",
       "      <td>0</td>\n",
       "      <td>0</td>\n",
       "      <td>0</td>\n",
       "      <td>...</td>\n",
       "      <td>0</td>\n",
       "      <td>0</td>\n",
       "      <td>0</td>\n",
       "      <td>0</td>\n",
       "      <td>0</td>\n",
       "      <td>0</td>\n",
       "      <td>0</td>\n",
       "      <td>0</td>\n",
       "      <td>0</td>\n",
       "      <td>0</td>\n",
       "    </tr>\n",
       "    <tr>\n",
       "      <th>2</th>\n",
       "      <td>1</td>\n",
       "      <td>0</td>\n",
       "      <td>0</td>\n",
       "      <td>0</td>\n",
       "      <td>0</td>\n",
       "      <td>0</td>\n",
       "      <td>0</td>\n",
       "      <td>0</td>\n",
       "      <td>0</td>\n",
       "      <td>0</td>\n",
       "      <td>...</td>\n",
       "      <td>0</td>\n",
       "      <td>0</td>\n",
       "      <td>0</td>\n",
       "      <td>0</td>\n",
       "      <td>0</td>\n",
       "      <td>0</td>\n",
       "      <td>0</td>\n",
       "      <td>0</td>\n",
       "      <td>0</td>\n",
       "      <td>0</td>\n",
       "    </tr>\n",
       "    <tr>\n",
       "      <th>3</th>\n",
       "      <td>4</td>\n",
       "      <td>0</td>\n",
       "      <td>0</td>\n",
       "      <td>0</td>\n",
       "      <td>0</td>\n",
       "      <td>0</td>\n",
       "      <td>0</td>\n",
       "      <td>0</td>\n",
       "      <td>0</td>\n",
       "      <td>0</td>\n",
       "      <td>...</td>\n",
       "      <td>0</td>\n",
       "      <td>0</td>\n",
       "      <td>0</td>\n",
       "      <td>0</td>\n",
       "      <td>0</td>\n",
       "      <td>0</td>\n",
       "      <td>0</td>\n",
       "      <td>0</td>\n",
       "      <td>0</td>\n",
       "      <td>0</td>\n",
       "    </tr>\n",
       "    <tr>\n",
       "      <th>4</th>\n",
       "      <td>0</td>\n",
       "      <td>0</td>\n",
       "      <td>0</td>\n",
       "      <td>0</td>\n",
       "      <td>0</td>\n",
       "      <td>0</td>\n",
       "      <td>0</td>\n",
       "      <td>0</td>\n",
       "      <td>0</td>\n",
       "      <td>0</td>\n",
       "      <td>...</td>\n",
       "      <td>0</td>\n",
       "      <td>0</td>\n",
       "      <td>0</td>\n",
       "      <td>0</td>\n",
       "      <td>0</td>\n",
       "      <td>0</td>\n",
       "      <td>0</td>\n",
       "      <td>0</td>\n",
       "      <td>0</td>\n",
       "      <td>0</td>\n",
       "    </tr>\n",
       "  </tbody>\n",
       "</table>\n",
       "<p>5 rows × 785 columns</p>\n",
       "</div>"
      ],
      "text/plain": [
       "   label  pixel0  pixel1  pixel2  pixel3  pixel4  pixel5  pixel6  pixel7  \\\n",
       "0      1       0       0       0       0       0       0       0       0   \n",
       "1      0       0       0       0       0       0       0       0       0   \n",
       "2      1       0       0       0       0       0       0       0       0   \n",
       "3      4       0       0       0       0       0       0       0       0   \n",
       "4      0       0       0       0       0       0       0       0       0   \n",
       "\n",
       "   pixel8  ...  pixel774  pixel775  pixel776  pixel777  pixel778  pixel779  \\\n",
       "0       0  ...         0         0         0         0         0         0   \n",
       "1       0  ...         0         0         0         0         0         0   \n",
       "2       0  ...         0         0         0         0         0         0   \n",
       "3       0  ...         0         0         0         0         0         0   \n",
       "4       0  ...         0         0         0         0         0         0   \n",
       "\n",
       "   pixel780  pixel781  pixel782  pixel783  \n",
       "0         0         0         0         0  \n",
       "1         0         0         0         0  \n",
       "2         0         0         0         0  \n",
       "3         0         0         0         0  \n",
       "4         0         0         0         0  \n",
       "\n",
       "[5 rows x 785 columns]"
      ]
     },
     "execution_count": 5,
     "metadata": {},
     "output_type": "execute_result"
    }
   ],
   "source": [
    "# Load the data\n",
    "\n",
    "data = pd.read_csv(\"../mnist.csv\")\n",
    "\n",
    "# first column is the target, the rest of the columns\n",
    "# are the pixels of the image\n",
    "\n",
    "# each row is 1 image\n",
    "data.head()"
   ]
  },
  {
   "cell_type": "code",
   "execution_count": 6,
   "metadata": {},
   "outputs": [
    {
     "data": {
      "text/plain": [
       "((37800, 784), (4200, 784))"
      ]
     },
     "execution_count": 6,
     "metadata": {},
     "output_type": "execute_result"
    }
   ],
   "source": [
    "# split dataset into a train and test set\n",
    "\n",
    "X_train, X_test, y_train, y_test = train_test_split(\n",
    "    data.drop(['label'], axis=1), # the images\n",
    "    data['label'], # the target\n",
    "    test_size = 0.1,\n",
    "    random_state=0)\n",
    "\n",
    "X_train.shape, X_test.shape"
   ]
  },
  {
   "cell_type": "code",
   "execution_count": 7,
   "metadata": {
    "_cell_guid": "86570a36-5c20-460a-9dfd-2070548532a7",
    "_execution_state": "idle",
    "_uuid": "1213b979d5ed3e0d13824d17d694c79d2ece92fa"
   },
   "outputs": [
    {
     "data": {
      "text/plain": [
       "Text(0, 0.5, 'Number of images')"
      ]
     },
     "execution_count": 7,
     "metadata": {},
     "output_type": "execute_result"
    },
    {
     "data": {
      "image/png": "[encoded data removed]",
      "text/plain": [
       "<Figure size 432x288 with 1 Axes>"
      ]
     },
     "metadata": {
      "needs_background": "light"
     },
     "output_type": "display_data"
    }
   ],
   "source": [
    "# number of images for each digit\n",
    "\n",
    "g = sns.countplot(x=y_train)\n",
    "plt.xlabel('Digits')\n",
    "plt.ylabel('Number of images')"
   ]
  },
  {
   "cell_type": "markdown",
   "metadata": {
    "_cell_guid": "5aea4062-1790-4987-b739-c4bebd79030f",
    "_uuid": "b7b1b1d36243c885e57374c8b60c5a7e10abe922"
   },
   "source": [
    "There are roughly the same amount of images for each of the 10 digits."
   ]
  },
  {
   "cell_type": "markdown",
   "metadata": {
    "_cell_guid": "6812040d-80ad-43d2-a571-275f4f20067b",
    "_uuid": "2954681f25f0dcbe986e6914396cdbce61db591f"
   },
   "source": [
    "## Image re-scaling\n",
    "\n",
    "We re-scale data for the CNN, between 0 and 1."
   ]
  },
  {
   "cell_type": "code",
   "execution_count": 8,
   "metadata": {
    "_cell_guid": "cdc4340b-6e24-4e12-be99-ac806098ff17",
    "_execution_state": "idle",
    "_uuid": "b5d4f8fcf2a967e2c7d57daedf95aa8c5ab7f8cb"
   },
   "outputs": [],
   "source": [
    "# Re-scale the data\n",
    "\n",
    "# 255 is the maximum value a pixel can take\n",
    "\n",
    "X_train = X_train / 255\n",
    "X_test = X_test / 255"
   ]
  },
  {
   "cell_type": "markdown",
   "metadata": {
    "_cell_guid": "7413df94-bcb9-4f75-b174-c127d4445766",
    "_uuid": "a66741bf1ac597094f3a3166877008feef27c519"
   },
   "source": [
    "## Reshape\n",
    "\n",
    "The images were stored in a pandas dataframe as 1-D vectors of 784 values. For a CNN with Keras, we need tensors with the following dimensions: width x height x channel. \n",
    "\n",
    "Thus, we reshape all data to 28 x 2 8 x 1, 3-D matrices. \n",
    "\n",
    "The 3rd dimension corresponds to the channel. RGB images have 3 channels. MNIST images are in gray-scale, thus they have only one channel in the 3rd dimension."
   ]
  },
  {
   "cell_type": "code",
   "execution_count": 9,
   "metadata": {
    "_cell_guid": "34b6a5f7-8fd2-4387-8ef4-c9dc19584fed",
    "_execution_state": "idle",
    "_uuid": "f0a6ad80dab8e0f2c2e46165ccd9cd82dd162bc3"
   },
   "outputs": [],
   "source": [
    "# Reshape image in 3 dimensions:\n",
    "# height: 28px X width: 28px X channel: 1 \n",
    "\n",
    "X_train = X_train.values.reshape(-1,28,28,1)\n",
    "X_test = X_test.values.reshape(-1,28,28,1)"
   ]
  },
  {
   "cell_type": "markdown",
   "metadata": {
    "_cell_guid": "bdb422e2-bdec-444f-97a5-283a1e54bf2c",
    "_uuid": "39b7a31e843bac6b705461bcce89da216b91799e"
   },
   "source": [
    "## Target encoding"
   ]
  },
  {
   "cell_type": "code",
   "execution_count": 10,
   "metadata": {},
   "outputs": [
    {
     "data": {
      "text/plain": [
       "array([2, 0, 7, 4, 3, 5, 9, 6, 8, 1], dtype=int64)"
      ]
     },
     "execution_count": 10,
     "metadata": {},
     "output_type": "execute_result"
    }
   ],
   "source": [
    "# the target is 1 variable with the 9 different digits\n",
    "# as values\n",
    "\n",
    "y_train.unique()"
   ]
  },
  {
   "cell_type": "code",
   "execution_count": 11,
   "metadata": {
    "_cell_guid": "4b7f3e78-44dc-4561-b1f0-9429ee024cf4",
    "_execution_state": "idle",
    "_uuid": "cabefd1478d5c1bdfe57fd6a34395340916a854c"
   },
   "outputs": [
    {
     "data": {
      "text/plain": [
       "array([[0., 0., 1., ..., 0., 0., 0.],\n",
       "       [0., 0., 1., ..., 0., 0., 0.],\n",
       "       [1., 0., 0., ..., 0., 0., 0.],\n",
       "       ...,\n",
       "       [0., 0., 0., ..., 0., 0., 1.],\n",
       "       [1., 0., 0., ..., 0., 0., 0.],\n",
       "       [0., 0., 0., ..., 0., 0., 1.]])"
      ]
     },
     "execution_count": 11,
     "metadata": {},
     "output_type": "execute_result"
    }
   ],
   "source": [
    "# For Keras, we need to create 10 dummy variables,\n",
    "# one for each digit\n",
    "\n",
    "# Encode labels to one hot vectors (ex : digit 2 -> [0,0,1,0,0,0,0,0,0,0])\n",
    "\n",
    "y_train = to_categorical(y_train, num_classes = 10)\n",
    "y_test = to_categorical(y_test, num_classes = 10)\n",
    "\n",
    "# the new target\n",
    "y_train"
   ]
  },
  {
   "cell_type": "markdown",
   "metadata": {
    "_cell_guid": "adbeacf0-0dc0-4675-b2df-9c9663750f32",
    "_uuid": "60eed15ec5bc0d354385301789ecb8538fc02267"
   },
   "source": [
    "Let's print some example images."
   ]
  },
  {
   "cell_type": "code",
   "execution_count": 12,
   "metadata": {
    "_cell_guid": "5f76131b-4ba0-45f1-a98c-bd4e7d561793",
    "_execution_state": "idle",
    "_uuid": "e0dae8943d3d35f075dba3d7ba31bde1d4bf2ff4"
   },
   "outputs": [
    {
     "data": {
      "image/png": "[encoded data removed]",
      "text/plain": [
       "<Figure size 432x288 with 1 Axes>"
      ]
     },
     "metadata": {
      "needs_background": "light"
     },
     "output_type": "display_data"
    }
   ],
   "source": [
    "# Some image examples \n",
    "\n",
    "g = plt.imshow(X_train[0][:,:,0])"
   ]
  },
  {
   "cell_type": "code",
   "execution_count": 13,
   "metadata": {},
   "outputs": [
    {
     "data": {
      "image/png": "[encoded data removed]",
      "text/plain": [
       "<Figure size 432x288 with 1 Axes>"
      ]
     },
     "metadata": {
      "needs_background": "light"
     },
     "output_type": "display_data"
    }
   ],
   "source": [
    "# Some image examples \n",
    "\n",
    "g = plt.imshow(X_train[10][:,:,0])"
   ]
  },
  {
   "cell_type": "markdown",
   "metadata": {
    "_cell_guid": "d5265777-aeb3-449d-b171-d88cad74c0a4",
    "_uuid": "5fa18b37a9acd9e098bac1d12264b0dd4310fdd3"
   },
   "source": [
    "# Define the CNN\n",
    "\n",
    "We will create a CNN, with 2 Convolutional layers followed by Pooling, and varying number of fully-connected Dense We will create a CNN, with 2 Convolutional layers followed by Pooling, and varying number of fully-connected Dense layers. Each Convlutional layer, can itself have more than 1 conv layer."
   ]
  },
  {
   "cell_type": "code",
   "execution_count": 14,
   "metadata": {},
   "outputs": [],
   "source": [
    "# function to create the CNN\n",
    "\n",
    "def create_cnn(\n",
    "    # the hyperparam to optimize are passed\n",
    "    # as arguments\n",
    "    learning_rate,\n",
    "    num_conv_layers,\n",
    "    num_dense_layers,\n",
    "    num_dense_nodes,\n",
    "    activation,\n",
    "):\n",
    "    \"\"\"\n",
    "    Hyper-parameters:\n",
    "    learning_rate:        Learning-rate for the optimizer.\n",
    "    convolutional layers: Number of conv layers.\n",
    "    num_dense_layers:     Number of dense layers.\n",
    "    num_dense_nodes:      Number of nodes in each dense layer.\n",
    "    activation:           Activation function for all layers.\n",
    "    \"\"\"\n",
    "\n",
    "    # Start construction of a Keras Sequential model.\n",
    "    model = Sequential()\n",
    "\n",
    "    # First convolutional layer.\n",
    "    # There are many hyper-parameters in this layer\n",
    "    # For this demo, we will optimize the activation function and\n",
    "    # the number of convolutional layers that it can take.\n",
    "    \n",
    "    # We add the different number of conv layers in the following loop:\n",
    "    \n",
    "    for i in range(num_conv_layers):\n",
    "        model.add(Conv2D(kernel_size=5, strides=1, filters=16, padding='same',\n",
    "                         activation=activation))\n",
    "    model.add(MaxPool2D(pool_size=2, strides=2))\n",
    "\n",
    "    # Second convolutional layer.\n",
    "    # Same hyperparameters to optimize as previous layer.\n",
    "    for i in range(num_conv_layers):\n",
    "        model.add(Conv2D(kernel_size=5, strides=1, filters=36, padding='same',\n",
    "                         activation=activation))\n",
    "    model.add(MaxPool2D(pool_size=2, strides=2))\n",
    "\n",
    "    # Flatten the 4-rank output of the convolutional layers\n",
    "    # to 2-rank that can be input to a fully-connected Dense layer.\n",
    "    model.add(Flatten())\n",
    "\n",
    "    # Add fully-connected Dense layers.\n",
    "    # The number of layers is a hyper-parameter we want to optimize.\n",
    "    # We add the different number of layers in the following loop:\n",
    "    \n",
    "    for i in range(num_dense_layers):\n",
    "        \n",
    "        # Add the dense fully-connected layer to the model.\n",
    "        # This has two hyper-parameters we want to optimize:\n",
    "        # The number of nodes (neurons) and the activation function.\n",
    "        model.add(Dense(num_dense_nodes,\n",
    "                        activation=activation,\n",
    "                        ))\n",
    "\n",
    "    # Last fully-connected dense layer with softmax-activation\n",
    "    # for use in classification.\n",
    "    model.add(Dense(10, activation='softmax'))\n",
    "\n",
    "    # Use the Adam method for training the network.\n",
    "    # We want to find the best learning-rate for the Adam method.\n",
    "    optimizer = Adam(learning_rate=learning_rate)\n",
    "\n",
    "    # In Keras we need to compile the model so it can be trained.\n",
    "    model.compile(optimizer=optimizer,\n",
    "                  loss='categorical_crossentropy',\n",
    "                  metrics=['accuracy'])\n",
    "\n",
    "    return model"
   ]
  },
  {
   "cell_type": "markdown",
   "metadata": {},
   "source": [
    "# Define the Hyperparameter Space\n",
    "\n",
    "Scikit-optimize provides an utility function to create the range of values to examine for each hyperparameters. More details in [skopt.Space](https://scikit-optimize.github.io/stable/modules/generated/skopt.Space.html)\n",
    "\n",
    "\n",
    "We want to find the following hyper-parameters:\n",
    "\n",
    "- The learning rate of the optimizer.\n",
    "- The number of convolutional layers.\n",
    "- The number of fully-connected Dense layers.\n",
    "- The number of nodes (neurons) for each of the dense layers.\n",
    "- Whether to use 'sigmoid' or 'relu' activation in all the layers."
   ]
  },
  {
   "cell_type": "code",
   "execution_count": 15,
   "metadata": {},
   "outputs": [],
   "source": [
    "dim_learning_rate = Real(\n",
    "    low=1e-6, high=1e-2, prior='log-uniform', name='learning_rate',\n",
    ")\n",
    "\n",
    "dim_num_conv_layers = Integer(low=1, high=3, name='num_conv_layers')\n",
    "\n",
    "dim_num_dense_layers = Integer(low=1, high=5, name='num_dense_layers')\n",
    "\n",
    "dim_num_dense_nodes = Integer(low=5, high=512, name='num_dense_nodes')\n",
    "\n",
    "\n",
    "dim_activation = Categorical(\n",
    "    categories=['relu', 'sigmoid'], name='activation',\n",
    ")"
   ]
  },
  {
   "cell_type": "code",
   "execution_count": 16,
   "metadata": {},
   "outputs": [],
   "source": [
    "# the hyperparameter space grid\n",
    "\n",
    "param_grid = [dim_learning_rate,\n",
    "              dim_num_conv_layers,\n",
    "              dim_num_dense_layers,\n",
    "              dim_num_dense_nodes,\n",
    "              dim_activation]"
   ]
  },
  {
   "cell_type": "markdown",
   "metadata": {},
   "source": [
    "# Define the Objective Function"
   ]
  },
  {
   "cell_type": "code",
   "execution_count": 17,
   "metadata": {},
   "outputs": [],
   "source": [
    "# we will save the model with this name\n",
    "path_best_model = 'cnn_model.keras'\n",
    "\n",
    "# starting point for the optimization\n",
    "best_accuracy = 0"
   ]
  },
  {
   "cell_type": "code",
   "execution_count": 18,
   "metadata": {},
   "outputs": [],
   "source": [
    "@use_named_args(param_grid)\n",
    "def objective(\n",
    "    learning_rate,\n",
    "    num_conv_layers,\n",
    "    num_dense_layers,\n",
    "    num_dense_nodes,\n",
    "    activation,\n",
    "):\n",
    "    \n",
    "    \"\"\"\n",
    "    Hyper-parameters:\n",
    "    learning_rate:        Learning-rate for the optimizer.\n",
    "    convolutional layers: Number of conv layers.\n",
    "    num_dense_layers:     Number of dense layers.\n",
    "    num_dense_nodes:      Number of nodes in each dense layer.\n",
    "    activation:           Activation function for all layers.\n",
    "    \"\"\"\n",
    "\n",
    "    # Print the hyper-parameters.\n",
    "    print('learning rate: {0:.1e}'.format(learning_rate))\n",
    "    print('num_conv_layers:', num_conv_layers)\n",
    "    print('num_dense_layers:', num_dense_layers)\n",
    "    print('num_dense_nodes:', num_dense_nodes)\n",
    "    print('activation:', activation)\n",
    "    print()\n",
    "    \n",
    "    # Create the neural network with the hyper-parameters.\n",
    "    # We call the function we created previously.\n",
    "    model = create_cnn(learning_rate=learning_rate,\n",
    "                       num_conv_layers=num_conv_layers,\n",
    "                       num_dense_layers=num_dense_layers,\n",
    "                       num_dense_nodes=num_dense_nodes,\n",
    "                       activation=activation)\n",
    "\n",
    "   \n",
    "    # Set a learning rate annealer\n",
    "    # this reduces the learning rate if learning does not improve\n",
    "    # for a certain number of epochs\n",
    "    learning_rate_reduction = ReduceLROnPlateau(monitor='val_accuracy', \n",
    "                                                patience=2, \n",
    "                                                verbose=1, \n",
    "                                                factor=0.5, \n",
    "                                                min_lr=0.00001)\n",
    "   \n",
    "    # train the model\n",
    "    # we use 3 epochs to be able to run the notebook in a \"reasonable\"\n",
    "    # time. If we increase the epochs, we will have better performance\n",
    "    # this could be another parameter to optimize in fact.\n",
    "    history = model.fit(x=X_train,\n",
    "                        y=y_train,\n",
    "                        epochs=3,\n",
    "                        batch_size=128,\n",
    "                        validation_split=0.1,\n",
    "                        callbacks=learning_rate_reduction)\n",
    "\n",
    "    # Get the classification accuracy on the validation-set\n",
    "    # after the last training-epoch.\n",
    "    accuracy = history.history['val_accuracy'][-1]\n",
    "\n",
    "    # Print the classification accuracy.\n",
    "    print()\n",
    "    print(\"Accuracy: {0:.2%}\".format(accuracy))\n",
    "    print()\n",
    "\n",
    "    # Save the model if it improves on the best-found performance.\n",
    "    # We use the global keyword so we update the variable outside\n",
    "    # of this function.\n",
    "    global best_accuracy\n",
    "\n",
    "    # If the classification accuracy of the saved model is improved ...\n",
    "    if accuracy > best_accuracy:\n",
    "        # Save the new model to harddisk.\n",
    "        # Training CNNs is costly, so we want to avoid having to re-train\n",
    "        # the network with the best found parameters. We save it instead\n",
    "        # as we search for the best hyperparam space.\n",
    "        model.save(path_best_model)\n",
    "        \n",
    "        # Update the classification accuracy.\n",
    "        best_accuracy = accuracy\n",
    "\n",
    "    # Delete the Keras model with these hyper-parameters from memory.\n",
    "    del model\n",
    "\n",
    "    \n",
    "    # Remember that Scikit-optimize always minimizes the objective\n",
    "    # function, so we need to negate the accuracy (because we want\n",
    "    # the maximum accuracy)\n",
    "    return -accuracy"
   ]
  },
  {
   "cell_type": "markdown",
   "metadata": {},
   "source": [
    "## Test run"
   ]
  },
  {
   "cell_type": "code",
   "execution_count": 19,
   "metadata": {},
   "outputs": [
    {
     "name": "stdout",
     "output_type": "stream",
     "text": [
      "learning rate: 1.0e-05\n",
      "num_conv_layers: 1\n",
      "num_dense_layers: 1\n",
      "num_dense_nodes: 16\n",
      "activation: relu\n",
      "\n",
      "Epoch 1/3\n",
      "\u001b[1m266/266\u001b[0m \u001b[32m━━━━━━━━━━━━━━━━━━━━\u001b[0m\u001b[37m\u001b[0m \u001b[1m26s\u001b[0m 77ms/step - accuracy: 0.1576 - loss: 2.2785 - val_accuracy: 0.3574 - val_loss: 2.2069 - learning_rate: 1.0000e-05\n",
      "Epoch 2/3\n",
      "\u001b[1m266/266\u001b[0m \u001b[32m━━━━━━━━━━━━━━━━━━━━\u001b[0m\u001b[37m\u001b[0m \u001b[1m17s\u001b[0m 63ms/step - accuracy: 0.4061 - loss: 2.1775 - val_accuracy: 0.4870 - val_loss: 2.0713 - learning_rate: 1.0000e-05\n",
      "Epoch 3/3\n",
      "\u001b[1m266/266\u001b[0m \u001b[32m━━━━━━━━━━━━━━━━━━━━\u001b[0m\u001b[37m\u001b[0m \u001b[1m16s\u001b[0m 61ms/step - accuracy: 0.4951 - loss: 2.0236 - val_accuracy: 0.5143 - val_loss: 1.8627 - learning_rate: 1.0000e-05\n",
      "\n",
      "Accuracy: 51.43%\n",
      "\n"
     ]
    },
    {
     "data": {
      "text/plain": [
       "-0.5142857432365417"
      ]
     },
     "execution_count": 19,
     "metadata": {},
     "output_type": "execute_result"
    }
   ],
   "source": [
    "# Before we run the hyper-parameter optimization, \n",
    "# let's first check that the everything is working\n",
    "# by passing some default hyper-parameters.\n",
    "\n",
    "default_parameters = [1e-5, 1, 1, 16, 'relu']\n",
    "\n",
    "objective(x=default_parameters)"
   ]
  },
  {
   "cell_type": "markdown",
   "metadata": {},
   "source": [
    "We obtained a mediocre accuracy, but all our code is working. So let's get started with the Optimization now!!"
   ]
  },
  {
   "cell_type": "markdown",
   "metadata": {},
   "source": [
    "## Bayesian Optimization with Random Forests\n",
    "\n",
    "- [forest_minimize](https://scikit-optimize.readthedocs.io/en/latest/modules/generated/skopt.forest_minimize.html#skopt.forest_minimize)\n",
    "- [gbrt_minimize](https://scikit-optimize.readthedocs.io/en/latest/modules/generated/skopt.gbrt_minimize.html#skopt.gbrt_minimize)"
   ]
  },
  {
   "cell_type": "code",
   "execution_count": 20,
   "metadata": {
    "_cell_guid": "b453af8d-9736-43e3-b486-7a1cd7dd8909",
    "_execution_state": "idle",
    "_uuid": "cf36b3d029f95b553be02d612e097a9769ee8252",
    "scrolled": true
   },
   "outputs": [
    {
     "name": "stdout",
     "output_type": "stream",
     "text": [
      "learning rate: 1.0e-05\n",
      "num_conv_layers: 1\n",
      "num_dense_layers: 1\n",
      "num_dense_nodes: 16\n",
      "activation: relu\n",
      "\n",
      "Epoch 1/3\n",
      "\u001b[1m266/266\u001b[0m \u001b[32m━━━━━━━━━━━━━━━━━━━━\u001b[0m\u001b[37m\u001b[0m \u001b[1m31s\u001b[0m 87ms/step - accuracy: 0.1510 - loss: 2.2860 - val_accuracy: 0.2749 - val_loss: 2.2170 - learning_rate: 1.0000e-05\n",
      "Epoch 2/3\n",
      "\u001b[1m266/266\u001b[0m \u001b[32m━━━━━━━━━━━━━━━━━━━━\u001b[0m\u001b[37m\u001b[0m \u001b[1m19s\u001b[0m 70ms/step - accuracy: 0.3316 - loss: 2.1859 - val_accuracy: 0.4090 - val_loss: 2.0859 - learning_rate: 1.0000e-05\n",
      "Epoch 3/3\n",
      "\u001b[1m266/266\u001b[0m \u001b[32m━━━━━━━━━━━━━━━━━━━━\u001b[0m\u001b[37m\u001b[0m \u001b[1m24s\u001b[0m 80ms/step - accuracy: 0.4412 - loss: 2.0286 - val_accuracy: 0.5468 - val_loss: 1.8440 - learning_rate: 1.0000e-05\n",
      "\n",
      "Accuracy: 54.68%\n",
      "\n",
      "learning rate: 2.4e-04\n",
      "num_conv_layers: 1\n",
      "num_dense_layers: 4\n",
      "num_dense_nodes: 256\n",
      "activation: sigmoid\n",
      "\n",
      "Epoch 1/3\n",
      "\u001b[1m266/266\u001b[0m \u001b[32m━━━━━━━━━━━━━━━━━━━━\u001b[0m\u001b[37m\u001b[0m \u001b[1m44s\u001b[0m 126ms/step - accuracy: 0.1113 - loss: 2.3113 - val_accuracy: 0.1146 - val_loss: 2.3031 - learning_rate: 2.3517e-04\n",
      "Epoch 2/3\n",
      "\u001b[1m266/266\u001b[0m \u001b[32m━━━━━━━━━━━━━━━━━━━━\u001b[0m\u001b[37m\u001b[0m \u001b[1m28s\u001b[0m 107ms/step - accuracy: 0.1629 - loss: 2.2402 - val_accuracy: 0.6492 - val_loss: 1.2036 - learning_rate: 2.3517e-04\n",
      "Epoch 3/3\n",
      "\u001b[1m266/266\u001b[0m \u001b[32m━━━━━━━━━━━━━━━━━━━━\u001b[0m\u001b[37m\u001b[0m \u001b[1m28s\u001b[0m 104ms/step - accuracy: 0.7225 - loss: 0.9466 - val_accuracy: 0.8220 - val_loss: 0.5856 - learning_rate: 2.3517e-04\n",
      "\n",
      "Accuracy: 82.20%\n",
      "\n",
      "learning rate: 5.0e-05\n",
      "num_conv_layers: 2\n",
      "num_dense_layers: 3\n",
      "num_dense_nodes: 297\n",
      "activation: relu\n",
      "\n",
      "Epoch 1/3\n",
      "\u001b[1m266/266\u001b[0m \u001b[32m━━━━━━━━━━━━━━━━━━━━\u001b[0m\u001b[37m\u001b[0m \u001b[1m75s\u001b[0m 239ms/step - accuracy: 0.4769 - loss: 1.6300 - val_accuracy: 0.8870 - val_loss: 0.3774 - learning_rate: 4.9502e-05\n",
      "Epoch 2/3\n",
      "\u001b[1m266/266\u001b[0m \u001b[32m━━━━━━━━━━━━━━━━━━━━\u001b[0m\u001b[37m\u001b[0m \u001b[1m111s\u001b[0m 347ms/step - accuracy: 0.8937 - loss: 0.3406 - val_accuracy: 0.9177 - val_loss: 0.2538 - learning_rate: 4.9502e-05\n",
      "Epoch 3/3\n",
      "\u001b[1m266/266\u001b[0m \u001b[32m━━━━━━━━━━━━━━━━━━━━\u001b[0m\u001b[37m\u001b[0m \u001b[1m80s\u001b[0m 299ms/step - accuracy: 0.9281 - loss: 0.2294 - val_accuracy: 0.9368 - val_loss: 0.2028 - learning_rate: 4.9502e-05\n",
      "\n",
      "Accuracy: 93.68%\n",
      "\n",
      "learning rate: 1.7e-06\n",
      "num_conv_layers: 1\n",
      "num_dense_layers: 3\n",
      "num_dense_nodes: 198\n",
      "activation: sigmoid\n",
      "\n",
      "Epoch 1/3\n",
      "\u001b[1m266/266\u001b[0m \u001b[32m━━━━━━━━━━━━━━━━━━━━\u001b[0m\u001b[37m\u001b[0m \u001b[1m37s\u001b[0m 114ms/step - accuracy: 0.0906 - loss: 2.4494 - val_accuracy: 0.0868 - val_loss: 2.4217 - learning_rate: 1.6860e-06\n",
      "Epoch 2/3\n",
      "\u001b[1m266/266\u001b[0m \u001b[32m━━━━━━━━━━━━━━━━━━━━\u001b[0m\u001b[37m\u001b[0m \u001b[1m34s\u001b[0m 88ms/step - accuracy: 0.0907 - loss: 2.4022 - val_accuracy: 0.0997 - val_loss: 2.3832 - learning_rate: 1.6860e-06\n",
      "Epoch 3/3\n",
      "\u001b[1m266/266\u001b[0m \u001b[32m━━━━━━━━━━━━━━━━━━━━\u001b[0m\u001b[37m\u001b[0m \u001b[1m70s\u001b[0m 195ms/step - accuracy: 0.1032 - loss: 2.3682 - val_accuracy: 0.0997 - val_loss: 2.3556 - learning_rate: 1.6860e-06\n",
      "\n",
      "Accuracy: 9.97%\n",
      "\n",
      "learning rate: 1.3e-04\n",
      "num_conv_layers: 1\n",
      "num_dense_layers: 2\n",
      "num_dense_nodes: 170\n",
      "activation: sigmoid\n",
      "\n",
      "Epoch 1/3\n",
      "\u001b[1m266/266\u001b[0m \u001b[32m━━━━━━━━━━━━━━━━━━━━\u001b[0m\u001b[37m\u001b[0m \u001b[1m53s\u001b[0m 154ms/step - accuracy: 0.1043 - loss: 2.3239 - val_accuracy: 0.1146 - val_loss: 2.3021 - learning_rate: 1.3049e-04\n",
      "Epoch 2/3\n",
      "\u001b[1m266/266\u001b[0m \u001b[32m━━━━━━━━━━━━━━━━━━━━\u001b[0m\u001b[37m\u001b[0m \u001b[1m37s\u001b[0m 138ms/step - accuracy: 0.1233 - loss: 2.2986 - val_accuracy: 0.2664 - val_loss: 2.2159 - learning_rate: 1.3049e-04\n",
      "Epoch 3/3\n",
      "\u001b[1m266/266\u001b[0m \u001b[32m━━━━━━━━━━━━━━━━━━━━\u001b[0m\u001b[37m\u001b[0m \u001b[1m18s\u001b[0m 66ms/step - accuracy: 0.4007 - loss: 2.0050 - val_accuracy: 0.6804 - val_loss: 1.2925 - learning_rate: 1.3049e-04\n",
      "\n",
      "Accuracy: 68.04%\n",
      "\n",
      "learning rate: 2.2e-05\n",
      "num_conv_layers: 1\n",
      "num_dense_layers: 4\n",
      "num_dense_nodes: 469\n",
      "activation: sigmoid\n",
      "\n",
      "Epoch 1/3\n",
      "\u001b[1m266/266\u001b[0m \u001b[32m━━━━━━━━━━━━━━━━━━━━\u001b[0m\u001b[37m\u001b[0m \u001b[1m37s\u001b[0m 107ms/step - accuracy: 0.1123 - loss: 2.3363 - val_accuracy: 0.0997 - val_loss: 2.3029 - learning_rate: 2.2366e-05\n",
      "Epoch 2/3\n",
      "\u001b[1m266/266\u001b[0m \u001b[32m━━━━━━━━━━━━━━━━━━━━\u001b[0m\u001b[37m\u001b[0m \u001b[1m33s\u001b[0m 75ms/step - accuracy: 0.1101 - loss: 2.3024 - val_accuracy: 0.0997 - val_loss: 2.3029 - learning_rate: 2.2366e-05\n",
      "Epoch 3/3\n",
      "\u001b[1m266/266\u001b[0m \u001b[32m━━━━━━━━━━━━━━━━━━━━\u001b[0m\u001b[37m\u001b[0m \u001b[1m0s\u001b[0m 72ms/step - accuracy: 0.1095 - loss: 2.3025\n",
      "Epoch 3: ReduceLROnPlateau reducing learning rate to 1.1182904927409254e-05.\n",
      "\u001b[1m266/266\u001b[0m \u001b[32m━━━━━━━━━━━━━━━━━━━━\u001b[0m\u001b[37m\u001b[0m \u001b[1m20s\u001b[0m 75ms/step - accuracy: 0.1095 - loss: 2.3025 - val_accuracy: 0.0997 - val_loss: 2.3029 - learning_rate: 2.2366e-05\n",
      "\n",
      "Accuracy: 9.97%\n",
      "\n",
      "learning rate: 1.3e-03\n",
      "num_conv_layers: 1\n",
      "num_dense_layers: 3\n",
      "num_dense_nodes: 104\n",
      "activation: sigmoid\n",
      "\n",
      "Epoch 1/3\n",
      "\u001b[1m266/266\u001b[0m \u001b[32m━━━━━━━━━━━━━━━━━━━━\u001b[0m\u001b[37m\u001b[0m \u001b[1m19s\u001b[0m 54ms/step - accuracy: 0.1039 - loss: 2.3191 - val_accuracy: 0.1146 - val_loss: 2.3042 - learning_rate: 0.0013\n",
      "Epoch 2/3\n",
      "\u001b[1m266/266\u001b[0m \u001b[32m━━━━━━━━━━━━━━━━━━━━\u001b[0m\u001b[37m\u001b[0m \u001b[1m14s\u001b[0m 51ms/step - accuracy: 0.1054 - loss: 2.3062 - val_accuracy: 0.1146 - val_loss: 2.3030 - learning_rate: 0.0013\n",
      "Epoch 3/3\n",
      "\u001b[1m266/266\u001b[0m \u001b[32m━━━━━━━━━━━━━━━━━━━━\u001b[0m\u001b[37m\u001b[0m \u001b[1m0s\u001b[0m 49ms/step - accuracy: 0.1059 - loss: 2.3056\n",
      "Epoch 3: ReduceLROnPlateau reducing learning rate to 0.0006480328156612813.\n",
      "\u001b[1m266/266\u001b[0m \u001b[32m━━━━━━━━━━━━━━━━━━━━\u001b[0m\u001b[37m\u001b[0m \u001b[1m14s\u001b[0m 52ms/step - accuracy: 0.1059 - loss: 2.3056 - val_accuracy: 0.1146 - val_loss: 2.3028 - learning_rate: 0.0013\n",
      "\n",
      "Accuracy: 11.46%\n",
      "\n",
      "learning rate: 7.0e-05\n",
      "num_conv_layers: 3\n",
      "num_dense_layers: 1\n",
      "num_dense_nodes: 454\n",
      "activation: relu\n",
      "\n",
      "Epoch 1/3\n",
      "\u001b[1m266/266\u001b[0m \u001b[32m━━━━━━━━━━━━━━━━━━━━\u001b[0m\u001b[37m\u001b[0m \u001b[1m155s\u001b[0m 544ms/step - accuracy: 0.5972 - loss: 1.3612 - val_accuracy: 0.9228 - val_loss: 0.2454 - learning_rate: 7.0132e-05\n",
      "Epoch 2/3\n",
      "\u001b[1m266/266\u001b[0m \u001b[32m━━━━━━━━━━━━━━━━━━━━\u001b[0m\u001b[37m\u001b[0m \u001b[1m92s\u001b[0m 348ms/step - accuracy: 0.9356 - loss: 0.2069 - val_accuracy: 0.9545 - val_loss: 0.1542 - learning_rate: 7.0132e-05\n",
      "Epoch 3/3\n",
      "\u001b[1m266/266\u001b[0m \u001b[32m━━━━━━━━━━━━━━━━━━━━\u001b[0m\u001b[37m\u001b[0m \u001b[1m144s\u001b[0m 354ms/step - accuracy: 0.9611 - loss: 0.1223 - val_accuracy: 0.9646 - val_loss: 0.1181 - learning_rate: 7.0132e-05\n",
      "\n",
      "Accuracy: 96.46%\n",
      "\n",
      "learning rate: 6.0e-03\n",
      "num_conv_layers: 3\n",
      "num_dense_layers: 5\n",
      "num_dense_nodes: 156\n",
      "activation: relu\n",
      "\n",
      "Epoch 1/3\n",
      "\u001b[1m266/266\u001b[0m \u001b[32m━━━━━━━━━━━━━━━━━━━━\u001b[0m\u001b[37m\u001b[0m \u001b[1m82s\u001b[0m 284ms/step - accuracy: 0.1116 - loss: 2.3028 - val_accuracy: 0.1146 - val_loss: 2.3019 - learning_rate: 0.0060\n",
      "Epoch 2/3\n",
      "\u001b[1m266/266\u001b[0m \u001b[32m━━━━━━━━━━━━━━━━━━━━\u001b[0m\u001b[37m\u001b[0m \u001b[1m104s\u001b[0m 392ms/step - accuracy: 0.1131 - loss: 2.3017 - val_accuracy: 0.1146 - val_loss: 2.3019 - learning_rate: 0.0060\n",
      "Epoch 3/3\n",
      "\u001b[1m266/266\u001b[0m \u001b[32m━━━━━━━━━━━━━━━━━━━━\u001b[0m\u001b[37m\u001b[0m \u001b[1m0s\u001b[0m 354ms/step - accuracy: 0.1131 - loss: 2.3017\n",
      "Epoch 3: ReduceLROnPlateau reducing learning rate to 0.0030036247335374355.\n",
      "\u001b[1m266/266\u001b[0m \u001b[32m━━━━━━━━━━━━━━━━━━━━\u001b[0m\u001b[37m\u001b[0m \u001b[1m97s\u001b[0m 365ms/step - accuracy: 0.1131 - loss: 2.3017 - val_accuracy: 0.1146 - val_loss: 2.3019 - learning_rate: 0.0060\n",
      "\n",
      "Accuracy: 11.46%\n",
      "\n",
      "learning rate: 1.3e-03\n",
      "num_conv_layers: 1\n",
      "num_dense_layers: 3\n",
      "num_dense_nodes: 133\n",
      "activation: relu\n",
      "\n",
      "Epoch 1/3\n",
      "\u001b[1m266/266\u001b[0m \u001b[32m━━━━━━━━━━━━━━━━━━━━\u001b[0m\u001b[37m\u001b[0m \u001b[1m25s\u001b[0m 66ms/step - accuracy: 0.7929 - loss: 0.6340 - val_accuracy: 0.9706 - val_loss: 0.1042 - learning_rate: 0.0013\n",
      "Epoch 2/3\n",
      "\u001b[1m266/266\u001b[0m \u001b[32m━━━━━━━━━━━━━━━━━━━━\u001b[0m\u001b[37m\u001b[0m \u001b[1m20s\u001b[0m 77ms/step - accuracy: 0.9777 - loss: 0.0719 - val_accuracy: 0.9788 - val_loss: 0.0782 - learning_rate: 0.0013\n",
      "Epoch 3/3\n",
      "\u001b[1m266/266\u001b[0m \u001b[32m━━━━━━━━━━━━━━━━━━━━\u001b[0m\u001b[37m\u001b[0m \u001b[1m18s\u001b[0m 68ms/step - accuracy: 0.9856 - loss: 0.0466 - val_accuracy: 0.9794 - val_loss: 0.0778 - learning_rate: 0.0013\n",
      "\n",
      "Accuracy: 97.94%\n",
      "\n",
      "learning rate: 3.0e-04\n",
      "num_conv_layers: 3\n",
      "num_dense_layers: 1\n",
      "num_dense_nodes: 249\n",
      "activation: relu\n",
      "\n",
      "Epoch 1/3\n",
      "\u001b[1m266/266\u001b[0m \u001b[32m━━━━━━━━━━━━━━━━━━━━\u001b[0m\u001b[37m\u001b[0m \u001b[1m97s\u001b[0m 341ms/step - accuracy: 0.7102 - loss: 0.8811 - val_accuracy: 0.9601 - val_loss: 0.1322 - learning_rate: 2.9549e-04\n",
      "Epoch 2/3\n",
      "\u001b[1m266/266\u001b[0m \u001b[32m━━━━━━━━━━━━━━━━━━━━\u001b[0m\u001b[37m\u001b[0m \u001b[1m91s\u001b[0m 343ms/step - accuracy: 0.9706 - loss: 0.0883 - val_accuracy: 0.9743 - val_loss: 0.0834 - learning_rate: 2.9549e-04\n",
      "Epoch 3/3\n",
      "\u001b[1m266/266\u001b[0m \u001b[32m━━━━━━━━━━━━━━━━━━━━\u001b[0m\u001b[37m\u001b[0m \u001b[1m148s\u001b[0m 366ms/step - accuracy: 0.9814 - loss: 0.0564 - val_accuracy: 0.9778 - val_loss: 0.0800 - learning_rate: 2.9549e-04\n",
      "\n",
      "Accuracy: 97.78%\n",
      "\n",
      "learning rate: 2.7e-04\n",
      "num_conv_layers: 3\n",
      "num_dense_layers: 4\n",
      "num_dense_nodes: 509\n",
      "activation: relu\n",
      "\n"
     ]
    },
    {
     "name": "stdout",
     "output_type": "stream",
     "text": [
      "Epoch 1/3\n",
      "\u001b[1m266/266\u001b[0m \u001b[32m━━━━━━━━━━━━━━━━━━━━\u001b[0m\u001b[37m\u001b[0m \u001b[1m105s\u001b[0m 359ms/step - accuracy: 0.7191 - loss: 0.8361 - val_accuracy: 0.9624 - val_loss: 0.1162 - learning_rate: 2.7103e-04\n",
      "Epoch 2/3\n",
      "\u001b[1m266/266\u001b[0m \u001b[32m━━━━━━━━━━━━━━━━━━━━\u001b[0m\u001b[37m\u001b[0m \u001b[1m97s\u001b[0m 366ms/step - accuracy: 0.9699 - loss: 0.0948 - val_accuracy: 0.9738 - val_loss: 0.0919 - learning_rate: 2.7103e-04\n",
      "Epoch 3/3\n",
      "\u001b[1m266/266\u001b[0m \u001b[32m━━━━━━━━━━━━━━━━━━━━\u001b[0m\u001b[37m\u001b[0m \u001b[1m137s\u001b[0m 347ms/step - accuracy: 0.9826 - loss: 0.0574 - val_accuracy: 0.9767 - val_loss: 0.0841 - learning_rate: 2.7103e-04\n",
      "\n",
      "Accuracy: 97.67%\n",
      "\n",
      "learning rate: 9.7e-04\n",
      "num_conv_layers: 3\n",
      "num_dense_layers: 4\n",
      "num_dense_nodes: 501\n",
      "activation: relu\n",
      "\n",
      "Epoch 1/3\n",
      "\u001b[1m266/266\u001b[0m \u001b[32m━━━━━━━━━━━━━━━━━━━━\u001b[0m\u001b[37m\u001b[0m \u001b[1m103s\u001b[0m 351ms/step - accuracy: 0.7477 - loss: 0.7168 - val_accuracy: 0.9767 - val_loss: 0.0893 - learning_rate: 9.6912e-04\n",
      "Epoch 2/3\n",
      "\u001b[1m266/266\u001b[0m \u001b[32m━━━━━━━━━━━━━━━━━━━━\u001b[0m\u001b[37m\u001b[0m \u001b[1m92s\u001b[0m 347ms/step - accuracy: 0.9785 - loss: 0.0713 - val_accuracy: 0.9751 - val_loss: 0.0930 - learning_rate: 9.6912e-04\n",
      "Epoch 3/3\n",
      "\u001b[1m266/266\u001b[0m \u001b[32m━━━━━━━━━━━━━━━━━━━━\u001b[0m\u001b[37m\u001b[0m \u001b[1m93s\u001b[0m 348ms/step - accuracy: 0.9836 - loss: 0.0536 - val_accuracy: 0.9839 - val_loss: 0.0559 - learning_rate: 9.6912e-04\n",
      "\n",
      "Accuracy: 98.39%\n",
      "\n",
      "learning rate: 2.5e-03\n",
      "num_conv_layers: 1\n",
      "num_dense_layers: 5\n",
      "num_dense_nodes: 392\n",
      "activation: relu\n",
      "\n",
      "Epoch 1/3\n",
      "\u001b[1m266/266\u001b[0m \u001b[32m━━━━━━━━━━━━━━━━━━━━\u001b[0m\u001b[37m\u001b[0m \u001b[1m31s\u001b[0m 91ms/step - accuracy: 0.7759 - loss: 0.6388 - val_accuracy: 0.9698 - val_loss: 0.1063 - learning_rate: 0.0025\n",
      "Epoch 2/3\n",
      "\u001b[1m266/266\u001b[0m \u001b[32m━━━━━━━━━━━━━━━━━━━━\u001b[0m\u001b[37m\u001b[0m \u001b[1m23s\u001b[0m 86ms/step - accuracy: 0.9783 - loss: 0.0746 - val_accuracy: 0.9730 - val_loss: 0.1024 - learning_rate: 0.0025\n",
      "Epoch 3/3\n",
      "\u001b[1m266/266\u001b[0m \u001b[32m━━━━━━━━━━━━━━━━━━━━\u001b[0m\u001b[37m\u001b[0m \u001b[1m47s\u001b[0m 109ms/step - accuracy: 0.9834 - loss: 0.0607 - val_accuracy: 0.9786 - val_loss: 0.0819 - learning_rate: 0.0025\n",
      "\n",
      "Accuracy: 97.86%\n",
      "\n",
      "learning rate: 2.2e-03\n",
      "num_conv_layers: 3\n",
      "num_dense_layers: 5\n",
      "num_dense_nodes: 372\n",
      "activation: relu\n",
      "\n",
      "Epoch 1/3\n",
      "\u001b[1m266/266\u001b[0m \u001b[32m━━━━━━━━━━━━━━━━━━━━\u001b[0m\u001b[37m\u001b[0m \u001b[1m100s\u001b[0m 352ms/step - accuracy: 0.5126 - loss: 1.3241 - val_accuracy: 0.9704 - val_loss: 0.1044 - learning_rate: 0.0022\n",
      "Epoch 2/3\n",
      "\u001b[1m266/266\u001b[0m \u001b[32m━━━━━━━━━━━━━━━━━━━━\u001b[0m\u001b[37m\u001b[0m \u001b[1m139s\u001b[0m 341ms/step - accuracy: 0.9709 - loss: 0.0993 - val_accuracy: 0.9725 - val_loss: 0.1069 - learning_rate: 0.0022\n",
      "Epoch 3/3\n",
      "\u001b[1m266/266\u001b[0m \u001b[32m━━━━━━━━━━━━━━━━━━━━\u001b[0m\u001b[37m\u001b[0m \u001b[1m95s\u001b[0m 358ms/step - accuracy: 0.9818 - loss: 0.0692 - val_accuracy: 0.9788 - val_loss: 0.0806 - learning_rate: 0.0022\n",
      "\n",
      "Accuracy: 97.88%\n",
      "\n",
      "learning rate: 8.0e-03\n",
      "num_conv_layers: 3\n",
      "num_dense_layers: 5\n",
      "num_dense_nodes: 365\n",
      "activation: relu\n",
      "\n",
      "Epoch 1/3\n",
      "\u001b[1m266/266\u001b[0m \u001b[32m━━━━━━━━━━━━━━━━━━━━\u001b[0m\u001b[37m\u001b[0m \u001b[1m104s\u001b[0m 366ms/step - accuracy: 0.1055 - loss: 2.3071 - val_accuracy: 0.1146 - val_loss: 2.3022 - learning_rate: 0.0080\n",
      "Epoch 2/3\n",
      "\u001b[1m266/266\u001b[0m \u001b[32m━━━━━━━━━━━━━━━━━━━━\u001b[0m\u001b[37m\u001b[0m \u001b[1m90s\u001b[0m 337ms/step - accuracy: 0.1130 - loss: 2.3018 - val_accuracy: 0.1146 - val_loss: 2.3022 - learning_rate: 0.0080\n",
      "Epoch 3/3\n",
      "\u001b[1m266/266\u001b[0m \u001b[32m━━━━━━━━━━━━━━━━━━━━\u001b[0m\u001b[37m\u001b[0m \u001b[1m0s\u001b[0m 253ms/step - accuracy: 0.1130 - loss: 2.3018\n",
      "Epoch 3: ReduceLROnPlateau reducing learning rate to 0.003987459000200033.\n",
      "\u001b[1m266/266\u001b[0m \u001b[32m━━━━━━━━━━━━━━━━━━━━\u001b[0m\u001b[37m\u001b[0m \u001b[1m70s\u001b[0m 263ms/step - accuracy: 0.1130 - loss: 2.3018 - val_accuracy: 0.1146 - val_loss: 2.3022 - learning_rate: 0.0080\n",
      "\n",
      "Accuracy: 11.46%\n",
      "\n",
      "learning rate: 2.2e-03\n",
      "num_conv_layers: 3\n",
      "num_dense_layers: 4\n",
      "num_dense_nodes: 451\n",
      "activation: relu\n",
      "\n",
      "Epoch 1/3\n",
      "\u001b[1m266/266\u001b[0m \u001b[32m━━━━━━━━━━━━━━━━━━━━\u001b[0m\u001b[37m\u001b[0m \u001b[1m97s\u001b[0m 341ms/step - accuracy: 0.6717 - loss: 0.8933 - val_accuracy: 0.9746 - val_loss: 0.0848 - learning_rate: 0.0022\n",
      "Epoch 2/3\n",
      "\u001b[1m266/266\u001b[0m \u001b[32m━━━━━━━━━━━━━━━━━━━━\u001b[0m\u001b[37m\u001b[0m \u001b[1m90s\u001b[0m 339ms/step - accuracy: 0.9716 - loss: 0.1005 - val_accuracy: 0.9751 - val_loss: 0.0888 - learning_rate: 0.0022\n",
      "Epoch 3/3\n",
      "\u001b[1m266/266\u001b[0m \u001b[32m━━━━━━━━━━━━━━━━━━━━\u001b[0m\u001b[37m\u001b[0m \u001b[1m117s\u001b[0m 244ms/step - accuracy: 0.9824 - loss: 0.0613 - val_accuracy: 0.9802 - val_loss: 0.0764 - learning_rate: 0.0022\n",
      "\n",
      "Accuracy: 98.02%\n",
      "\n",
      "learning rate: 5.1e-03\n",
      "num_conv_layers: 3\n",
      "num_dense_layers: 4\n",
      "num_dense_nodes: 417\n",
      "activation: relu\n",
      "\n",
      "Epoch 1/3\n",
      "\u001b[1m266/266\u001b[0m \u001b[32m━━━━━━━━━━━━━━━━━━━━\u001b[0m\u001b[37m\u001b[0m \u001b[1m91s\u001b[0m 326ms/step - accuracy: 0.1084 - loss: 2.3288 - val_accuracy: 0.1037 - val_loss: 2.3020 - learning_rate: 0.0051\n",
      "Epoch 2/3\n",
      "\u001b[1m266/266\u001b[0m \u001b[32m━━━━━━━━━━━━━━━━━━━━\u001b[0m\u001b[37m\u001b[0m \u001b[1m175s\u001b[0m 448ms/step - accuracy: 0.1111 - loss: 2.3016 - val_accuracy: 0.1146 - val_loss: 2.3017 - learning_rate: 0.0051\n",
      "Epoch 3/3\n",
      "\u001b[1m266/266\u001b[0m \u001b[32m━━━━━━━━━━━━━━━━━━━━\u001b[0m\u001b[37m\u001b[0m \u001b[1m69s\u001b[0m 260ms/step - accuracy: 0.1131 - loss: 2.3016 - val_accuracy: 0.1146 - val_loss: 2.3017 - learning_rate: 0.0051\n",
      "\n",
      "Accuracy: 11.46%\n",
      "\n",
      "learning rate: 2.2e-03\n",
      "num_conv_layers: 3\n",
      "num_dense_layers: 4\n",
      "num_dense_nodes: 501\n",
      "activation: relu\n",
      "\n",
      "Epoch 1/3\n",
      "\u001b[1m266/266\u001b[0m \u001b[32m━━━━━━━━━━━━━━━━━━━━\u001b[0m\u001b[37m\u001b[0m \u001b[1m87s\u001b[0m 311ms/step - accuracy: 0.7301 - loss: 0.7750 - val_accuracy: 0.9743 - val_loss: 0.0953 - learning_rate: 0.0022\n",
      "Epoch 2/3\n",
      "\u001b[1m266/266\u001b[0m \u001b[32m━━━━━━━━━━━━━━━━━━━━\u001b[0m\u001b[37m\u001b[0m \u001b[1m143s\u001b[0m 538ms/step - accuracy: 0.9763 - loss: 0.0861 - val_accuracy: 0.9754 - val_loss: 0.0942 - learning_rate: 0.0022\n",
      "Epoch 3/3\n",
      "\u001b[1m266/266\u001b[0m \u001b[32m━━━━━━━━━━━━━━━━━━━━\u001b[0m\u001b[37m\u001b[0m \u001b[1m211s\u001b[0m 571ms/step - accuracy: 0.9824 - loss: 0.0650 - val_accuracy: 0.9794 - val_loss: 0.0890 - learning_rate: 0.0022\n",
      "\n",
      "Accuracy: 97.94%\n",
      "\n",
      "learning rate: 1.9e-03\n",
      "num_conv_layers: 3\n",
      "num_dense_layers: 5\n",
      "num_dense_nodes: 475\n",
      "activation: relu\n",
      "\n",
      "Epoch 1/3\n",
      "\u001b[1m266/266\u001b[0m \u001b[32m━━━━━━━━━━━━━━━━━━━━\u001b[0m\u001b[37m\u001b[0m \u001b[1m186s\u001b[0m 598ms/step - accuracy: 0.6966 - loss: 0.8639 - val_accuracy: 0.9733 - val_loss: 0.0975 - learning_rate: 0.0019\n",
      "Epoch 2/3\n",
      "\u001b[1m266/266\u001b[0m \u001b[32m━━━━━━━━━━━━━━━━━━━━\u001b[0m\u001b[37m\u001b[0m \u001b[1m126s\u001b[0m 475ms/step - accuracy: 0.9746 - loss: 0.0956 - val_accuracy: 0.9794 - val_loss: 0.0799 - learning_rate: 0.0019\n",
      "Epoch 3/3\n",
      "\u001b[1m266/266\u001b[0m \u001b[32m━━━━━━━━━━━━━━━━━━━━\u001b[0m\u001b[37m\u001b[0m \u001b[1m133s\u001b[0m 440ms/step - accuracy: 0.9852 - loss: 0.0566 - val_accuracy: 0.9804 - val_loss: 0.0850 - learning_rate: 0.0019\n",
      "\n",
      "Accuracy: 98.04%\n",
      "\n",
      "learning rate: 2.1e-03\n",
      "num_conv_layers: 3\n",
      "num_dense_layers: 4\n",
      "num_dense_nodes: 439\n",
      "activation: relu\n",
      "\n",
      "Epoch 1/3\n",
      "\u001b[1m266/266\u001b[0m \u001b[32m━━━━━━━━━━━━━━━━━━━━\u001b[0m\u001b[37m\u001b[0m \u001b[1m174s\u001b[0m 573ms/step - accuracy: 0.6392 - loss: 1.0211 - val_accuracy: 0.9780 - val_loss: 0.0810 - learning_rate: 0.0021\n",
      "Epoch 2/3\n",
      "\u001b[1m266/266\u001b[0m \u001b[32m━━━━━━━━━━━━━━━━━━━━\u001b[0m\u001b[37m\u001b[0m \u001b[1m193s\u001b[0m 539ms/step - accuracy: 0.9779 - loss: 0.0749 - val_accuracy: 0.9815 - val_loss: 0.0731 - learning_rate: 0.0021\n",
      "Epoch 3/3\n",
      "\u001b[1m266/266\u001b[0m \u001b[32m━━━━━━━━━━━━━━━━━━━━\u001b[0m\u001b[37m\u001b[0m \u001b[1m121s\u001b[0m 455ms/step - accuracy: 0.9818 - loss: 0.0631 - val_accuracy: 0.9854 - val_loss: 0.0592 - learning_rate: 0.0021\n",
      "\n",
      "Accuracy: 98.54%\n",
      "\n",
      "learning rate: 2.7e-03\n",
      "num_conv_layers: 3\n",
      "num_dense_layers: 4\n",
      "num_dense_nodes: 460\n",
      "activation: relu\n",
      "\n",
      "Epoch 1/3\n",
      "\u001b[1m266/266\u001b[0m \u001b[32m━━━━━━━━━━━━━━━━━━━━\u001b[0m\u001b[37m\u001b[0m \u001b[1m120s\u001b[0m 384ms/step - accuracy: 0.4857 - loss: 1.3592 - val_accuracy: 0.9677 - val_loss: 0.1335 - learning_rate: 0.0027\n",
      "Epoch 2/3\n",
      "\u001b[1m266/266\u001b[0m \u001b[32m━━━━━━━━━━━━━━━━━━━━\u001b[0m\u001b[37m\u001b[0m \u001b[1m190s\u001b[0m 565ms/step - accuracy: 0.9736 - loss: 0.0936 - val_accuracy: 0.9701 - val_loss: 0.1077 - learning_rate: 0.0027\n",
      "Epoch 3/3\n",
      "\u001b[1m266/266\u001b[0m \u001b[32m━━━━━━━━━━━━━━━━━━━━\u001b[0m\u001b[37m\u001b[0m \u001b[1m185s\u001b[0m 501ms/step - accuracy: 0.9802 - loss: 0.0719 - val_accuracy: 0.9735 - val_loss: 0.1263 - learning_rate: 0.0027\n",
      "\n",
      "Accuracy: 97.35%\n",
      "\n",
      "learning rate: 2.7e-03\n",
      "num_conv_layers: 3\n",
      "num_dense_layers: 5\n",
      "num_dense_nodes: 506\n",
      "activation: relu\n",
      "\n",
      "Epoch 1/3\n",
      "\u001b[1m266/266\u001b[0m \u001b[32m━━━━━━━━━━━━━━━━━━━━\u001b[0m\u001b[37m\u001b[0m \u001b[1m161s\u001b[0m 544ms/step - accuracy: 0.5694 - loss: 1.1623 - val_accuracy: 0.9688 - val_loss: 0.1199 - learning_rate: 0.0027\n",
      "Epoch 2/3\n",
      "\u001b[1m266/266\u001b[0m \u001b[32m━━━━━━━━━━━━━━━━━━━━\u001b[0m\u001b[37m\u001b[0m \u001b[1m155s\u001b[0m 583ms/step - accuracy: 0.9738 - loss: 0.1018 - val_accuracy: 0.9730 - val_loss: 0.1077 - learning_rate: 0.0027\n",
      "Epoch 3/3\n"
     ]
    },
    {
     "name": "stdout",
     "output_type": "stream",
     "text": [
      "\u001b[1m266/266\u001b[0m \u001b[32m━━━━━━━━━━━━━━━━━━━━\u001b[0m\u001b[37m\u001b[0m \u001b[1m193s\u001b[0m 546ms/step - accuracy: 0.9803 - loss: 0.0761 - val_accuracy: 0.9794 - val_loss: 0.0942 - learning_rate: 0.0027\n",
      "\n",
      "Accuracy: 97.94%\n",
      "\n",
      "learning rate: 1.7e-03\n",
      "num_conv_layers: 3\n",
      "num_dense_layers: 5\n",
      "num_dense_nodes: 418\n",
      "activation: relu\n",
      "\n",
      "Epoch 1/3\n",
      "\u001b[1m266/266\u001b[0m \u001b[32m━━━━━━━━━━━━━━━━━━━━\u001b[0m\u001b[37m\u001b[0m \u001b[1m149s\u001b[0m 442ms/step - accuracy: 0.7008 - loss: 0.8329 - val_accuracy: 0.9804 - val_loss: 0.0798 - learning_rate: 0.0017\n",
      "Epoch 2/3\n",
      "\u001b[1m266/266\u001b[0m \u001b[32m━━━━━━━━━━━━━━━━━━━━\u001b[0m\u001b[37m\u001b[0m \u001b[1m125s\u001b[0m 375ms/step - accuracy: 0.9783 - loss: 0.0774 - val_accuracy: 0.9746 - val_loss: 0.0871 - learning_rate: 0.0017\n",
      "Epoch 3/3\n",
      "\u001b[1m266/266\u001b[0m \u001b[32m━━━━━━━━━━━━━━━━━━━━\u001b[0m\u001b[37m\u001b[0m \u001b[1m0s\u001b[0m 472ms/step - accuracy: 0.9841 - loss: 0.0579\n",
      "Epoch 3: ReduceLROnPlateau reducing learning rate to 0.0008328016847372055.\n",
      "\u001b[1m266/266\u001b[0m \u001b[32m━━━━━━━━━━━━━━━━━━━━\u001b[0m\u001b[37m\u001b[0m \u001b[1m128s\u001b[0m 480ms/step - accuracy: 0.9841 - loss: 0.0579 - val_accuracy: 0.9788 - val_loss: 0.0890 - learning_rate: 0.0017\n",
      "\n",
      "Accuracy: 97.88%\n",
      "\n",
      "learning rate: 3.4e-03\n",
      "num_conv_layers: 3\n",
      "num_dense_layers: 4\n",
      "num_dense_nodes: 501\n",
      "activation: relu\n",
      "\n",
      "Epoch 1/3\n",
      "\u001b[1m266/266\u001b[0m \u001b[32m━━━━━━━━━━━━━━━━━━━━\u001b[0m\u001b[37m\u001b[0m \u001b[1m127s\u001b[0m 450ms/step - accuracy: 0.4481 - loss: 1.4750 - val_accuracy: 0.9548 - val_loss: 0.1597 - learning_rate: 0.0034\n",
      "Epoch 2/3\n",
      "\u001b[1m266/266\u001b[0m \u001b[32m━━━━━━━━━━━━━━━━━━━━\u001b[0m\u001b[37m\u001b[0m \u001b[1m146s\u001b[0m 463ms/step - accuracy: 0.9642 - loss: 0.1271 - val_accuracy: 0.9667 - val_loss: 0.1266 - learning_rate: 0.0034\n",
      "Epoch 3/3\n",
      "\u001b[1m266/266\u001b[0m \u001b[32m━━━━━━━━━━━━━━━━━━━━\u001b[0m\u001b[37m\u001b[0m \u001b[1m139s\u001b[0m 450ms/step - accuracy: 0.9739 - loss: 0.0929 - val_accuracy: 0.9595 - val_loss: 0.1626 - learning_rate: 0.0034\n",
      "\n",
      "Accuracy: 95.95%\n",
      "\n",
      "learning rate: 2.9e-03\n",
      "num_conv_layers: 3\n",
      "num_dense_layers: 4\n",
      "num_dense_nodes: 439\n",
      "activation: relu\n",
      "\n",
      "Epoch 1/3\n",
      "\u001b[1m266/266\u001b[0m \u001b[32m━━━━━━━━━━━━━━━━━━━━\u001b[0m\u001b[37m\u001b[0m \u001b[1m130s\u001b[0m 449ms/step - accuracy: 0.1093 - loss: 2.3092 - val_accuracy: 0.1146 - val_loss: 2.3017 - learning_rate: 0.0029\n",
      "Epoch 2/3\n",
      "\u001b[1m266/266\u001b[0m \u001b[32m━━━━━━━━━━━━━━━━━━━━\u001b[0m\u001b[37m\u001b[0m \u001b[1m115s\u001b[0m 432ms/step - accuracy: 0.1131 - loss: 2.3016 - val_accuracy: 0.1146 - val_loss: 2.3014 - learning_rate: 0.0029\n",
      "Epoch 3/3\n",
      "\u001b[1m266/266\u001b[0m \u001b[32m━━━━━━━━━━━━━━━━━━━━\u001b[0m\u001b[37m\u001b[0m \u001b[1m0s\u001b[0m 409ms/step - accuracy: 0.1131 - loss: 2.3015\n",
      "Epoch 3: ReduceLROnPlateau reducing learning rate to 0.0014277378795668483.\n",
      "\u001b[1m266/266\u001b[0m \u001b[32m━━━━━━━━━━━━━━━━━━━━\u001b[0m\u001b[37m\u001b[0m \u001b[1m140s\u001b[0m 424ms/step - accuracy: 0.1131 - loss: 2.3015 - val_accuracy: 0.1146 - val_loss: 2.3013 - learning_rate: 0.0029\n",
      "\n",
      "Accuracy: 11.46%\n",
      "\n",
      "learning rate: 1.6e-03\n",
      "num_conv_layers: 3\n",
      "num_dense_layers: 4\n",
      "num_dense_nodes: 429\n",
      "activation: relu\n",
      "\n",
      "Epoch 1/3\n",
      "\u001b[1m266/266\u001b[0m \u001b[32m━━━━━━━━━━━━━━━━━━━━\u001b[0m\u001b[37m\u001b[0m \u001b[1m133s\u001b[0m 450ms/step - accuracy: 0.7314 - loss: 0.7400 - val_accuracy: 0.9698 - val_loss: 0.1147 - learning_rate: 0.0016\n",
      "Epoch 2/3\n",
      "\u001b[1m266/266\u001b[0m \u001b[32m━━━━━━━━━━━━━━━━━━━━\u001b[0m\u001b[37m\u001b[0m \u001b[1m97s\u001b[0m 365ms/step - accuracy: 0.9791 - loss: 0.0732 - val_accuracy: 0.9783 - val_loss: 0.0862 - learning_rate: 0.0016\n",
      "Epoch 3/3\n",
      "\u001b[1m266/266\u001b[0m \u001b[32m━━━━━━━━━━━━━━━━━━━━\u001b[0m\u001b[37m\u001b[0m \u001b[1m89s\u001b[0m 335ms/step - accuracy: 0.9848 - loss: 0.0529 - val_accuracy: 0.9722 - val_loss: 0.0972 - learning_rate: 0.0016\n",
      "\n",
      "Accuracy: 97.22%\n",
      "\n",
      "learning rate: 2.1e-03\n",
      "num_conv_layers: 3\n",
      "num_dense_layers: 5\n",
      "num_dense_nodes: 426\n",
      "activation: relu\n",
      "\n",
      "Epoch 1/3\n",
      "\u001b[1m266/266\u001b[0m \u001b[32m━━━━━━━━━━━━━━━━━━━━\u001b[0m\u001b[37m\u001b[0m \u001b[1m111s\u001b[0m 395ms/step - accuracy: 0.7245 - loss: 0.7664 - val_accuracy: 0.9741 - val_loss: 0.0957 - learning_rate: 0.0021\n",
      "Epoch 2/3\n",
      "\u001b[1m266/266\u001b[0m \u001b[32m━━━━━━━━━━━━━━━━━━━━\u001b[0m\u001b[37m\u001b[0m \u001b[1m139s\u001b[0m 380ms/step - accuracy: 0.9759 - loss: 0.0893 - val_accuracy: 0.9780 - val_loss: 0.0900 - learning_rate: 0.0021\n",
      "Epoch 3/3\n",
      "\u001b[1m266/266\u001b[0m \u001b[32m━━━━━━━━━━━━━━━━━━━━\u001b[0m\u001b[37m\u001b[0m \u001b[1m86s\u001b[0m 325ms/step - accuracy: 0.9811 - loss: 0.0753 - val_accuracy: 0.9765 - val_loss: 0.0884 - learning_rate: 0.0021\n",
      "\n",
      "Accuracy: 97.65%\n",
      "\n",
      "learning rate: 1.5e-03\n",
      "num_conv_layers: 3\n",
      "num_dense_layers: 4\n",
      "num_dense_nodes: 424\n",
      "activation: relu\n",
      "\n",
      "Epoch 1/3\n",
      "\u001b[1m266/266\u001b[0m \u001b[32m━━━━━━━━━━━━━━━━━━━━\u001b[0m\u001b[37m\u001b[0m \u001b[1m88s\u001b[0m 279ms/step - accuracy: 0.6391 - loss: 0.9925 - val_accuracy: 0.9759 - val_loss: 0.0844 - learning_rate: 0.0015\n",
      "Epoch 2/3\n",
      "\u001b[1m266/266\u001b[0m \u001b[32m━━━━━━━━━━━━━━━━━━━━\u001b[0m\u001b[37m\u001b[0m \u001b[1m113s\u001b[0m 395ms/step - accuracy: 0.9779 - loss: 0.0767 - val_accuracy: 0.9783 - val_loss: 0.0754 - learning_rate: 0.0015\n",
      "Epoch 3/3\n",
      "\u001b[1m266/266\u001b[0m \u001b[32m━━━━━━━━━━━━━━━━━━━━\u001b[0m\u001b[37m\u001b[0m \u001b[1m110s\u001b[0m 414ms/step - accuracy: 0.9842 - loss: 0.0552 - val_accuracy: 0.9772 - val_loss: 0.0815 - learning_rate: 0.0015\n",
      "\n",
      "Accuracy: 97.72%\n",
      "\n",
      "learning rate: 2.1e-03\n",
      "num_conv_layers: 3\n",
      "num_dense_layers: 4\n",
      "num_dense_nodes: 416\n",
      "activation: relu\n",
      "\n",
      "Epoch 1/3\n",
      "\u001b[1m266/266\u001b[0m \u001b[32m━━━━━━━━━━━━━━━━━━━━\u001b[0m\u001b[37m\u001b[0m \u001b[1m102s\u001b[0m 335ms/step - accuracy: 0.6390 - loss: 0.9760 - val_accuracy: 0.9672 - val_loss: 0.1184 - learning_rate: 0.0021\n",
      "Epoch 2/3\n",
      "\u001b[1m266/266\u001b[0m \u001b[32m━━━━━━━━━━━━━━━━━━━━\u001b[0m\u001b[37m\u001b[0m \u001b[1m155s\u001b[0m 383ms/step - accuracy: 0.9758 - loss: 0.0816 - val_accuracy: 0.9759 - val_loss: 0.0836 - learning_rate: 0.0021\n",
      "Epoch 3/3\n",
      "\u001b[1m266/266\u001b[0m \u001b[32m━━━━━━━━━━━━━━━━━━━━\u001b[0m\u001b[37m\u001b[0m \u001b[1m84s\u001b[0m 316ms/step - accuracy: 0.9840 - loss: 0.0585 - val_accuracy: 0.9849 - val_loss: 0.0694 - learning_rate: 0.0021\n",
      "\n",
      "Accuracy: 98.49%\n",
      "\n"
     ]
    }
   ],
   "source": [
    "# we approximate f(x) using Random Forests, we could\n",
    "# also approximate it with gradient boosting machines\n",
    "# using gbrt_minimize instead.\n",
    "\n",
    "fm_ = forest_minimize(\n",
    "    objective,  # the objective function to minimize\n",
    "    param_grid,  # the hyperparameter space\n",
    "    x0=default_parameters,  # the initial parameters to test\n",
    "    acq_func='EI',  # the acquisition function\n",
    "    n_calls=30,  # the number of subsequent evaluations of f(x)\n",
    "    random_state=0,\n",
    ")"
   ]
  },
  {
   "cell_type": "markdown",
   "metadata": {},
   "source": [
    "# Analyze results"
   ]
  },
  {
   "cell_type": "code",
   "execution_count": 21,
   "metadata": {},
   "outputs": [
    {
     "data": {
      "text/plain": [
       "'Best score=-0.9854'"
      ]
     },
     "execution_count": 21,
     "metadata": {},
     "output_type": "execute_result"
    }
   ],
   "source": [
    "# function value at the minimum.\n",
    "# note that it is the negative of the accuracy\n",
    "\n",
    "\"Best score=%.4f\" % fm_.fun"
   ]
  },
  {
   "cell_type": "code",
   "execution_count": 22,
   "metadata": {},
   "outputs": [
    {
     "data": {
      "text/plain": [
       "[0.002050121808932863, 3, 4, 439, 'relu']"
      ]
     },
     "execution_count": 22,
     "metadata": {},
     "output_type": "execute_result"
    }
   ],
   "source": [
    "fm_.x"
   ]
  },
  {
   "cell_type": "code",
   "execution_count": 23,
   "metadata": {},
   "outputs": [
    {
     "data": {
      "text/plain": [
       "Space([Real(low=1e-06, high=0.01, prior='log-uniform', transform='identity'),\n",
       "       Integer(low=1, high=3, prior='uniform', transform='identity'),\n",
       "       Integer(low=1, high=5, prior='uniform', transform='identity'),\n",
       "       Integer(low=5, high=512, prior='uniform', transform='identity'),\n",
       "       Categorical(categories=('relu', 'sigmoid'), prior=None)])"
      ]
     },
     "execution_count": 23,
     "metadata": {},
     "output_type": "execute_result"
    }
   ],
   "source": [
    "fm_.space"
   ]
  },
  {
   "cell_type": "code",
   "execution_count": 24,
   "metadata": {},
   "outputs": [
    {
     "name": "stdout",
     "output_type": "stream",
     "text": [
      "Best parameters:\n",
      "=========================\n",
      "- learning rate=0.002050\n",
      "- num_conv_laayers=3\n",
      "- num_dense_layers=4\n",
      "- num_nodes=439\n",
      "- activation = relu\n"
     ]
    }
   ],
   "source": [
    "print(\"\"\"Best parameters:\n",
    "=========================\n",
    "- learning rate=%.6f\n",
    "- num_conv_laayers=%d\n",
    "- num_dense_layers=%d\n",
    "- num_nodes=%d\n",
    "- activation = %s\"\"\" %(\n",
    "    fm_.x[0], \n",
    "    fm_.x[1],\n",
    "    fm_.x[2],\n",
    "    fm_.x[3],\n",
    "    fm_.x[4],\n",
    "))"
   ]
  },
  {
   "cell_type": "markdown",
   "metadata": {},
   "source": [
    "## Convergence"
   ]
  },
  {
   "cell_type": "code",
   "execution_count": 25,
   "metadata": {},
   "outputs": [
    {
     "data": {
      "text/plain": [
       "<Axes: title={'center': 'Convergence plot'}, xlabel='Number of calls $n$', ylabel='$\\\\min f(x)$ after $n$ calls'>"
      ]
     },
     "execution_count": 25,
     "metadata": {},
     "output_type": "execute_result"
    },
    {
     "data": {
      "image/png": "[encoded data removed]",
      "text/plain": [
       "<Figure size 432x288 with 1 Axes>"
      ]
     },
     "metadata": {
      "needs_background": "light"
     },
     "output_type": "display_data"
    }
   ],
   "source": [
    "plot_convergence(fm_)"
   ]
  },
  {
   "cell_type": "markdown",
   "metadata": {},
   "source": [
    "## Partially dependency plots\n",
    "\n",
    "[plot_objective](https://scikit-optimize.readthedocs.io/en/latest/modules/generated/skopt.plots.plot_objective.html#skopt.plots.plot_objective)"
   ]
  },
  {
   "cell_type": "code",
   "execution_count": 26,
   "metadata": {},
   "outputs": [],
   "source": [
    "dim_names = ['learning_rate', 'num_conv_layers', 'num_dense_layers', 'num_dense_nodes', 'activation']"
   ]
  },
  {
   "cell_type": "code",
   "execution_count": 27,
   "metadata": {},
   "outputs": [
    {
     "data": {
      "image/png": "[encoded data removed]",
      "text/plain": [
       "<Figure size 720x720 with 26 Axes>"
      ]
     },
     "metadata": {
      "needs_background": "light"
     },
     "output_type": "display_data"
    }
   ],
   "source": [
    "plot_objective(result=fm_, plot_dims=dim_names)\n",
    "plt.show()"
   ]
  },
  {
   "cell_type": "markdown",
   "metadata": {},
   "source": [
    "## Evaluation order\n",
    "\n",
    "[plot_evaluations](https://scikit-optimize.readthedocs.io/en/latest/modules/generated/skopt.plots.plot_evaluations.html)"
   ]
  },
  {
   "cell_type": "code",
   "execution_count": 28,
   "metadata": {},
   "outputs": [
    {
     "data": {
      "image/png": "[encoded data removed]",
      "text/plain": [
       "<Figure size 720x720 with 26 Axes>"
      ]
     },
     "metadata": {
      "needs_background": "light"
     },
     "output_type": "display_data"
    }
   ],
   "source": [
    "plot_evaluations(result=fm_, plot_dims=dim_names)\n",
    "plt.show()"
   ]
  },
  {
   "cell_type": "markdown",
   "metadata": {
    "_cell_guid": "e758621d-b27b-40ff-a93f-bebd2e0e5243",
    "_uuid": "0a1834f2a9f2db15dcaba4a84004b9627d714469"
   },
   "source": [
    "# Evaluate the model"
   ]
  },
  {
   "cell_type": "code",
   "execution_count": 29,
   "metadata": {},
   "outputs": [],
   "source": [
    "# load best model\n",
    "\n",
    "model = load_model(path_best_model)"
   ]
  },
  {
   "cell_type": "code",
   "execution_count": 30,
   "metadata": {},
   "outputs": [
    {
     "name": "stdout",
     "output_type": "stream",
     "text": [
      "\u001b[1m132/132\u001b[0m \u001b[32m━━━━━━━━━━━━━━━━━━━━\u001b[0m\u001b[37m\u001b[0m \u001b[1m4s\u001b[0m 23ms/step - accuracy: 0.9869 - loss: 0.0432\n"
     ]
    }
   ],
   "source": [
    "# make predictions in test set\n",
    "\n",
    "result = model.evaluate(x=X_test,\n",
    "                        y=y_test)"
   ]
  },
  {
   "cell_type": "code",
   "execution_count": 31,
   "metadata": {},
   "outputs": [
    {
     "name": "stdout",
     "output_type": "stream",
     "text": [
      "loss 0.04743776097893715\n",
      "compile_metrics 0.9854761958122253\n"
     ]
    }
   ],
   "source": [
    "# print evaluation metrics\n",
    "\n",
    "for name, value in zip(model.metrics_names, result):\n",
    "    print(name, value)"
   ]
  },
  {
   "cell_type": "markdown",
   "metadata": {
    "_cell_guid": "5688faa0-b33b-4e92-b125-7fa0b37e7df3",
    "_uuid": "3306d29b732341663e50866140dc569360701a81"
   },
   "source": [
    "## Confusion matrix"
   ]
  },
  {
   "cell_type": "code",
   "execution_count": 32,
   "metadata": {},
   "outputs": [
    {
     "name": "stdout",
     "output_type": "stream",
     "text": [
      "\u001b[1m132/132\u001b[0m \u001b[32m━━━━━━━━━━━━━━━━━━━━\u001b[0m\u001b[37m\u001b[0m \u001b[1m2s\u001b[0m 16ms/step\n"
     ]
    },
    {
     "data": {
      "text/plain": [
       "array([[420,   0,   0,   0,   0,   0,   1,   0,   1,   0],\n",
       "       [  0, 464,   2,   0,   3,   0,   1,   1,   2,   0],\n",
       "       [  0,   0, 406,   0,   0,   0,   0,   1,   2,   0],\n",
       "       [  0,   0,   1, 422,   0,   1,   0,   1,   1,   0],\n",
       "       [  0,   0,   1,   0, 414,   0,   2,   1,   1,  10],\n",
       "       [  0,   0,   0,   0,   0, 380,   2,   0,   0,   0],\n",
       "       [  0,   0,   0,   0,   1,   0, 410,   0,   1,   0],\n",
       "       [  0,   0,   7,   1,   1,   0,   0, 456,   0,   4],\n",
       "       [  0,   1,   0,   0,   0,   0,   3,   0, 380,   0],\n",
       "       [  1,   0,   1,   0,   3,   1,   0,   1,   0, 387]], dtype=int64)"
      ]
     },
     "execution_count": 32,
     "metadata": {},
     "output_type": "execute_result"
    }
   ],
   "source": [
    "# Predict the values from the validation dataset\n",
    "y_pred = model.predict(X_test)\n",
    "\n",
    "# Convert predictions classes to one hot vectors \n",
    "y_pred_classes = np.argmax(y_pred, axis = 1)\n",
    "\n",
    "# Convert validation observations to one hot vectors\n",
    "y_true = np.argmax(y_test, axis = 1)\n",
    "\n",
    "# compute the confusion matrix\n",
    "cm = confusion_matrix(y_true, y_pred_classes) \n",
    "\n",
    "cm"
   ]
  },
  {
   "cell_type": "code",
   "execution_count": 33,
   "metadata": {
    "_cell_guid": "11361e73-8250-4bf5-a353-b0f8ea83e659",
    "_execution_state": "idle",
    "_uuid": "16e161179bf1b51ba66c39b2cead883f1db3a9c7"
   },
   "outputs": [
    {
     "data": {
      "text/plain": [
       "Text(0.5, 13.421126458070312, 'Predicted label')"
      ]
     },
     "execution_count": 33,
     "metadata": {},
     "output_type": "execute_result"
    },
    {
     "data": {
      "image/png": "[encoded data removed]",
      "text/plain": [
       "<Figure size 432x288 with 2 Axes>"
      ]
     },
     "metadata": {
      "needs_background": "light"
     },
     "output_type": "display_data"
    }
   ],
   "source": [
    "# let's make it more colourful\n",
    "classes = 10\n",
    "\n",
    "plt.imshow(cm, interpolation='nearest', cmap=plt.cm.Blues)\n",
    "plt.title('Confusion matrix')\n",
    "plt.colorbar()\n",
    "tick_marks = np.arange(classes)\n",
    "plt.xticks(tick_marks, range(classes), rotation=45)\n",
    "plt.yticks(tick_marks, range(classes))\n",
    "\n",
    "for i, j in itertools.product(range(cm.shape[0]), range(cm.shape[1])):\n",
    "    plt.text(j, i, cm[i, j],\n",
    "             horizontalalignment=\"center\",\n",
    "             color=\"white\" if cm[i, j] > 100 else \"black\",\n",
    "            )\n",
    "\n",
    "plt.tight_layout()\n",
    "plt.ylabel('True label')\n",
    "plt.xlabel('Predicted label')"
   ]
  },
  {
   "cell_type": "markdown",
   "metadata": {
    "_cell_guid": "1b8a5cdc-9122-4e31-b9fa-0f6b57d33fc8",
    "_uuid": "ecb928433299b163ecc1f6c4e66d4ddcf38fe898"
   },
   "source": [
    "Here we can see that our CNN performs very well on all digits.\n",
    "\n",
    "#  References\n",
    "\n",
    "This notebook was based on these resources:\n",
    "\n",
    "- [TensorFlow Tutorial #19](https://github.com/Hvass-Labs/TensorFlow-Tutorials/blob/master/19_Hyper-Parameters.ipynb)\n",
    "- [Introduction to CNN Keras - 0.997 (top 6%)](https://www.kaggle.com/yassineghouzam/introduction-to-cnn-keras-0-997-top-6)\n",
    "- [Keras](https://keras.io/)\n",
    "\n",
    "\n",
    "# Exploring the Scikit-Optimize minimizer"
   ]
  },
  {
   "cell_type": "code",
   "execution_count": 34,
   "metadata": {},
   "outputs": [
    {
     "data": {
      "text/plain": [
       "          fun: -0.9854497313499451\n",
       "            x: [0.002050121808932863, 3, 4, 439, 'relu']\n",
       "    func_vals: [-5.468e-01 -8.220e-01 ... -9.772e-01 -9.849e-01]\n",
       "      x_iters: [[1e-05, 1, 1, 16, 'relu'], [0.00023516813385771865, 1, 4, 256, 'sigmoid'], [4.950159553733197e-05, 2, 3, 297, 'relu'], [1.6859780231705853e-06, 1, 3, 198, 'sigmoid'], [0.00013049073550362405, 1, 2, 170, 'sigmoid'], [2.2365810539197545e-05, 1, 4, 469, 'sigmoid'], [0.0012960656597279748, 1, 3, 104, 'sigmoid'], [7.01321977994579e-05, 3, 1, 454, 'relu'], [0.006007249475906207, 3, 5, 156, 'relu'], [0.0012500712230836273, 1, 3, 133, 'relu'], [0.0002954894558726686, 3, 1, 249, 'relu'], [0.0002710263169673578, 3, 4, 509, 'relu'], [0.0009691210060115652, 3, 4, 501, 'relu'], [0.0025470877794476093, 1, 5, 392, 'relu'], [0.002166778910695933, 3, 5, 372, 'relu'], [0.007974918397401269, 3, 5, 365, 'relu'], [0.0022009944671898688, 3, 4, 451, 'relu'], [0.005129263455771494, 3, 4, 417, 'relu'], [0.002225759485955597, 3, 4, 501, 'relu'], [0.0019047327377780818, 3, 5, 475, 'relu'], [0.002050121808932863, 3, 4, 439, 'relu'], [0.0027367273859103193, 3, 4, 460, 'relu'], [0.002722547325689108, 3, 5, 506, 'relu'], [0.0016656033192772356, 3, 5, 418, 'relu'], [0.003360244507251606, 3, 4, 501, 'relu'], [0.002855475839033937, 3, 4, 439, 'relu'], [0.0015967952645124658, 3, 4, 429, 'relu'], [0.002085048582950504, 3, 5, 426, 'relu'], [0.0015048438972007797, 3, 4, 424, 'relu'], [0.0021126497038601254, 3, 4, 416, 'relu']]\n",
       "       models: [ExtraTreesRegressor(min_samples_leaf=3, n_estimators=100,\n",
       "                                   random_state=209652396), ExtraTreesRegressor(min_samples_leaf=3, n_estimators=100,\n",
       "                                   random_state=209652396), ExtraTreesRegressor(min_samples_leaf=3, n_estimators=100,\n",
       "                                   random_state=209652396), ExtraTreesRegressor(min_samples_leaf=3, n_estimators=100,\n",
       "                                   random_state=209652396), ExtraTreesRegressor(min_samples_leaf=3, n_estimators=100,\n",
       "                                   random_state=209652396), ExtraTreesRegressor(min_samples_leaf=3, n_estimators=100,\n",
       "                                   random_state=209652396), ExtraTreesRegressor(min_samples_leaf=3, n_estimators=100,\n",
       "                                   random_state=209652396), ExtraTreesRegressor(min_samples_leaf=3, n_estimators=100,\n",
       "                                   random_state=209652396), ExtraTreesRegressor(min_samples_leaf=3, n_estimators=100,\n",
       "                                   random_state=209652396), ExtraTreesRegressor(min_samples_leaf=3, n_estimators=100,\n",
       "                                   random_state=209652396), ExtraTreesRegressor(min_samples_leaf=3, n_estimators=100,\n",
       "                                   random_state=209652396), ExtraTreesRegressor(min_samples_leaf=3, n_estimators=100,\n",
       "                                   random_state=209652396), ExtraTreesRegressor(min_samples_leaf=3, n_estimators=100,\n",
       "                                   random_state=209652396), ExtraTreesRegressor(min_samples_leaf=3, n_estimators=100,\n",
       "                                   random_state=209652396), ExtraTreesRegressor(min_samples_leaf=3, n_estimators=100,\n",
       "                                   random_state=209652396), ExtraTreesRegressor(min_samples_leaf=3, n_estimators=100,\n",
       "                                   random_state=209652396), ExtraTreesRegressor(min_samples_leaf=3, n_estimators=100,\n",
       "                                   random_state=209652396), ExtraTreesRegressor(min_samples_leaf=3, n_estimators=100,\n",
       "                                   random_state=209652396), ExtraTreesRegressor(min_samples_leaf=3, n_estimators=100,\n",
       "                                   random_state=209652396), ExtraTreesRegressor(min_samples_leaf=3, n_estimators=100,\n",
       "                                   random_state=209652396)]\n",
       "        space: Space([Real(low=1e-06, high=0.01, prior='log-uniform', transform='identity'),\n",
       "                      Integer(low=1, high=3, prior='uniform', transform='identity'),\n",
       "                      Integer(low=1, high=5, prior='uniform', transform='identity'),\n",
       "                      Integer(low=5, high=512, prior='uniform', transform='identity'),\n",
       "                      Categorical(categories=('relu', 'sigmoid'), prior=None)])\n",
       " random_state: RandomState(MT19937)\n",
       "        specs:     args:                    func: <function objective at 0x00000263C5C6F640>\n",
       "                                      dimensions: [Real(low=1e-06, high=0.01, prior='log-uniform', transform='identity'), Integer(low=1, high=3, prior='uniform', transform='identity'), Integer(low=1, high=5, prior='uniform', transform='identity'), Integer(low=5, high=512, prior='uniform', transform='identity'), Categorical(categories=('relu', 'sigmoid'), prior=None)]\n",
       "                                  base_estimator: ET\n",
       "                                         n_calls: 30\n",
       "                                 n_random_starts: None\n",
       "                                n_initial_points: 10\n",
       "                         initial_point_generator: random\n",
       "                                        acq_func: EI\n",
       "                                   acq_optimizer: sampling\n",
       "                                              x0: [1e-05, 1, 1, 16, 'relu']\n",
       "                                              y0: None\n",
       "                                    random_state: 0\n",
       "                                         verbose: False\n",
       "                                        callback: None\n",
       "                                        n_points: 10000\n",
       "                            n_restarts_optimizer: 5\n",
       "                                              xi: 0.01\n",
       "                                           kappa: 1.96\n",
       "                                          n_jobs: 1\n",
       "                                model_queue_size: None\n",
       "                                space_constraint: None\n",
       "               function: base_minimize"
      ]
     },
     "execution_count": 34,
     "metadata": {},
     "output_type": "execute_result"
    }
   ],
   "source": [
    "fm_"
   ]
  },
  {
   "cell_type": "code",
   "execution_count": 35,
   "metadata": {},
   "outputs": [
    {
     "data": {
      "text/plain": [
       "array([-0.54682541, -0.82195765, -0.93677247, -0.09973545, -0.68042326,\n",
       "       -0.09973545, -0.11455026, -0.96455026, -0.11455026, -0.97936505,\n",
       "       -0.97777778, -0.97671956, -0.98386246, -0.97857141, -0.978836  ,\n",
       "       -0.11455026, -0.98015875, -0.11455026, -0.97936505, -0.98042327,\n",
       "       -0.98544973, -0.97354496, -0.97936505, -0.978836  , -0.9595238 ,\n",
       "       -0.11455026, -0.97222221, -0.97645503, -0.97724867, -0.98492062])"
      ]
     },
     "execution_count": 35,
     "metadata": {},
     "output_type": "execute_result"
    }
   ],
   "source": [
    "# the accuracy\n",
    "\n",
    "fm_.func_vals"
   ]
  },
  {
   "cell_type": "code",
   "execution_count": 36,
   "metadata": {},
   "outputs": [
    {
     "data": {
      "text/plain": [
       "[[1e-05, 1, 1, 16, 'relu'],\n",
       " [0.00023516813385771865, 1, 4, 256, 'sigmoid'],\n",
       " [4.950159553733197e-05, 2, 3, 297, 'relu'],\n",
       " [1.6859780231705853e-06, 1, 3, 198, 'sigmoid'],\n",
       " [0.00013049073550362405, 1, 2, 170, 'sigmoid'],\n",
       " [2.2365810539197545e-05, 1, 4, 469, 'sigmoid'],\n",
       " [0.0012960656597279748, 1, 3, 104, 'sigmoid'],\n",
       " [7.01321977994579e-05, 3, 1, 454, 'relu'],\n",
       " [0.006007249475906207, 3, 5, 156, 'relu'],\n",
       " [0.0012500712230836273, 1, 3, 133, 'relu'],\n",
       " [0.0002954894558726686, 3, 1, 249, 'relu'],\n",
       " [0.0002710263169673578, 3, 4, 509, 'relu'],\n",
       " [0.0009691210060115652, 3, 4, 501, 'relu'],\n",
       " [0.0025470877794476093, 1, 5, 392, 'relu'],\n",
       " [0.002166778910695933, 3, 5, 372, 'relu'],\n",
       " [0.007974918397401269, 3, 5, 365, 'relu'],\n",
       " [0.0022009944671898688, 3, 4, 451, 'relu'],\n",
       " [0.005129263455771494, 3, 4, 417, 'relu'],\n",
       " [0.002225759485955597, 3, 4, 501, 'relu'],\n",
       " [0.0019047327377780818, 3, 5, 475, 'relu'],\n",
       " [0.002050121808932863, 3, 4, 439, 'relu'],\n",
       " [0.0027367273859103193, 3, 4, 460, 'relu'],\n",
       " [0.002722547325689108, 3, 5, 506, 'relu'],\n",
       " [0.0016656033192772356, 3, 5, 418, 'relu'],\n",
       " [0.003360244507251606, 3, 4, 501, 'relu'],\n",
       " [0.002855475839033937, 3, 4, 439, 'relu'],\n",
       " [0.0015967952645124658, 3, 4, 429, 'relu'],\n",
       " [0.002085048582950504, 3, 5, 426, 'relu'],\n",
       " [0.0015048438972007797, 3, 4, 424, 'relu'],\n",
       " [0.0021126497038601254, 3, 4, 416, 'relu']]"
      ]
     },
     "execution_count": 36,
     "metadata": {},
     "output_type": "execute_result"
    }
   ],
   "source": [
    "# the hyperparameter combinations\n",
    "\n",
    "fm_.x_iters"
   ]
  },
  {
   "cell_type": "code",
   "execution_count": 37,
   "metadata": {},
   "outputs": [
    {
     "data": {
      "text/html": [
       "<div>\n",
       "<style scoped>\n",
       "    .dataframe tbody tr th:only-of-type {\n",
       "        vertical-align: middle;\n",
       "    }\n",
       "\n",
       "    .dataframe tbody tr th {\n",
       "        vertical-align: top;\n",
       "    }\n",
       "\n",
       "    .dataframe thead th {\n",
       "        text-align: right;\n",
       "    }\n",
       "</style>\n",
       "<table border=\"1\" class=\"dataframe\">\n",
       "  <thead>\n",
       "    <tr style=\"text-align: right;\">\n",
       "      <th></th>\n",
       "      <th>learning_rate</th>\n",
       "      <th>num_conv_layers</th>\n",
       "      <th>num_dense_layers</th>\n",
       "      <th>num_dense_nodes</th>\n",
       "      <th>activation</th>\n",
       "      <th>accuracy</th>\n",
       "    </tr>\n",
       "  </thead>\n",
       "  <tbody>\n",
       "    <tr>\n",
       "      <th>0</th>\n",
       "      <td>0.000010</td>\n",
       "      <td>1</td>\n",
       "      <td>1</td>\n",
       "      <td>16</td>\n",
       "      <td>relu</td>\n",
       "      <td>-0.546825</td>\n",
       "    </tr>\n",
       "    <tr>\n",
       "      <th>1</th>\n",
       "      <td>0.000235</td>\n",
       "      <td>1</td>\n",
       "      <td>4</td>\n",
       "      <td>256</td>\n",
       "      <td>sigmoid</td>\n",
       "      <td>-0.821958</td>\n",
       "    </tr>\n",
       "    <tr>\n",
       "      <th>2</th>\n",
       "      <td>0.000050</td>\n",
       "      <td>2</td>\n",
       "      <td>3</td>\n",
       "      <td>297</td>\n",
       "      <td>relu</td>\n",
       "      <td>-0.936772</td>\n",
       "    </tr>\n",
       "    <tr>\n",
       "      <th>3</th>\n",
       "      <td>0.000002</td>\n",
       "      <td>1</td>\n",
       "      <td>3</td>\n",
       "      <td>198</td>\n",
       "      <td>sigmoid</td>\n",
       "      <td>-0.099735</td>\n",
       "    </tr>\n",
       "    <tr>\n",
       "      <th>4</th>\n",
       "      <td>0.000130</td>\n",
       "      <td>1</td>\n",
       "      <td>2</td>\n",
       "      <td>170</td>\n",
       "      <td>sigmoid</td>\n",
       "      <td>-0.680423</td>\n",
       "    </tr>\n",
       "  </tbody>\n",
       "</table>\n",
       "</div>"
      ],
      "text/plain": [
       "   learning_rate  num_conv_layers  num_dense_layers  num_dense_nodes  \\\n",
       "0       0.000010                1                 1               16   \n",
       "1       0.000235                1                 4              256   \n",
       "2       0.000050                2                 3              297   \n",
       "3       0.000002                1                 3              198   \n",
       "4       0.000130                1                 2              170   \n",
       "\n",
       "  activation  accuracy  \n",
       "0       relu -0.546825  \n",
       "1    sigmoid -0.821958  \n",
       "2       relu -0.936772  \n",
       "3    sigmoid -0.099735  \n",
       "4    sigmoid -0.680423  "
      ]
     },
     "execution_count": 37,
     "metadata": {},
     "output_type": "execute_result"
    }
   ],
   "source": [
    "# all together in one dataframe, so we can investigate further\n",
    "\n",
    "tmp = pd.concat([\n",
    "    pd.DataFrame(fm_.x_iters),\n",
    "    pd.Series(fm_.func_vals),\n",
    "], axis=1)\n",
    "\n",
    "tmp.columns = dim_names + ['accuracy']\n",
    "tmp.head()"
   ]
  },
  {
   "cell_type": "code",
   "execution_count": 38,
   "metadata": {},
   "outputs": [
    {
     "data": {
      "text/html": [
       "<div>\n",
       "<style scoped>\n",
       "    .dataframe tbody tr th:only-of-type {\n",
       "        vertical-align: middle;\n",
       "    }\n",
       "\n",
       "    .dataframe tbody tr th {\n",
       "        vertical-align: top;\n",
       "    }\n",
       "\n",
       "    .dataframe thead th {\n",
       "        text-align: right;\n",
       "    }\n",
       "</style>\n",
       "<table border=\"1\" class=\"dataframe\">\n",
       "  <thead>\n",
       "    <tr style=\"text-align: right;\">\n",
       "      <th></th>\n",
       "      <th>learning_rate</th>\n",
       "      <th>num_conv_layers</th>\n",
       "      <th>num_dense_layers</th>\n",
       "      <th>num_dense_nodes</th>\n",
       "      <th>activation</th>\n",
       "      <th>accuracy</th>\n",
       "    </tr>\n",
       "  </thead>\n",
       "  <tbody>\n",
       "    <tr>\n",
       "      <th>20</th>\n",
       "      <td>0.002050</td>\n",
       "      <td>3</td>\n",
       "      <td>4</td>\n",
       "      <td>439</td>\n",
       "      <td>relu</td>\n",
       "      <td>-0.985450</td>\n",
       "    </tr>\n",
       "    <tr>\n",
       "      <th>29</th>\n",
       "      <td>0.002113</td>\n",
       "      <td>3</td>\n",
       "      <td>4</td>\n",
       "      <td>416</td>\n",
       "      <td>relu</td>\n",
       "      <td>-0.984921</td>\n",
       "    </tr>\n",
       "    <tr>\n",
       "      <th>12</th>\n",
       "      <td>0.000969</td>\n",
       "      <td>3</td>\n",
       "      <td>4</td>\n",
       "      <td>501</td>\n",
       "      <td>relu</td>\n",
       "      <td>-0.983862</td>\n",
       "    </tr>\n",
       "    <tr>\n",
       "      <th>19</th>\n",
       "      <td>0.001905</td>\n",
       "      <td>3</td>\n",
       "      <td>5</td>\n",
       "      <td>475</td>\n",
       "      <td>relu</td>\n",
       "      <td>-0.980423</td>\n",
       "    </tr>\n",
       "    <tr>\n",
       "      <th>16</th>\n",
       "      <td>0.002201</td>\n",
       "      <td>3</td>\n",
       "      <td>4</td>\n",
       "      <td>451</td>\n",
       "      <td>relu</td>\n",
       "      <td>-0.980159</td>\n",
       "    </tr>\n",
       "    <tr>\n",
       "      <th>22</th>\n",
       "      <td>0.002723</td>\n",
       "      <td>3</td>\n",
       "      <td>5</td>\n",
       "      <td>506</td>\n",
       "      <td>relu</td>\n",
       "      <td>-0.979365</td>\n",
       "    </tr>\n",
       "    <tr>\n",
       "      <th>18</th>\n",
       "      <td>0.002226</td>\n",
       "      <td>3</td>\n",
       "      <td>4</td>\n",
       "      <td>501</td>\n",
       "      <td>relu</td>\n",
       "      <td>-0.979365</td>\n",
       "    </tr>\n",
       "    <tr>\n",
       "      <th>9</th>\n",
       "      <td>0.001250</td>\n",
       "      <td>1</td>\n",
       "      <td>3</td>\n",
       "      <td>133</td>\n",
       "      <td>relu</td>\n",
       "      <td>-0.979365</td>\n",
       "    </tr>\n",
       "    <tr>\n",
       "      <th>23</th>\n",
       "      <td>0.001666</td>\n",
       "      <td>3</td>\n",
       "      <td>5</td>\n",
       "      <td>418</td>\n",
       "      <td>relu</td>\n",
       "      <td>-0.978836</td>\n",
       "    </tr>\n",
       "    <tr>\n",
       "      <th>14</th>\n",
       "      <td>0.002167</td>\n",
       "      <td>3</td>\n",
       "      <td>5</td>\n",
       "      <td>372</td>\n",
       "      <td>relu</td>\n",
       "      <td>-0.978836</td>\n",
       "    </tr>\n",
       "  </tbody>\n",
       "</table>\n",
       "</div>"
      ],
      "text/plain": [
       "    learning_rate  num_conv_layers  num_dense_layers  num_dense_nodes  \\\n",
       "20       0.002050                3                 4              439   \n",
       "29       0.002113                3                 4              416   \n",
       "12       0.000969                3                 4              501   \n",
       "19       0.001905                3                 5              475   \n",
       "16       0.002201                3                 4              451   \n",
       "22       0.002723                3                 5              506   \n",
       "18       0.002226                3                 4              501   \n",
       "9        0.001250                1                 3              133   \n",
       "23       0.001666                3                 5              418   \n",
       "14       0.002167                3                 5              372   \n",
       "\n",
       "   activation  accuracy  \n",
       "20       relu -0.985450  \n",
       "29       relu -0.984921  \n",
       "12       relu -0.983862  \n",
       "19       relu -0.980423  \n",
       "16       relu -0.980159  \n",
       "22       relu -0.979365  \n",
       "18       relu -0.979365  \n",
       "9        relu -0.979365  \n",
       "23       relu -0.978836  \n",
       "14       relu -0.978836  "
      ]
     },
     "execution_count": 38,
     "metadata": {},
     "output_type": "execute_result"
    }
   ],
   "source": [
    "tmp.sort_values(by='accuracy', ascending=True, inplace=True)\n",
    "tmp.head(10)"
   ]
  },
  {
   "cell_type": "code",
   "execution_count": null,
   "metadata": {},
   "outputs": [],
   "source": []
  }
 ],
 "metadata": {
  "kernelspec": {
   "display_name": "fsml",
   "language": "python",
   "name": "fsml"
  },
  "language_info": {
   "codemirror_mode": {
    "name": "ipython",
    "version": 3
   },
   "file_extension": ".py",
   "mimetype": "text/x-python",
   "name": "python",
   "nbconvert_exporter": "python",
   "pygments_lexer": "ipython3",
   "version": "3.10.5"
  },
  "toc": {
   "base_numbering": 1,
   "nav_menu": {},
   "number_sections": true,
   "sideBar": true,
   "skip_h1_title": false,
   "title_cell": "Table of Contents",
   "title_sidebar": "Contents",
   "toc_cell": false,
   "toc_position": {
    "height": "calc(100% - 180px)",
    "left": "10px",
    "top": "150px",
    "width": "288.467px"
   },
   "toc_section_display": true,
   "toc_window_display": true
  }
 },
 "nbformat": 4,
 "nbformat_minor": 2
}
