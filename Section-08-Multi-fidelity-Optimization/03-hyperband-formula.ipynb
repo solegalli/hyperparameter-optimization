{
 "cells": [
  {
   "cell_type": "markdown",
   "id": "3b2dcd94",
   "metadata": {},
   "source": [
    "# Hyperband\n",
    "\n",
    "In the notebook, the code implementation of the pseudo-code, to understand how the different rounds of successive halving are created.\n",
    "\n",
    "Credit to the developers of hyperband:\n",
    "    \n",
    "https://homes.cs.washington.edu/~jamieson/hyperband.html"
   ]
  },
  {
   "cell_type": "code",
   "execution_count": 1,
   "id": "ef9d1d8e",
   "metadata": {},
   "outputs": [
    {
     "name": "stdout",
     "output_type": "stream",
     "text": [
      "81 1.0 4\n",
      "27.0 3.0 4\n",
      "9.0 9.0 4\n",
      "3.0 27.0 4\n",
      "1.0 81.0 4\n",
      "\n",
      "27 3.0 3\n",
      "9.0 9.0 3\n",
      "3.0 27.0 3\n",
      "1.0 81.0 3\n",
      "\n",
      "9 9.0 2\n",
      "3.0 27.0 2\n",
      "1.0 81.0 2\n",
      "\n",
      "6 27.0 1\n",
      "2.0 81.0 1\n",
      "\n",
      "5 81 0\n",
      "\n"
     ]
    }
   ],
   "source": [
    "from numpy import log, ceil\n",
    "\n",
    "# maximum resource, i.e., iterations/epochs per configuration\n",
    "Resource = 81\n",
    "\n",
    "# halving rate\n",
    "eta = 3                        \n",
    "\n",
    "# number of unique executions of Successive Halving (minus one)\n",
    "s_max = int(log(Resource)/log(eta))\n",
    "\n",
    "# total number of iterations (without reuse) per execution of Succesive Halving (n,r)\n",
    "Budget = (s_max+1)*Resource\n",
    "\n",
    "for s in reversed(range(s_max+1)):\n",
    "    \n",
    "    # initial number of configurations\n",
    "    n = int(ceil(int(Budget / Resource/ (s+1)) * eta**s))\n",
    "    \n",
    "    # initial number of iterations to run configurations for\n",
    "    r = Resource*eta**(-s)\n",
    "\n",
    "#     T = [ get_random_hyperparameter_configuration() for i in range(n) ]\n",
    "    for i in range(s+1):\n",
    "        # Run each of the n_i configs for r_i iterations and keep best n_i/eta\n",
    "        n_i = n*eta**(-i)\n",
    "        r_i = r*eta**(i)\n",
    "#         val_losses = [ run_then_return_val_loss(num_iters=r_i,hyperparameters=t) for t in T ]\n",
    "#         T = [ T[i] for i in argsort(val_losses)[0:int( n_i/eta )] ]\n",
    "        print(n_i, r_i, s)\n",
    "    print()"
   ]
  },
  {
   "cell_type": "code",
   "execution_count": null,
   "id": "ddb26dbe",
   "metadata": {},
   "outputs": [],
   "source": []
  }
 ],
 "metadata": {
  "kernelspec": {
   "display_name": "fsml",
   "language": "python",
   "name": "fsml"
  },
  "language_info": {
   "codemirror_mode": {
    "name": "ipython",
    "version": 3
   },
   "file_extension": ".py",
   "mimetype": "text/x-python",
   "name": "python",
   "nbconvert_exporter": "python",
   "pygments_lexer": "ipython3",
   "version": "3.10.5"
  },
  "toc": {
   "base_numbering": 1,
   "nav_menu": {},
   "number_sections": true,
   "sideBar": true,
   "skip_h1_title": false,
   "title_cell": "Table of Contents",
   "title_sidebar": "Contents",
   "toc_cell": false,
   "toc_position": {},
   "toc_section_display": true,
   "toc_window_display": false
  }
 },
 "nbformat": 4,
 "nbformat_minor": 5
}
